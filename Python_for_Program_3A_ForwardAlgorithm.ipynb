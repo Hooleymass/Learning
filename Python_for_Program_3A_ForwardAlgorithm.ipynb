{
  "cells": [
    {
      "cell_type": "markdown",
      "metadata": {
        "id": "view-in-github",
        "colab_type": "text"
      },
      "source": [
        "<a href=\"https://colab.research.google.com/github/Hooleymass/Learning/blob/master/Python_for_Program_3A_ForwardAlgorithm.ipynb\" target=\"_parent\"><img src=\"https://colab.research.google.com/assets/colab-badge.svg\" alt=\"Open In Colab\"/></a>"
      ]
    },
    {
      "cell_type": "markdown",
      "metadata": {
        "id": "S8ZrWxQHntiW"
      },
      "source": [
        "# A Python Framework for Programming 1A through 3A"
      ]
    },
    {
      "cell_type": "code",
      "execution_count": null,
      "metadata": {
        "colab": {
          "base_uri": "https://localhost:8080/"
        },
        "id": "P3tX1OPisTrp",
        "outputId": "5e00b37f-1e90-43fb-9b55-32706cbf1bb2"
      },
      "outputs": [
        {
          "name": "stdout",
          "output_type": "stream",
          "text": [
            "Requirement already satisfied: pip in /usr/local/lib/python3.10/dist-packages (23.3.1)\n",
            "\u001b[33mWARNING: Running pip as the 'root' user can result in broken permissions and conflicting behaviour with the system package manager. It is recommended to use a virtual environment instead: https://pip.pypa.io/warnings/venv\u001b[0m\u001b[33m\n",
            "\u001b[0mRequirement already satisfied: numpy in /usr/local/lib/python3.10/dist-packages (1.23.5)\n",
            "\u001b[33mWARNING: Running pip as the 'root' user can result in broken permissions and conflicting behaviour with the system package manager. It is recommended to use a virtual environment instead: https://pip.pypa.io/warnings/venv\u001b[0m\u001b[33m\n",
            "\u001b[0m"
          ]
        }
      ],
      "source": [
        "!pip install --upgrade pip\n",
        "!pip install numpy"
      ]
    },
    {
      "cell_type": "code",
      "execution_count": null,
      "metadata": {
        "id": "reygz9nGntir"
      },
      "outputs": [],
      "source": [
        "# Paraemter values for the 1D keyboad are stored in global variables; you can change them\n",
        "pr_hit = 0.6\n",
        "pr_miss = 0.4\n",
        "deg_kb = 2\n",
        "\n",
        "pr_repeat = 0.2\n",
        "pr_moveOn = 0.8\n",
        "deg_sp = 2"
      ]
    },
    {
      "cell_type": "markdown",
      "metadata": {
        "id": "o92diXfnnti2"
      },
      "source": [
        "# 1. Key functions implemented so far"
      ]
    },
    {
      "cell_type": "markdown",
      "metadata": {
        "id": "FgGTkaF-nti4"
      },
      "source": [
        "## getPrTableForPossibleInitialStates(lengthOfWord)"
      ]
    },
    {
      "cell_type": "code",
      "execution_count": null,
      "metadata": {
        "colab": {
          "base_uri": "https://localhost:8080/"
        },
        "id": "KbrvNleEnti6",
        "outputId": "bd43f506-bb01-42cb-ab7e-9be633ada192"
      },
      "outputs": [
        {
          "data": {
            "text/plain": [
              "[0.5714285714285714, 0.2857142857142857, 0.14285714285714285]"
            ]
          },
          "execution_count": 311,
          "metadata": {},
          "output_type": "execute_result"
        }
      ],
      "source": [
        "# C++:  getPrTableForPossibleInitialStates(prTable, lengthOfWord):\n",
        "# ==>\n",
        "# Python:void getPrTableForPossibleInitialStates(lengthOfWord):\n",
        "#           return the information in the prTable directly\n",
        "def getPrTableForPossibleInitialStates(lengthOfWord):\n",
        "    missDistance = range( 1, lengthOfWord+1 )\n",
        "    exponentialDegrade = [ (1/deg_sp)**i    for i in missDistance]\n",
        "    scalingConstant = 1 / sum(exponentialDegrade)\n",
        "    return [scalingConstant*degrade for degrade in exponentialDegrade]\n",
        "\n",
        "\n",
        "# Test the function to get the probabilities of the possible first states\n",
        "#      for a word of 3 characters (such as \"his\" in our handout)\n",
        "pr_repeat = 0.2\n",
        "pr_moveOn = 0.8\n",
        "deg_sp = 2\n",
        "getPrTableForPossibleInitialStates(3)"
      ]
    },
    {
      "cell_type": "markdown",
      "metadata": {
        "id": "jj-Toid9ntjE"
      },
      "source": [
        "## getPrTableForPossibleInitialStatesGivenTheWord(Word)"
      ]
    },
    {
      "cell_type": "code",
      "execution_count": null,
      "metadata": {
        "colab": {
          "base_uri": "https://localhost:8080/"
        },
        "id": "Aw-7YLKYntjG",
        "outputId": "b987c52b-1b4d-43ae-9abb-a1dea7d34320"
      },
      "outputs": [
        {
          "data": {
            "text/plain": [
              "[0.5714285714285714, 0.2857142857142857, 0.14285714285714285]"
            ]
          },
          "execution_count": 312,
          "metadata": {},
          "output_type": "execute_result"
        }
      ],
      "source": [
        "# A variant that accomplishes the same thing given a word (as a string)\n",
        "def getPrTableForPossibleInitialStatesGivenTheWord(Word):\n",
        "    missDistance = range( 1, len(Word)+1 )\n",
        "    exponentialDegrade = [ (1/deg_sp)**i    for i in missDistance]\n",
        "    scalingConstant = 1 / sum(exponentialDegrade)\n",
        "    return [scalingConstant*degrade for degrade in exponentialDegrade]\n",
        "\n",
        "\n",
        "# Test the function to get the probabilities of the possible first states\n",
        "#      for the word \"his\"\n",
        "pr_repeat = 0.2\n",
        "pr_moveOn = 0.8\n",
        "deg_sp = 2\n",
        "getPrTableForPossibleInitialStatesGivenTheWord(\"his\")"
      ]
    },
    {
      "cell_type": "markdown",
      "metadata": {
        "id": "RvfzdjFUntjK"
      },
      "source": [
        "## getPrTableForPossibleNextStates(lengthOfWord_Plus1, currentState)"
      ]
    },
    {
      "cell_type": "code",
      "execution_count": null,
      "metadata": {
        "colab": {
          "base_uri": "https://localhost:8080/"
        },
        "id": "CxpskvPnntjN",
        "outputId": "be14e812-65e2-4029-c2fd-dd7abe7b7805"
      },
      "outputs": [
        {
          "data": {
            "text/plain": [
              "[0.2, 0.4571428571428572, 0.2285714285714286, 0.1142857142857143]"
            ]
          },
          "execution_count": 313,
          "metadata": {},
          "output_type": "execute_result"
        }
      ],
      "source": [
        "# C++\n",
        "# void getPrTableForPossibleNextStates(double transitionPrTable[],\n",
        "#                                      int sizeOfTable, int currentState)\n",
        "# ==>\n",
        "# Python\n",
        "# getPrTableForPossibleNextStates(lengthOfWord_Plus1, currentState)\n",
        "# return the transitionPrTable\n",
        "\n",
        "def getPrTableForPossibleNextStates(lengthOfWord_Plus1, currentState):\n",
        "    statesAsIndices = range( lengthOfWord_Plus1 )\n",
        "    distances = [state - currentState for state in statesAsIndices ]\n",
        "    exponentialDegrade = [ (1/deg_sp)**i if i>0 else 0 for i in distances]\n",
        "    scalingConstant = pr_moveOn/sum(exponentialDegrade)\n",
        "    probabilitiesOfPossibleFirstStates = (\n",
        "        [ scalingConstant*degrade for degrade in exponentialDegrade] )\n",
        "    probabilitiesOfPossibleFirstStates[currentState] = pr_repeat\n",
        "    return probabilitiesOfPossibleFirstStates\n",
        "\n",
        "\n",
        "#Test the implementation\n",
        "getPrTableForPossibleNextStates(len(\"his\")+1, 0)"
      ]
    },
    {
      "cell_type": "markdown",
      "metadata": {
        "id": "GN68SAm-ntjQ"
      },
      "source": [
        "## getPrTableForPossibleNextStatesGivenWord(word, currentState)"
      ]
    },
    {
      "cell_type": "code",
      "execution_count": null,
      "metadata": {
        "colab": {
          "base_uri": "https://localhost:8080/"
        },
        "id": "enC4--HJntjS",
        "outputId": "ef4ff8d4-c936-456e-8675-abeeb2305daa"
      },
      "outputs": [
        {
          "data": {
            "text/plain": [
              "[0.2, 0.4571428571428572, 0.2285714285714286, 0.1142857142857143]"
            ]
          },
          "execution_count": 314,
          "metadata": {},
          "output_type": "execute_result"
        }
      ],
      "source": [
        "# A convenient variant\n",
        "# Python\n",
        "# getPrTableForPossibleNextStates(word, int currentState)\n",
        "# return the transitionPrTable\n",
        "\n",
        "def getPrTableForPossibleNextStatesGivenWord(word, currentState):\n",
        "    lengthOfWord_Plus1 =  len(word) +1\n",
        "    statesAsIndices = range( lengthOfWord_Plus1 )\n",
        "    distances = [state - currentState for state in statesAsIndices ]\n",
        "    exponentialDegrade = [ (1/deg_sp)**i if i>0 else 0 for i in distances]\n",
        "    scalingConstant = pr_moveOn/sum(exponentialDegrade)\n",
        "    probabilitiesOfPossibleFirstStates = (\n",
        "        [ scalingConstant*degrade for degrade in exponentialDegrade] )\n",
        "    probabilitiesOfPossibleFirstStates[currentState] = pr_repeat\n",
        "    return probabilitiesOfPossibleFirstStates\n",
        "\n",
        "#Test the implementation\n",
        "currentState = 0\n",
        "getPrTableForPossibleNextStatesGivenWord(\"his\", currentState)"
      ]
    },
    {
      "cell_type": "markdown",
      "metadata": {
        "id": "wgbI5k-mntjX"
      },
      "source": [
        "## prCharGiveCharState(x, y)"
      ]
    },
    {
      "cell_type": "code",
      "execution_count": null,
      "metadata": {
        "id": "S1QkbytUntjZ"
      },
      "outputs": [],
      "source": [
        "#Probability of touching x when trying to type y\n",
        "def prCharGiveCharState(x, y):\n",
        "    if x==y:\n",
        "        return pr_hit\n",
        "\n",
        "    diffASCII = range(1,26)\n",
        "    missdist = [min(n, 26-n) for n in diffASCII ]\n",
        "    exponentialDegrade = [(1/deg_kb)**i for i in missdist]\n",
        "    constant_x= pr_miss/sum(exponentialDegrade)\n",
        "\n",
        "    distASCII_x_y = abs( ord(x) - ord(y) )\n",
        "    distKB_x_y = min(distASCII_x_y, 26-distASCII_x_y )\n",
        "    return constant_x* (1/deg_kb)** distKB_x_y"
      ]
    },
    {
      "cell_type": "code",
      "execution_count": null,
      "metadata": {
        "colab": {
          "base_uri": "https://localhost:8080/"
        },
        "id": "Oyrd1QtPntjc",
        "outputId": "9bbe3399-dfbe-4bc9-edfd-8c959bd23608"
      },
      "outputs": [
        {
          "data": {
            "text/plain": [
              "0.6"
            ]
          },
          "execution_count": 316,
          "metadata": {},
          "output_type": "execute_result"
        }
      ],
      "source": [
        "pr_hit"
      ]
    },
    {
      "cell_type": "code",
      "execution_count": null,
      "metadata": {
        "colab": {
          "base_uri": "https://localhost:8080/"
        },
        "id": "xZ6n-mKJntjg",
        "outputId": "7c6b972d-d19d-4906-94dd-242140248133"
      },
      "outputs": [
        {
          "data": {
            "text/plain": [
              "2"
            ]
          },
          "execution_count": 317,
          "metadata": {},
          "output_type": "execute_result"
        }
      ],
      "source": [
        "deg_kb"
      ]
    },
    {
      "cell_type": "code",
      "execution_count": null,
      "metadata": {
        "colab": {
          "base_uri": "https://localhost:8080/"
        },
        "id": "Cf9lk-2Intjo",
        "outputId": "7548d850-0eff-4026-c596-62827e97c1a2"
      },
      "outputs": [
        {
          "data": {
            "text/plain": [
              "0.1000183139002503"
            ]
          },
          "execution_count": 318,
          "metadata": {},
          "output_type": "execute_result"
        }
      ],
      "source": [
        "prCharGiveCharState('b', 'a')"
      ]
    },
    {
      "cell_type": "code",
      "execution_count": null,
      "metadata": {
        "colab": {
          "base_uri": "https://localhost:8080/"
        },
        "id": "KOyVGKwEntjs",
        "outputId": "09910ba6-b1c3-46d5-ea17-156691851edc"
      },
      "outputs": [
        {
          "data": {
            "text/plain": [
              "0.05000915695012515"
            ]
          },
          "execution_count": 319,
          "metadata": {},
          "output_type": "execute_result"
        }
      ],
      "source": [
        "prCharGiveCharState('c', 'a')"
      ]
    },
    {
      "cell_type": "markdown",
      "metadata": {
        "id": "dqit_AMIntjx"
      },
      "source": [
        "## take1SampleFrom1PrSpace"
      ]
    },
    {
      "cell_type": "code",
      "execution_count": null,
      "metadata": {
        "colab": {
          "base_uri": "https://localhost:8080/"
        },
        "id": "kq6YAMgEntj1",
        "outputId": "ed876526-5f5a-4c5e-b418-aa9abfcc4f98"
      },
      "outputs": [
        {
          "data": {
            "text/plain": [
              "[1, 0, 1, 0, 1, 2, 2, 2, 0, 1, 2, 0, 1, 1, 0, 1, 2, 0, 1, 1]"
            ]
          },
          "execution_count": 320,
          "metadata": {},
          "output_type": "execute_result"
        }
      ],
      "source": [
        "# C++: int take1SampleFrom1PrSpace(double prTable[], int sizeOfTable)\n",
        "# ==>\n",
        "# Python: take1SampleFrom1PrSpace(prTable)\n",
        "#  the size of the table can be implicitly determined\n",
        "def take1SampleFrom1PrSpace(prTable):\n",
        "    probabilityThresholds = np.add.accumulate(prTable)\n",
        "    sample = np.random.random()\n",
        "    choice = (sample > probabilityThresholds).sum()\n",
        "    # print(\"Sample=\", sample, \",\\t choice=\", choice)\n",
        "    return choice\n",
        "\n",
        "\n",
        "import numpy as np\n",
        "prTable = np.array([0.25, 0.5, 0.25])\n",
        "[take1SampleFrom1PrSpace(prTable) for i in range(20)]"
      ]
    },
    {
      "cell_type": "code",
      "execution_count": null,
      "metadata": {
        "colab": {
          "base_uri": "https://localhost:8080/"
        },
        "id": "ldrd_Grtntj8",
        "outputId": "7e12d88d-e2b6-41d0-e0c6-eda7310e992e"
      },
      "outputs": [
        {
          "data": {
            "text/plain": [
              "array([0.250309, 0.499549, 0.250142])"
            ]
          },
          "execution_count": 321,
          "metadata": {},
          "output_type": "execute_result"
        }
      ],
      "source": [
        "#Use bin count to check empirical frequencies observed\n",
        "np.bincount( [take1SampleFrom1PrSpace(prTable) for i in range(1000000)] )/1000000"
      ]
    },
    {
      "cell_type": "markdown",
      "metadata": {
        "id": "FlyDmdUGntkD"
      },
      "source": [
        "## getKeyboardProbabilityTable\n",
        "### note: this is a simple variant of prCharGiveCharState(x, y)"
      ]
    },
    {
      "cell_type": "code",
      "execution_count": null,
      "metadata": {
        "colab": {
          "base_uri": "https://localhost:8080/"
        },
        "id": "HxRk7m03ntkI",
        "outputId": "4d39baa4-e27f-4179-cda2-58556db14580"
      },
      "outputs": [
        {
          "data": {
            "text/plain": [
              "array([6.00000000e-01, 1.33333501e-01, 4.44445002e-02, 1.48148334e-02,\n",
              "       4.93827780e-03, 1.64609260e-03, 5.48697533e-04, 1.82899178e-04,\n",
              "       6.09663926e-05, 2.03221309e-05, 6.77404362e-06, 2.25801454e-06,\n",
              "       7.52671513e-07, 2.50890504e-07, 7.52671513e-07, 2.25801454e-06,\n",
              "       6.77404362e-06, 2.03221309e-05, 6.09663926e-05, 1.82899178e-04,\n",
              "       5.48697533e-04, 1.64609260e-03, 4.93827780e-03, 1.48148334e-02,\n",
              "       4.44445002e-02, 1.33333501e-01])"
            ]
          },
          "execution_count": 322,
          "metadata": {},
          "output_type": "execute_result"
        }
      ],
      "source": [
        "#C++: void getKeyboardProbabilityTable(char charToType, double prTable[])\n",
        "#==>\n",
        "#Python: getKeyboardProbabilityTable(charToType)\n",
        "#        to return the probabilities of getting a, b, ..., y, z\n",
        "#        as a numpy array\n",
        "#Note: This is simply a simple variant of prCharGiveCharState(x, y):\n",
        "\n",
        "def getKeyboardProbabilityTable(charToType):\n",
        "    #First determine the scaling constant for the exponential degrading\n",
        "    diffASCII = range(1,26)\n",
        "    missdist = [min(n, 26-n) for n in diffASCII ]\n",
        "    exponentialDegrade = [(1/deg_kb)**i for i in missdist]\n",
        "    scalingConstant = pr_miss/sum(exponentialDegrade)\n",
        "\n",
        "    #Set up an empty probability table\n",
        "    prTable = np.empty(26)\n",
        "    y = charToType\n",
        "\n",
        "    # for each x in a to z,\n",
        "    # set up a loop to determine the probability of touching x\n",
        "    #     when trying to type y (i.e.charToType)\n",
        "    # store the results in the probability table accordingly\n",
        "    for i, x in enumerate(\"abcdefghijklmnopqrstuvwxyz\"):\n",
        "        if x==y:\n",
        "            prTable[i] = pr_hit\n",
        "        else:\n",
        "            distASCII_x_y = abs( ord(x) - ord(y) )\n",
        "            distKB_x_y = min(distASCII_x_y, 26-distASCII_x_y )\n",
        "            prTable[i] = scalingConstant * (1/deg_kb)** distKB_x_y\n",
        "\n",
        "    return prTable\n",
        "\n",
        "\n",
        "#Test the implementation\n",
        "pr_hit = 0.6\n",
        "pr_miss = 0.4\n",
        "deg_kb = 3\n",
        "\n",
        "getKeyboardProbabilityTable('a')"
      ]
    },
    {
      "cell_type": "code",
      "execution_count": null,
      "metadata": {
        "colab": {
          "base_uri": "https://localhost:8080/"
        },
        "id": "avWus-L_ntkO",
        "outputId": "48552b3e-f2ed-41bd-ea0e-d90f4c4ec11c"
      },
      "outputs": [
        {
          "data": {
            "text/plain": [
              "0.6"
            ]
          },
          "execution_count": 323,
          "metadata": {},
          "output_type": "execute_result"
        }
      ],
      "source": [
        "pr_hit"
      ]
    },
    {
      "cell_type": "code",
      "execution_count": null,
      "metadata": {
        "colab": {
          "base_uri": "https://localhost:8080/"
        },
        "id": "PzG_Z73-ntkR",
        "outputId": "bbcda597-f1e7-4b80-8689-657c3d5892a2"
      },
      "outputs": [
        {
          "data": {
            "text/plain": [
              "array([1.33333501e-01, 6.00000000e-01, 1.33333501e-01, 4.44445002e-02,\n",
              "       1.48148334e-02, 4.93827780e-03, 1.64609260e-03, 5.48697533e-04,\n",
              "       1.82899178e-04, 6.09663926e-05, 2.03221309e-05, 6.77404362e-06,\n",
              "       2.25801454e-06, 7.52671513e-07, 2.50890504e-07, 7.52671513e-07,\n",
              "       2.25801454e-06, 6.77404362e-06, 2.03221309e-05, 6.09663926e-05,\n",
              "       1.82899178e-04, 5.48697533e-04, 1.64609260e-03, 4.93827780e-03,\n",
              "       1.48148334e-02, 4.44445002e-02])"
            ]
          },
          "execution_count": 324,
          "metadata": {},
          "output_type": "execute_result"
        }
      ],
      "source": [
        "#More test on the implementation\n",
        "getKeyboardProbabilityTable('b')"
      ]
    },
    {
      "cell_type": "code",
      "execution_count": null,
      "metadata": {
        "colab": {
          "base_uri": "https://localhost:8080/"
        },
        "id": "j9myGUMKntkT",
        "outputId": "ae5fc0bf-7281-4782-ba11-9a847098b0d5"
      },
      "outputs": [
        {
          "data": {
            "text/plain": [
              "1.0"
            ]
          },
          "execution_count": 325,
          "metadata": {},
          "output_type": "execute_result"
        }
      ],
      "source": [
        "#More test on the implementation\n",
        "getKeyboardProbabilityTable('b').sum()"
      ]
    },
    {
      "cell_type": "markdown",
      "metadata": {
        "id": "6yfcHb-ZntkW"
      },
      "source": [
        "## typeOneChar"
      ]
    },
    {
      "cell_type": "code",
      "execution_count": null,
      "metadata": {
        "colab": {
          "base_uri": "https://localhost:8080/"
        },
        "id": "InC_JfPPntkY",
        "outputId": "9ca182c2-37a1-4017-9a53-7ba4abd3ae12"
      },
      "outputs": [
        {
          "data": {
            "text/plain": [
              "['w', 'y', 'a', 'b', 'a', 'c', 't', 'a', 'f', 'k']"
            ]
          },
          "execution_count": 326,
          "metadata": {},
          "output_type": "execute_result"
        }
      ],
      "source": [
        "# C++: char typeOneChar(char charToType)\n",
        "# Python: typeOneChar(charToType)\n",
        "#   use  take1SampleFrom1PrSpace and\n",
        "#        getKeyboardProbabilityTable to\n",
        "#   simulate typing charToType and return the resulting character pressed\n",
        "\n",
        "def typeOneChar(charToType):\n",
        "    keys = \"abcdefghijklmnopqrstuvwxyz\"\n",
        "    prTable = getKeyboardProbabilityTable(charToType)\n",
        "    indexOfKeyPressed = take1SampleFrom1PrSpace( prTable )\n",
        "    return keys[ indexOfKeyPressed ]\n",
        "\n",
        "#Test the implementatiton\n",
        "pr_hit = 0.2\n",
        "pr_miss = 0.8\n",
        "deg_kb = 1.2\n",
        "\n",
        "#Type 'a' for 10 times and see the results\n",
        "[typeOneChar('a') for i in range(10) ]"
      ]
    },
    {
      "cell_type": "code",
      "execution_count": null,
      "metadata": {
        "colab": {
          "base_uri": "https://localhost:8080/"
        },
        "id": "meQZjvHFntka",
        "outputId": "7b160486-fb8d-4820-9b14-1d9b1d6430e9"
      },
      "outputs": [
        {
          "data": {
            "text/plain": [
              "['a', 'z', 'a', 'g', 'z', 'b', 'e', 'a', 'a', 'z']"
            ]
          },
          "execution_count": 327,
          "metadata": {},
          "output_type": "execute_result"
        }
      ],
      "source": [
        "#More test the implementatiton\n",
        "pr_hit = 0.2\n",
        "pr_miss = 0.8\n",
        "deg_kb = 2\n",
        "\n",
        "#Type 'a' for 10 times under a different setting and see the results\n",
        "[typeOneChar('a') for i in range(10) ]"
      ]
    },
    {
      "cell_type": "markdown",
      "metadata": {
        "id": "dAAL6mamntkd"
      },
      "source": [
        "##  typeOneWord"
      ]
    },
    {
      "cell_type": "code",
      "execution_count": null,
      "metadata": {
        "id": "jSLSR73Jntkf"
      },
      "outputs": [],
      "source": [
        "# C++: void typeOneWord( char word[], char output[],\n",
        "#                        bool traceON = false, int maxOutput=100)\n",
        "# Python: typeOneWord( word, trace=False )\n",
        "#      simulate the typing of the given word (a string) and\n",
        "#      return the resulted string\n",
        "\n",
        "def typeOneWord(word, trace=False):\n",
        "    #Special States\n",
        "    I_stateIndex = -1\n",
        "    F_stateIndex = len(word)\n",
        "\n",
        "    # Step 0: Simulation of leaving the starting state I to enter some (first) state\n",
        "    #        to enter a regular state as the current state: throw a dice\n",
        "    charOutputsObservedSofar = \"_\"\n",
        "    stateTrajectorySofar = \"I\"\n",
        "    prTable = getPrTableForPossibleInitialStatesGivenTheWord(word)\n",
        "\n",
        "    currentState_index = take1SampleFrom1PrSpace(prTable)\n",
        "    currentState_char = word[ currentState_index  ]\n",
        "\n",
        "    if trace:\n",
        "        print( \"First state reached after leaving I: (index, char)=\",\n",
        "               (currentState_index, currentState_char)\n",
        "             )\n",
        "\n",
        "    while( currentState_index != F_stateIndex): # not the Final state F yet.\n",
        "        # Step 1: Simulation of typing a character given the current state: throw a dice\n",
        "        charTyped = typeOneChar(currentState_char)\n",
        "        charOutputsObservedSofar += charTyped\n",
        "        stateTrajectorySofar += currentState_char\n",
        "\n",
        "        if trace:\n",
        "            print( \"Current state: (index, char)=\", (currentState_index, currentState_char) )\n",
        "            print( charTyped, \" is pressed when trying to type \", currentState_char)\n",
        "            print( \"char outputs so far:\\t\", charOutputsObservedSofar )\n",
        "            print( \"state trajectory so far:\", stateTrajectorySofar )\n",
        "            print()\n",
        "\n",
        "        # Step 2: Simulation of leaving the current state to enter one of the possble next states\n",
        "        #       : throw a dice\n",
        "        prTable = getPrTableForPossibleNextStatesGivenWord(word, currentState_index)\n",
        "        nextState_index = take1SampleFrom1PrSpace(prTable)\n",
        "        nextState_char = word[ nextState_index  ] if (nextState_index<F_stateIndex) else \"F\"\n",
        "        if trace:\n",
        "            print( \"next state to enter: \", (nextState_index,\n",
        "                                             nextState_char) )\n",
        "\n",
        "        currentState_index = nextState_index\n",
        "        currentState_char = nextState_char\n",
        "\n",
        "    if trace:\n",
        "        print(\"Finish typing the word \", word)\n",
        "        print( \"char outputs:\\t\\t\", charOutputsObservedSofar+\"_\" )\n",
        "        print( \"state trajectory:\\t\", stateTrajectorySofar+\"F\" )\n",
        "\n",
        "    return charOutputsObservedSofar[1:]"
      ]
    },
    {
      "cell_type": "code",
      "execution_count": null,
      "metadata": {
        "colab": {
          "base_uri": "https://localhost:8080/",
          "height": 333
        },
        "id": "y1ysWbYfntkj",
        "outputId": "9f52d7b4-7b58-4373-8733-f923e5566ade"
      },
      "outputs": [
        {
          "name": "stdout",
          "output_type": "stream",
          "text": [
            "First state reached after leaving I: (index, char)= (0, 'h')\n",
            "Current state: (index, char)= (0, 'h')\n",
            "h  is pressed when trying to type  h\n",
            "char outputs so far:\t _h\n",
            "state trajectory so far: Ih\n",
            "\n",
            "next state to enter:  (1, 'i')\n",
            "Current state: (index, char)= (1, 'i')\n",
            "i  is pressed when trying to type  i\n",
            "char outputs so far:\t _hi\n",
            "state trajectory so far: Ihi\n",
            "\n",
            "next state to enter:  (3, 'F')\n",
            "Finish typing the word  his\n",
            "char outputs:\t\t _hi_\n",
            "state trajectory:\t IhiF\n"
          ]
        },
        {
          "data": {
            "application/vnd.google.colaboratory.intrinsic+json": {
              "type": "string"
            },
            "text/plain": [
              "'hi'"
            ]
          },
          "execution_count": 329,
          "metadata": {},
          "output_type": "execute_result"
        }
      ],
      "source": [
        "pr_hit = 0.9\n",
        "pr_miss = 0.1\n",
        "deg_kb = 4\n",
        "\n",
        "pr_repeat = 0.1\n",
        "pr_moveOn = 0.9\n",
        "deg_sp = 4\n",
        "\n",
        "word = \"his\"\n",
        "\n",
        "#See the trace of the simulation of typing one word\n",
        "typeOneWord( word, True)"
      ]
    },
    {
      "cell_type": "code",
      "execution_count": null,
      "metadata": {
        "colab": {
          "base_uri": "https://localhost:8080/"
        },
        "id": "VJVmubB5ntkl",
        "outputId": "0d6fbe24-d975-4337-df02-11b50eb1f2cc"
      },
      "outputs": [
        {
          "data": {
            "text/plain": [
              "['his',\n",
              " 'hit',\n",
              " 'hss',\n",
              " 'his',\n",
              " 'his',\n",
              " 's',\n",
              " 'hiss',\n",
              " 'hiis',\n",
              " 'hii',\n",
              " 'his',\n",
              " 'is',\n",
              " 'hjs',\n",
              " 'iis',\n",
              " 'hs',\n",
              " 'hjss',\n",
              " 'hjt',\n",
              " 'is',\n",
              " 'his',\n",
              " 'is',\n",
              " 'iss',\n",
              " 'i',\n",
              " 'i',\n",
              " 'i',\n",
              " 'hss',\n",
              " 's',\n",
              " 'eiss',\n",
              " 'his',\n",
              " 's',\n",
              " 'hr',\n",
              " 'his',\n",
              " 'his',\n",
              " 'j',\n",
              " 'hhs',\n",
              " 'his',\n",
              " 'hhis',\n",
              " 'his',\n",
              " 'hit',\n",
              " 'iis',\n",
              " 'is',\n",
              " 'hs',\n",
              " 'his',\n",
              " 'his',\n",
              " 'his',\n",
              " 'his',\n",
              " 'his',\n",
              " 'i',\n",
              " 'his',\n",
              " 'i',\n",
              " 'hi',\n",
              " 'his',\n",
              " 'hhhi',\n",
              " 'his',\n",
              " 'iis',\n",
              " 'hs',\n",
              " 'hs',\n",
              " 'is',\n",
              " 's',\n",
              " 'hs',\n",
              " 's',\n",
              " 'hiis',\n",
              " 'hi',\n",
              " 'hisst',\n",
              " 'his',\n",
              " 'hhhx',\n",
              " 'hjss',\n",
              " 'his',\n",
              " 'his',\n",
              " 'js',\n",
              " 'ivs',\n",
              " 'his',\n",
              " 'his',\n",
              " 'hi',\n",
              " 's',\n",
              " 'his',\n",
              " 'hs',\n",
              " 'hiiis',\n",
              " 'iss',\n",
              " 'is',\n",
              " 'gs',\n",
              " 'hjs',\n",
              " 'hi',\n",
              " 'jss',\n",
              " 'his',\n",
              " 'ihs',\n",
              " 'is',\n",
              " 'iiu',\n",
              " 'hii',\n",
              " 'hss',\n",
              " 'his',\n",
              " 'hhls',\n",
              " 'his',\n",
              " 'hiss',\n",
              " 'k',\n",
              " 'his',\n",
              " 'his',\n",
              " 'his',\n",
              " 'hi',\n",
              " 'hir',\n",
              " 'hiis',\n",
              " 'hhg',\n",
              " 'ii',\n",
              " 'i',\n",
              " 'his',\n",
              " 'hjis',\n",
              " 'hs',\n",
              " 'hhhs',\n",
              " 'i',\n",
              " 'his',\n",
              " 'hi',\n",
              " 'hi',\n",
              " 'ii',\n",
              " 'is',\n",
              " 'hs',\n",
              " 'hs',\n",
              " 'hiss',\n",
              " 'hs',\n",
              " 'i',\n",
              " 'is',\n",
              " 'hiu',\n",
              " 'hi',\n",
              " 'iss',\n",
              " 'i',\n",
              " 'hijs',\n",
              " 'his',\n",
              " 'hgs',\n",
              " 'hh',\n",
              " 'hs',\n",
              " 'his',\n",
              " 'hgj',\n",
              " 'hhs',\n",
              " 'his',\n",
              " 'iu',\n",
              " 'his',\n",
              " 'his',\n",
              " 's',\n",
              " 'his',\n",
              " 'iis',\n",
              " 'his',\n",
              " 'his',\n",
              " 'hi',\n",
              " 'iis',\n",
              " 'hi',\n",
              " 'is',\n",
              " 'i',\n",
              " 'is',\n",
              " 'his',\n",
              " 'his',\n",
              " 'his',\n",
              " 'hs',\n",
              " 'h',\n",
              " 'hs',\n",
              " 'ghs',\n",
              " 'hjs',\n",
              " 'fhss',\n",
              " 'his',\n",
              " 'hi',\n",
              " 'is',\n",
              " 'his',\n",
              " 'hs',\n",
              " 'i',\n",
              " 'is',\n",
              " 'hi',\n",
              " 'hihs',\n",
              " 'h',\n",
              " 'hs',\n",
              " 'his',\n",
              " 'hir',\n",
              " 'hhiis',\n",
              " 'hs',\n",
              " 'iss',\n",
              " 'his',\n",
              " 'hs',\n",
              " 'hhs',\n",
              " 'is',\n",
              " 'hss',\n",
              " 'his',\n",
              " 'hi',\n",
              " 'his',\n",
              " 'ijs',\n",
              " 'hss',\n",
              " 'hi',\n",
              " 'his',\n",
              " 'hs',\n",
              " 'hjs',\n",
              " 'hi',\n",
              " 'hii',\n",
              " 'hisss',\n",
              " 'hit',\n",
              " 'ip',\n",
              " 'is',\n",
              " 'hjs',\n",
              " 'is',\n",
              " 'his',\n",
              " 'his',\n",
              " 'iss',\n",
              " 'hi',\n",
              " 'hi',\n",
              " 'his',\n",
              " 'his',\n",
              " 'hjius',\n",
              " 'his',\n",
              " 'his',\n",
              " 'his',\n",
              " 'gis',\n",
              " 'i',\n",
              " 'his',\n",
              " 'his',\n",
              " 'hi',\n",
              " 'his',\n",
              " 'is',\n",
              " 'hhs',\n",
              " 'hhhis',\n",
              " 'hhhis',\n",
              " 'his',\n",
              " 'hiis',\n",
              " 'his',\n",
              " 'his',\n",
              " 'hit',\n",
              " 'his',\n",
              " 'hiss',\n",
              " 'gis',\n",
              " 'his',\n",
              " 'his',\n",
              " 'his',\n",
              " 'h',\n",
              " 'his',\n",
              " 'hits',\n",
              " 'is',\n",
              " 'hs',\n",
              " 'hi',\n",
              " 'hi',\n",
              " 'his',\n",
              " 's',\n",
              " 'hi',\n",
              " 'hgs',\n",
              " 'hi',\n",
              " 'his',\n",
              " 'i',\n",
              " 'hiss',\n",
              " 'is',\n",
              " 'hs',\n",
              " 'hkss',\n",
              " 'hiu',\n",
              " 's',\n",
              " 'iss',\n",
              " 'hi',\n",
              " 'hs',\n",
              " 'hiit',\n",
              " 'hi',\n",
              " 'hi',\n",
              " 'his',\n",
              " 'hi',\n",
              " 'is',\n",
              " 'iis',\n",
              " 'eis',\n",
              " 'hs',\n",
              " 'hjs',\n",
              " 'is',\n",
              " 'r',\n",
              " 'hs',\n",
              " 's',\n",
              " 'hhjis',\n",
              " 'his',\n",
              " 'gi',\n",
              " 'is',\n",
              " 'is',\n",
              " 'h',\n",
              " 'hiit',\n",
              " 'his',\n",
              " 'hhhis',\n",
              " 'i',\n",
              " 'hhi',\n",
              " 'hsss',\n",
              " 'hi',\n",
              " 'his',\n",
              " 'ihis',\n",
              " 'ghiss',\n",
              " 'hq',\n",
              " 'his',\n",
              " 'js',\n",
              " 'ir',\n",
              " 'i',\n",
              " 'his',\n",
              " 'hhjs',\n",
              " 'hs',\n",
              " 'his',\n",
              " 'hj',\n",
              " 'his',\n",
              " 'hks',\n",
              " 's',\n",
              " 'his',\n",
              " 'his',\n",
              " 'hhs',\n",
              " 'is',\n",
              " 'hir',\n",
              " 'his',\n",
              " 'is',\n",
              " 'hi',\n",
              " 'hi',\n",
              " 'hiss',\n",
              " 'is',\n",
              " 'is',\n",
              " 'his',\n",
              " 'hi',\n",
              " 'is',\n",
              " 'ijis',\n",
              " 'his',\n",
              " 'is',\n",
              " 's',\n",
              " 'hi',\n",
              " 'hs',\n",
              " 'his',\n",
              " 'hs',\n",
              " 'hhi',\n",
              " 'his',\n",
              " 'i',\n",
              " 'his',\n",
              " 'hiss',\n",
              " 'hs',\n",
              " 'is',\n",
              " 'hi',\n",
              " 'it',\n",
              " 'hii',\n",
              " 'his',\n",
              " 'gr',\n",
              " 'gisss',\n",
              " 'hs',\n",
              " 'his',\n",
              " 'his',\n",
              " 'j',\n",
              " 'his',\n",
              " 's',\n",
              " 'hhiit',\n",
              " 'hi',\n",
              " 'hhs',\n",
              " 'hsss',\n",
              " 's',\n",
              " 'ss',\n",
              " 'hi',\n",
              " 'his',\n",
              " 'his',\n",
              " 'his',\n",
              " 'gis',\n",
              " 'hs',\n",
              " 'hs',\n",
              " 'his',\n",
              " 'his',\n",
              " 'hjs',\n",
              " 'ss',\n",
              " 's',\n",
              " 'iss',\n",
              " 'is',\n",
              " 'hir',\n",
              " 'hs',\n",
              " 'is',\n",
              " 'hi',\n",
              " 'hgs',\n",
              " 'iis',\n",
              " 'hhs',\n",
              " 'hhiq',\n",
              " 'hhs',\n",
              " 'hs',\n",
              " 'h',\n",
              " 'his',\n",
              " 'hiiss',\n",
              " 'es',\n",
              " 'his',\n",
              " 'hi',\n",
              " 'iis',\n",
              " 'his',\n",
              " 'his',\n",
              " 'hhis',\n",
              " 'i',\n",
              " 'fis',\n",
              " 'his',\n",
              " 'his',\n",
              " 'iis',\n",
              " 'hi',\n",
              " 'his',\n",
              " 'hiss',\n",
              " 'is',\n",
              " 'gis',\n",
              " 'hs',\n",
              " 'is',\n",
              " 'hhks',\n",
              " 'his',\n",
              " 's',\n",
              " 'is',\n",
              " 'ss',\n",
              " 'his',\n",
              " 'his',\n",
              " 'is',\n",
              " 'hs',\n",
              " 'iis',\n",
              " 'his',\n",
              " 'i',\n",
              " 'his',\n",
              " 'his',\n",
              " 'his',\n",
              " 'hi',\n",
              " 'hh',\n",
              " 'iis',\n",
              " 'his',\n",
              " 'h',\n",
              " 'hgi',\n",
              " 'hhiis',\n",
              " 'hiss',\n",
              " 'iis',\n",
              " 'hs',\n",
              " 'hit',\n",
              " 'hi',\n",
              " 'hhss',\n",
              " 'ggs',\n",
              " 'his',\n",
              " 'his',\n",
              " 'hh',\n",
              " 'is',\n",
              " 'his',\n",
              " 'hi',\n",
              " 's',\n",
              " 'fii',\n",
              " 'hhs',\n",
              " 'his',\n",
              " 'is',\n",
              " 'his',\n",
              " 'his',\n",
              " 'hiss',\n",
              " 'hi',\n",
              " 'hs',\n",
              " 'iq',\n",
              " 'k',\n",
              " 'hi',\n",
              " 'is',\n",
              " 'his',\n",
              " 'his',\n",
              " 'is',\n",
              " 'hh',\n",
              " 'hiss',\n",
              " 'i',\n",
              " 'his',\n",
              " 'iit',\n",
              " 'kis',\n",
              " 'iss',\n",
              " 'i',\n",
              " 'hi',\n",
              " 'hss',\n",
              " 'hhjr',\n",
              " 'iis',\n",
              " 'his',\n",
              " 'hhiss',\n",
              " 'hjs',\n",
              " 'is',\n",
              " 'hit',\n",
              " 'i',\n",
              " 'is',\n",
              " 'hiis',\n",
              " 'hhiss',\n",
              " 'hit',\n",
              " 'his',\n",
              " 'his',\n",
              " 'his',\n",
              " 't',\n",
              " 'his',\n",
              " 'his',\n",
              " 'is',\n",
              " 'hii',\n",
              " 'his',\n",
              " 'his',\n",
              " 'gis',\n",
              " 'is',\n",
              " 'hhjs',\n",
              " 'hks',\n",
              " 'his',\n",
              " 'hiis',\n",
              " 'hiv',\n",
              " 'hiq',\n",
              " 'hs',\n",
              " 'hi',\n",
              " 'his',\n",
              " 'hhis',\n",
              " 'hss',\n",
              " 'hhis',\n",
              " 'his',\n",
              " 'his',\n",
              " 'jis',\n",
              " 'hhs',\n",
              " 'his',\n",
              " 'his',\n",
              " 'iis',\n",
              " 'hi',\n",
              " 'his',\n",
              " 'hs',\n",
              " 'is',\n",
              " 'hi',\n",
              " 'his',\n",
              " 'hs',\n",
              " 'his',\n",
              " 'h',\n",
              " 'his',\n",
              " 's',\n",
              " 'hs',\n",
              " 'iis',\n",
              " 'his',\n",
              " 'hhi',\n",
              " 'hi',\n",
              " 'hiis',\n",
              " 'jiss',\n",
              " 'his',\n",
              " 'i',\n",
              " 'hs',\n",
              " 'is',\n",
              " 'hs',\n",
              " 'hih',\n",
              " 'gis',\n",
              " 'i',\n",
              " 'hs',\n",
              " 'hlv',\n",
              " 'his',\n",
              " 'is',\n",
              " 'his',\n",
              " 'his',\n",
              " 'h',\n",
              " 'hi',\n",
              " 'his',\n",
              " 'hjis',\n",
              " 'hi',\n",
              " 'i',\n",
              " 'hhis',\n",
              " 'his',\n",
              " 'his',\n",
              " 's',\n",
              " 'hi',\n",
              " 'hist',\n",
              " 'iis',\n",
              " 'j',\n",
              " 'his',\n",
              " 'hit',\n",
              " 'hgs',\n",
              " 'hiis',\n",
              " 'his',\n",
              " 'hr',\n",
              " 'his',\n",
              " 'is',\n",
              " 'i',\n",
              " 'hi',\n",
              " 'hss',\n",
              " 'h',\n",
              " 'js',\n",
              " 'is',\n",
              " 'hiis',\n",
              " 'hr',\n",
              " 'hii',\n",
              " 's',\n",
              " 'hiis',\n",
              " 'hhs',\n",
              " 'hi',\n",
              " 'is',\n",
              " 'iks',\n",
              " 'gi',\n",
              " 'his',\n",
              " 'is',\n",
              " 'his',\n",
              " 'hs',\n",
              " 'hiiiis',\n",
              " 'hjs',\n",
              " 's',\n",
              " 'isss',\n",
              " 'hiss',\n",
              " 'hiis',\n",
              " 'jfis',\n",
              " 'is',\n",
              " 'js',\n",
              " 'his',\n",
              " 'hs',\n",
              " 'hhhis',\n",
              " 'ss',\n",
              " 'hhirs',\n",
              " 'hiss',\n",
              " 's',\n",
              " 'i',\n",
              " 'iiss',\n",
              " 'his',\n",
              " 'is',\n",
              " 'hs',\n",
              " 'his',\n",
              " 'hs',\n",
              " 'hhs',\n",
              " 's',\n",
              " 'is',\n",
              " 'is',\n",
              " 'his',\n",
              " 'hs',\n",
              " 'his',\n",
              " 'h',\n",
              " 'his',\n",
              " 'is',\n",
              " 'is',\n",
              " 'hq',\n",
              " 'hhis',\n",
              " 'hs',\n",
              " 'hgi',\n",
              " 'hjs',\n",
              " 'i',\n",
              " 'hii',\n",
              " 'hi',\n",
              " 'hkt',\n",
              " 'hhis',\n",
              " 'h',\n",
              " 'hi',\n",
              " 'his',\n",
              " 'gis',\n",
              " 'hhis',\n",
              " 'hii',\n",
              " 'his',\n",
              " 'hi',\n",
              " 'his',\n",
              " 'ss',\n",
              " 'is',\n",
              " 'hh',\n",
              " 'hss',\n",
              " 'his',\n",
              " 'ir',\n",
              " 'his',\n",
              " 'hhi',\n",
              " 'his',\n",
              " 'his',\n",
              " 'i',\n",
              " 'h',\n",
              " 'kis',\n",
              " 'hhis',\n",
              " 'is',\n",
              " 'hs',\n",
              " 'hs',\n",
              " 'hi',\n",
              " 'his',\n",
              " 'hhhis',\n",
              " 's',\n",
              " 's',\n",
              " 'hi',\n",
              " 'hhis',\n",
              " 'jis',\n",
              " 'hs',\n",
              " 'hs',\n",
              " 'hhis',\n",
              " 'ts',\n",
              " 'is',\n",
              " 'hi',\n",
              " 'hhis',\n",
              " 'hi',\n",
              " 'hii',\n",
              " 'hiii',\n",
              " 'gs',\n",
              " 'iiss',\n",
              " 'is',\n",
              " 'his',\n",
              " 'is',\n",
              " 'his',\n",
              " 'hs',\n",
              " 'hjs',\n",
              " 'hhi',\n",
              " 'hi',\n",
              " 'gi',\n",
              " 'h',\n",
              " 'i',\n",
              " 's',\n",
              " 'h',\n",
              " 'hi',\n",
              " 'iiu',\n",
              " 'hi',\n",
              " 'his',\n",
              " 'hiss',\n",
              " 'hh',\n",
              " 'hit',\n",
              " 'hiiss',\n",
              " 'hs',\n",
              " 'hhis',\n",
              " 'is',\n",
              " 'i',\n",
              " 'hiis',\n",
              " 'is',\n",
              " 'his',\n",
              " 'hs',\n",
              " 'gis',\n",
              " 'hss',\n",
              " 'h',\n",
              " 'hht',\n",
              " 'ss',\n",
              " 'his',\n",
              " 'hiii',\n",
              " 'hi',\n",
              " 'his',\n",
              " 'hhis',\n",
              " 'his',\n",
              " 'gs',\n",
              " 'is',\n",
              " 'is',\n",
              " 'hiss',\n",
              " 'his',\n",
              " 'his',\n",
              " 'gs',\n",
              " 'i',\n",
              " 'iis',\n",
              " 'ss',\n",
              " 'his',\n",
              " 'hhhi',\n",
              " 'is',\n",
              " 'git',\n",
              " 'his',\n",
              " 's',\n",
              " 'hiis',\n",
              " 'hs',\n",
              " 'is',\n",
              " 'hgs',\n",
              " 'is',\n",
              " 'hhi',\n",
              " 'his',\n",
              " 'his',\n",
              " 'is',\n",
              " 'jis',\n",
              " 'hi',\n",
              " 'his',\n",
              " 'is',\n",
              " 'hjr',\n",
              " 's',\n",
              " 's',\n",
              " 'hhis',\n",
              " 'is',\n",
              " 'iis',\n",
              " 'h',\n",
              " 'is',\n",
              " 'hi',\n",
              " 'hi',\n",
              " 'ht',\n",
              " 'h',\n",
              " 'hss',\n",
              " 'ihs',\n",
              " 's',\n",
              " 'his',\n",
              " 'hhs',\n",
              " 'iis',\n",
              " 'hi',\n",
              " 'his',\n",
              " 'h',\n",
              " 'his',\n",
              " 'his',\n",
              " 'hhis',\n",
              " 'hi',\n",
              " 'hiis',\n",
              " 'hs',\n",
              " 'hs',\n",
              " 'his',\n",
              " 'hks',\n",
              " 'hi',\n",
              " 'hiss',\n",
              " 'hhi',\n",
              " 'hii',\n",
              " 'hhhiis',\n",
              " 'hiis',\n",
              " 'hr',\n",
              " 'iss',\n",
              " 'is',\n",
              " 'his',\n",
              " 'his',\n",
              " 'hs',\n",
              " 'ih',\n",
              " 'i',\n",
              " 'hiis',\n",
              " 'is',\n",
              " 'hs',\n",
              " 'his',\n",
              " 'hij',\n",
              " 'hgs',\n",
              " 'is',\n",
              " 'hjs',\n",
              " 'his',\n",
              " 'gihq',\n",
              " 'ihis',\n",
              " 'ht',\n",
              " 's',\n",
              " 'his',\n",
              " 'hit',\n",
              " 'hhs',\n",
              " 'his',\n",
              " 'hi',\n",
              " 'his',\n",
              " 'his',\n",
              " 'his',\n",
              " 'hiss',\n",
              " 'hfs',\n",
              " 'his',\n",
              " 'his',\n",
              " 'h',\n",
              " 'his',\n",
              " 'j',\n",
              " 'ii',\n",
              " 'his',\n",
              " 'hhjs',\n",
              " 's',\n",
              " 'his',\n",
              " 'is',\n",
              " 'hs',\n",
              " 'hss',\n",
              " 'hhi',\n",
              " 'his',\n",
              " 'j',\n",
              " 'eir',\n",
              " 'his',\n",
              " 'his',\n",
              " 'is',\n",
              " 'his',\n",
              " 'hj',\n",
              " 'hhir',\n",
              " 'his',\n",
              " 'i',\n",
              " 'hss',\n",
              " 'his',\n",
              " 'hits',\n",
              " 'hi',\n",
              " 'his',\n",
              " 'hs',\n",
              " 's',\n",
              " 'hi',\n",
              " 'hi',\n",
              " 'hht',\n",
              " 'hi',\n",
              " 'hhis',\n",
              " 'js',\n",
              " 'hs',\n",
              " 'hiis',\n",
              " 'hiiis',\n",
              " 'hii',\n",
              " 'hs',\n",
              " 'his',\n",
              " 'is',\n",
              " 'hs',\n",
              " 'is',\n",
              " 'his',\n",
              " 'h',\n",
              " 'hi',\n",
              " 'fi',\n",
              " 'ls',\n",
              " 'is',\n",
              " 'ehi',\n",
              " 's',\n",
              " 'his',\n",
              " 'is',\n",
              " 'his',\n",
              " 'hiis',\n",
              " 'git',\n",
              " 's',\n",
              " 'his',\n",
              " 'his',\n",
              " 'hiis',\n",
              " 'his',\n",
              " 'hit',\n",
              " 'his',\n",
              " 'hs',\n",
              " 'hiss',\n",
              " 'his',\n",
              " 'hhis',\n",
              " 'gis',\n",
              " 'iss',\n",
              " 'is',\n",
              " 'its',\n",
              " 'his',\n",
              " 's',\n",
              " 'hiss',\n",
              " 'hhis',\n",
              " 'hi',\n",
              " 'hs',\n",
              " 'hi',\n",
              " 'i',\n",
              " 'hhi',\n",
              " 'is',\n",
              " 'hs',\n",
              " 'hhis',\n",
              " 'his',\n",
              " 'is',\n",
              " 'hgs',\n",
              " 'hiis',\n",
              " 'hisr',\n",
              " 'hs',\n",
              " 'his',\n",
              " 'hhj',\n",
              " 'hs',\n",
              " 'hi',\n",
              " 'hli',\n",
              " 'gi',\n",
              " 'hi',\n",
              " 'hiis',\n",
              " 'hii',\n",
              " 'eis',\n",
              " 'hiu',\n",
              " 'his',\n",
              " 'iq',\n",
              " 'hiiptq',\n",
              " 'hs',\n",
              " 'iis',\n",
              " 'hi',\n",
              " 'his',\n",
              " 'hi',\n",
              " 'hhis',\n",
              " 'ht',\n",
              " 'isrs',\n",
              " 'his',\n",
              " 'iis',\n",
              " 'iiss',\n",
              " 'js',\n",
              " 'is',\n",
              " 's',\n",
              " 'his',\n",
              " 'ii',\n",
              " 'hs',\n",
              " 'hi',\n",
              " 'hiss',\n",
              " 'hss',\n",
              " 'his',\n",
              " 'gs',\n",
              " 'hiu',\n",
              " 'his',\n",
              " 'hs',\n",
              " 'hhiis',\n",
              " 'hs',\n",
              " 'h',\n",
              " 'hs',\n",
              " 'hi',\n",
              " 'hi',\n",
              " 'hs',\n",
              " 'his',\n",
              " 'hjs',\n",
              " 'hi',\n",
              " 'hhir',\n",
              " 'his',\n",
              " 'hs',\n",
              " 'is',\n",
              " 'his',\n",
              " 'his',\n",
              " 'his',\n",
              " 'is',\n",
              " 'hhhi',\n",
              " 'his',\n",
              " 'is',\n",
              " 'hi',\n",
              " 'his',\n",
              " 'his',\n",
              " 'his',\n",
              " 'gis',\n",
              " 'hss',\n",
              " 'hhhs',\n",
              " 's',\n",
              " 'hi',\n",
              " 'hi',\n",
              " 's',\n",
              " 'hi',\n",
              " 'is',\n",
              " 'his',\n",
              " 'hiss',\n",
              " 'hissss',\n",
              " 'is',\n",
              " 'i',\n",
              " 'i',\n",
              " 'iis',\n",
              " 'is',\n",
              " 'j',\n",
              " 'his',\n",
              " 'hiis',\n",
              " 's',\n",
              " 'r',\n",
              " 'his',\n",
              " 'his',\n",
              " 'is',\n",
              " 'his',\n",
              " 'is',\n",
              " 'his',\n",
              " 'hs',\n",
              " 'hgs',\n",
              " 'is',\n",
              " 'jis',\n",
              " 'kis',\n",
              " 'hes',\n",
              " 'his',\n",
              " 'hi',\n",
              " 'his',\n",
              " 'hs',\n",
              " 'hs',\n",
              " 'his',\n",
              " 'his',\n",
              " 'i',\n",
              " 'his',\n",
              " 'is',\n",
              " 'gr',\n",
              " 'hi',\n",
              " 'his',\n",
              " 's',\n",
              " 'hisss',\n",
              " 'g',\n",
              " 'hhis',\n",
              " 'his',\n",
              " 'his',\n",
              " 'gis',\n",
              " ...]"
            ]
          },
          "execution_count": 330,
          "metadata": {},
          "output_type": "execute_result"
        }
      ],
      "source": [
        "# See the result of typing the same word 10000 times\n",
        "[typeOneWord(word, False) for i in range(10000) ]"
      ]
    },
    {
      "cell_type": "markdown",
      "metadata": {
        "id": "TGCSlQmwntko"
      },
      "source": [
        "# 2. Basics of file input/output in Python"
      ]
    },
    {
      "cell_type": "markdown",
      "metadata": {
        "id": "PW4Q-iCYntkq"
      },
      "source": [
        "### 2.1 Basics of file output in Python"
      ]
    },
    {
      "cell_type": "code",
      "execution_count": null,
      "metadata": {
        "id": "-ak4Ntc1ntks"
      },
      "outputs": [],
      "source": [
        "# write data into a file.\n",
        "Lines = [\"Line 1: a;\",\"Line 2: b;\",\"Line 3: c;\"]\n",
        "\n",
        "file = open(\"outputFile1\",\"w\")\n",
        "for L in Lines:\n",
        "    file.write(L)\n",
        "file.close()"
      ]
    },
    {
      "cell_type": "code",
      "execution_count": null,
      "metadata": {
        "id": "wWBLDsnSntku"
      },
      "outputs": [],
      "source": [
        "# %load outputFile1"
      ]
    },
    {
      "cell_type": "code",
      "execution_count": null,
      "metadata": {
        "id": "MSDH_asKntkx"
      },
      "outputs": [],
      "source": []
    },
    {
      "cell_type": "code",
      "execution_count": null,
      "metadata": {
        "id": "wWVmhOEBntkz"
      },
      "outputs": [],
      "source": [
        "# write data into a file.\n",
        "Lines = [\"Line 1: a;\",\"Line 2: b;\",\"Line 3: c;\"]\n",
        "\n",
        "file = open(\"outputFile2\",\"w\")\n",
        "file.writelines(Lines)\n",
        "file.close()"
      ]
    },
    {
      "cell_type": "code",
      "execution_count": null,
      "metadata": {
        "id": "qT-UcgIXntk1"
      },
      "outputs": [],
      "source": [
        "# %load outputFile2"
      ]
    },
    {
      "cell_type": "code",
      "execution_count": null,
      "metadata": {
        "id": "2lEi_W7zntlU"
      },
      "outputs": [],
      "source": [
        "# write data into a file.\n",
        "Lines = [\"Line 1: a;\",\"Line 2: b;\",\"Line 3: c;\"]\n",
        "\n",
        "file = open(\"outputFile3\",\"w\")\n",
        "for line in Lines:\n",
        "    file.writelines(line +\"\\n\")\n",
        "file.close()"
      ]
    },
    {
      "cell_type": "code",
      "execution_count": null,
      "metadata": {
        "id": "id4WvqahntlW"
      },
      "outputs": [],
      "source": [
        "# %load outputFile3"
      ]
    },
    {
      "cell_type": "markdown",
      "metadata": {
        "id": "evqHr3K-ntlZ"
      },
      "source": [
        "### 2.2 Basics of file intput in Python"
      ]
    },
    {
      "cell_type": "code",
      "execution_count": null,
      "metadata": {
        "colab": {
          "base_uri": "https://localhost:8080/"
        },
        "id": "CTGaMBEjntlb",
        "outputId": "dda50978-6047-4528-8c2e-b2d9ae5bc5ab"
      },
      "outputs": [
        {
          "name": "stdout",
          "output_type": "stream",
          "text": [
            "x is Line 1: a;\n",
            "Line 2: b;\n",
            "Line 3: c;\n",
            "\n"
          ]
        }
      ],
      "source": [
        "# read data from a file.\n",
        "file = open(\"outputFile3\",\"r\")\n",
        "x=file.read()\n",
        "print(\"x is\", x)\n",
        "file.close()"
      ]
    },
    {
      "cell_type": "code",
      "execution_count": null,
      "metadata": {
        "colab": {
          "base_uri": "https://localhost:8080/"
        },
        "id": "eHUZlw2dntle",
        "outputId": "070f7889-a95e-4ef8-8290-e861e4768ff2"
      },
      "outputs": [
        {
          "data": {
            "text/plain": [
              "('Line 1: a;\\n', 'Line 2: b;\\n', 'Line 3: c;\\n')"
            ]
          },
          "execution_count": 338,
          "metadata": {},
          "output_type": "execute_result"
        }
      ],
      "source": [
        "file = open(\"outputFile3\",\"r\")\n",
        "x=file.readline()\n",
        "y=file.readline()\n",
        "z=file.readline()\n",
        "#show what we got in x, y, z\n",
        "x, y, z"
      ]
    },
    {
      "cell_type": "code",
      "execution_count": null,
      "metadata": {
        "colab": {
          "base_uri": "https://localhost:8080/"
        },
        "id": "cDDFUexNntli",
        "outputId": "fdb3aab8-723c-408b-edb3-3fe7a5a4708d"
      },
      "outputs": [
        {
          "name": "stdout",
          "output_type": "stream",
          "text": [
            "lines is ['Line 1: a;\\n', 'Line 2: b;\\n', 'Line 3: c;\\n']\n"
          ]
        }
      ],
      "source": [
        "file = open(\"outputFile3\",\"r\")\n",
        "lines=file.readlines()\n",
        "print(\"lines is\", lines)"
      ]
    },
    {
      "cell_type": "code",
      "execution_count": null,
      "metadata": {
        "colab": {
          "base_uri": "https://localhost:8080/"
        },
        "id": "gXbuJEUcntlm",
        "outputId": "229e6141-6776-4fb4-9ca8-11660fc08842"
      },
      "outputs": [
        {
          "data": {
            "text/plain": [
              "['Line 1: a;', 'Line 2: b;', 'Line 3: c;']"
            ]
          },
          "execution_count": 340,
          "metadata": {},
          "output_type": "execute_result"
        }
      ],
      "source": [
        "# Strip the white spaces(i.e. spaces, tabs, and specifically'\\n' in this case)\n",
        "strippedLines = [line.strip( ) for line in lines]\n",
        "strippedLines"
      ]
    },
    {
      "cell_type": "code",
      "execution_count": null,
      "metadata": {
        "colab": {
          "base_uri": "https://localhost:8080/"
        },
        "id": "V9BwbO_kntlp",
        "outputId": "9e4b033f-19ea-4e39-a66b-4ab0af9d51b8"
      },
      "outputs": [
        {
          "name": "stdout",
          "output_type": "stream",
          "text": [
            "72  words in biolaVision.txt:\n",
            "\n"
          ]
        },
        {
          "data": {
            "text/plain": [
              "['biola',\n",
              " 'university',\n",
              " 'vision',\n",
              " 'is',\n",
              " 'to',\n",
              " 'be',\n",
              " 'an',\n",
              " 'exemplary',\n",
              " 'christian',\n",
              " 'university',\n",
              " 'characterized',\n",
              " 'as',\n",
              " 'a',\n",
              " 'community',\n",
              " 'of',\n",
              " 'grace',\n",
              " 'that',\n",
              " 'promotes',\n",
              " 'and',\n",
              " 'inspires',\n",
              " 'personal',\n",
              " 'life',\n",
              " 'transformation',\n",
              " 'in',\n",
              " 'christ',\n",
              " 'which',\n",
              " 'illuminates',\n",
              " 'the',\n",
              " 'world',\n",
              " 'with',\n",
              " 'his',\n",
              " 'light',\n",
              " 'and',\n",
              " 'truth',\n",
              " 'further',\n",
              " 'as',\n",
              " 'a',\n",
              " 'global',\n",
              " 'center',\n",
              " 'for',\n",
              " 'christian',\n",
              " 'thought',\n",
              " 'and',\n",
              " 'an',\n",
              " 'influential',\n",
              " 'evangelical',\n",
              " 'voice',\n",
              " 'that',\n",
              " 'addresses',\n",
              " 'crucial',\n",
              " 'cultural',\n",
              " 'issues',\n",
              " 'biola',\n",
              " 'university',\n",
              " 'aspires',\n",
              " 'to',\n",
              " 'lead',\n",
              " 'with',\n",
              " 'confidence',\n",
              " 'and',\n",
              " 'compassion',\n",
              " 'an',\n",
              " 'intellectual',\n",
              " 'and',\n",
              " 'spiritual',\n",
              " 'renewal',\n",
              " 'that',\n",
              " 'advances',\n",
              " 'the',\n",
              " 'purpose',\n",
              " 'of',\n",
              " 'christ']"
            ]
          },
          "execution_count": 341,
          "metadata": {},
          "output_type": "execute_result"
        }
      ],
      "source": [
        "# Read words from biolaVision.txt\n",
        "file = open(\"biolaVision.txt\",\"r\")\n",
        "lines = file.readlines()\n",
        "file.close()\n",
        "\n",
        "words = [line.strip( ) for line in lines]\n",
        "\n",
        "print(len(words), \" words in biolaVision.txt:\\n\")\n",
        "words"
      ]
    },
    {
      "cell_type": "markdown",
      "metadata": {
        "id": "RaW0tU-cntls"
      },
      "source": [
        "# 3. Implement typeOneArticle"
      ]
    },
    {
      "cell_type": "code",
      "execution_count": null,
      "metadata": {
        "id": "NWo5SnaTntlu"
      },
      "outputs": [],
      "source": [
        "# C++: void typeOneArticle (const char * corruptedMessageFile, const char * sourceArticle,\n",
        "#                           bool trace = false);\n",
        "# Or\n",
        "# C++: void typeOneArticle (const string corruptedMessageFile, const string sourceArticle,\n",
        "#                           bool trace = false);\n",
        "# ==>\n",
        "# Python: typeOneArticle (corruptedMessageFile, sourceArticle,\n",
        "#                           trace = False)"
      ]
    },
    {
      "cell_type": "code",
      "execution_count": null,
      "metadata": {
        "id": "KEQk26iOntlx"
      },
      "outputs": [],
      "source": [
        "def typeOneArticle(corruptedMessageFile, sourceArticle, trace = False):\n",
        "    file = open(sourceArticle,\"r\")\n",
        "    lines = file.readlines()\n",
        "    file.close()\n",
        "    words = [line.strip( ) for line in lines]\n",
        "\n",
        "    corruptedWords = [ typeOneWord(word) for word in words]\n",
        "    if trace:\n",
        "        print( corruptedWords )\n",
        "\n",
        "    file = open(corruptedMessageFile,\"w\")\n",
        "    for corruptedWord in corruptedWords:\n",
        "        file.writelines(corruptedWord+\"\\n\")\n",
        "    file.close()"
      ]
    },
    {
      "cell_type": "code",
      "execution_count": null,
      "metadata": {
        "id": "yzJ4jlf1ntl0"
      },
      "outputs": [],
      "source": [
        "pr_hit = 0.6\n",
        "pr_miss = 0.4\n",
        "deg_kb = 2\n",
        "\n",
        "pr_repeat = 0.2\n",
        "pr_moveOn = 0.8\n",
        "deg_sp = 2\n",
        "\n",
        "typeOneArticle(\"corruptedVision\", \"biolaVision.txt\")"
      ]
    },
    {
      "cell_type": "code",
      "execution_count": null,
      "metadata": {
        "id": "1qoxYdg9ntl2"
      },
      "outputs": [],
      "source": [
        "# %load corruptedVision"
      ]
    },
    {
      "cell_type": "markdown",
      "metadata": {
        "id": "8CWG_fsjntl5"
      },
      "source": [
        "# 4. Specifics about Program 3A"
      ]
    },
    {
      "cell_type": "code",
      "execution_count": null,
      "metadata": {
        "id": "Uanw9eHUntmB"
      },
      "outputs": [],
      "source": [
        "wordToType = \"his\"\n",
        "observedString = \"he\""
      ]
    },
    {
      "cell_type": "markdown",
      "metadata": {
        "id": "awfSmr3wntmE"
      },
      "source": [
        "# 4.1 Data Structures: Lists"
      ]
    },
    {
      "cell_type": "markdown",
      "metadata": {
        "id": "z_cmcl9pntmG"
      },
      "source": [
        "## State representations (excluding the special state I and F)"
      ]
    },
    {
      "cell_type": "code",
      "execution_count": null,
      "metadata": {
        "colab": {
          "base_uri": "https://localhost:8080/"
        },
        "id": "e-jzAdvyntmJ",
        "outputId": "1e98d984-035a-4fd6-e503-bf63e58dc722"
      },
      "outputs": [
        {
          "data": {
            "text/plain": [
              "[0, 1, 2]"
            ]
          },
          "execution_count": 347,
          "metadata": {},
          "output_type": "execute_result"
        }
      ],
      "source": [
        "state_indicices = list( range(len(wordToType) ))\n",
        "state_indicices"
      ]
    },
    {
      "cell_type": "code",
      "execution_count": null,
      "metadata": {
        "colab": {
          "base_uri": "https://localhost:8080/",
          "height": 36
        },
        "id": "gcjQqO5tntmM",
        "outputId": "8de432e5-520a-459a-e5ba-273eadf1fef3"
      },
      "outputs": [
        {
          "data": {
            "application/vnd.google.colaboratory.intrinsic+json": {
              "type": "string"
            },
            "text/plain": [
              "'his'"
            ]
          },
          "execution_count": 348,
          "metadata": {},
          "output_type": "execute_result"
        }
      ],
      "source": [
        "state_chars = wordToType\n",
        "state_chars"
      ]
    },
    {
      "cell_type": "code",
      "execution_count": null,
      "metadata": {
        "colab": {
          "background_save": true,
          "base_uri": "https://localhost:8080/"
        },
        "id": "_WM91Hr_ntmP",
        "outputId": "e98bab41-0583-46f7-9afe-937157102a92"
      },
      "outputs": [
        {
          "data": {
            "text/plain": [
              "[(0, 'h'), (1, 'i'), (2, 's')]"
            ]
          },
          "execution_count": 349,
          "metadata": {},
          "output_type": "execute_result"
        }
      ],
      "source": [
        "states = [ (state_index, state_char) for state_index, state_char in zip(  state_indicices, state_chars)]\n",
        "states"
      ]
    },
    {
      "cell_type": "markdown",
      "metadata": {
        "id": "62QDnQQnntmS"
      },
      "source": [
        "## HMM representation (excluding the special state I)"
      ]
    },
    {
      "cell_type": "code",
      "execution_count": null,
      "metadata": {
        "colab": {
          "background_save": true,
          "base_uri": "https://localhost:8080/"
        },
        "id": "1T51rtx8ntmV",
        "outputId": "5f903a2d-46c4-4086-ad34-1c5e83a6eaf5"
      },
      "outputs": [
        {
          "data": {
            "text/plain": [
              "[0.5714285714285714, 0.2857142857142857, 0.14285714285714285]"
            ]
          },
          "execution_count": 350,
          "metadata": {},
          "output_type": "execute_result"
        }
      ],
      "source": [
        "#At the beginning, the initial probability vector Pi after leaving the special state I\n",
        "\n",
        "vector_pi_list = getPrTableForPossibleInitialStatesGivenTheWord(wordToType)\n",
        "vector_pi_list"
      ]
    },
    {
      "cell_type": "code",
      "execution_count": null,
      "metadata": {
        "colab": {
          "background_save": true,
          "base_uri": "https://localhost:8080/"
        },
        "id": "CUz2h3m-ntme",
        "outputId": "ab57d816-d77f-4f02-e108-58253bbb767b"
      },
      "outputs": [
        {
          "data": {
            "text/plain": [
              "[[0.2, 0.4571428571428572, 0.2285714285714286, 0.1142857142857143],\n",
              " [0.0, 0.2, 0.5333333333333333, 0.26666666666666666],\n",
              " [0.0, 0.0, 0.2, 0.8]]"
            ]
          },
          "execution_count": 351,
          "metadata": {},
          "output_type": "execute_result"
        }
      ],
      "source": [
        "# Transition probability matrix A (excluding the rows for I and F and the column for I)\n",
        "lenthOfWord = len(wordToType)\n",
        "matrix_A_List = [ getPrTableForPossibleNextStatesGivenWord(wordToType, currentState) for currentState in range(lenthOfWord)]\n",
        "matrix_A_List"
      ]
    },
    {
      "cell_type": "code",
      "execution_count": null,
      "metadata": {
        "colab": {
          "background_save": true,
          "base_uri": "https://localhost:8080/"
        },
        "id": "FXvIDsQAntmh",
        "outputId": "929a4409-15fe-494c-9cae-7e4543df97b7"
      },
      "outputs": [
        {
          "data": {
            "text/plain": [
              "0.4571428571428572"
            ]
          },
          "execution_count": 352,
          "metadata": {},
          "output_type": "execute_result"
        }
      ],
      "source": [
        "# Access the transition probability $a_{ij}$\n",
        "i = 0; j =1\n",
        "matrix_A_List[i][j]"
      ]
    },
    {
      "cell_type": "code",
      "execution_count": null,
      "metadata": {
        "colab": {
          "background_save": true,
          "base_uri": "https://localhost:8080/"
        },
        "id": "DKkWN3-_ntmk",
        "outputId": "be4ba254-9170-42b9-e80e-93418acb98aa"
      },
      "outputs": [
        {
          "data": {
            "text/plain": [
              "[[0.001562786154691411,\n",
              "  0.003125572309382822,\n",
              "  0.006251144618765644,\n",
              "  0.012502289237531288,\n",
              "  0.025004578475062576,\n",
              "  0.05000915695012515,\n",
              "  0.1000183139002503,\n",
              "  0.6,\n",
              "  0.1000183139002503,\n",
              "  0.05000915695012515,\n",
              "  0.025004578475062576,\n",
              "  0.012502289237531288,\n",
              "  0.006251144618765644,\n",
              "  0.003125572309382822,\n",
              "  0.001562786154691411,\n",
              "  0.0007813930773457055,\n",
              "  0.00039069653867285274,\n",
              "  0.00019534826933642637,\n",
              "  9.767413466821319e-05,\n",
              "  4.883706733410659e-05,\n",
              "  2.4418533667053296e-05,\n",
              "  4.883706733410659e-05,\n",
              "  9.767413466821319e-05,\n",
              "  0.00019534826933642637,\n",
              "  0.00039069653867285274,\n",
              "  0.0007813930773457055],\n",
              " [0.0007813930773457055,\n",
              "  0.001562786154691411,\n",
              "  0.003125572309382822,\n",
              "  0.006251144618765644,\n",
              "  0.012502289237531288,\n",
              "  0.025004578475062576,\n",
              "  0.05000915695012515,\n",
              "  0.1000183139002503,\n",
              "  0.6,\n",
              "  0.1000183139002503,\n",
              "  0.05000915695012515,\n",
              "  0.025004578475062576,\n",
              "  0.012502289237531288,\n",
              "  0.006251144618765644,\n",
              "  0.003125572309382822,\n",
              "  0.001562786154691411,\n",
              "  0.0007813930773457055,\n",
              "  0.00039069653867285274,\n",
              "  0.00019534826933642637,\n",
              "  9.767413466821319e-05,\n",
              "  4.883706733410659e-05,\n",
              "  2.4418533667053296e-05,\n",
              "  4.883706733410659e-05,\n",
              "  9.767413466821319e-05,\n",
              "  0.00019534826933642637,\n",
              "  0.00039069653867285274],\n",
              " [0.0007813930773457055,\n",
              "  0.00039069653867285274,\n",
              "  0.00019534826933642637,\n",
              "  9.767413466821319e-05,\n",
              "  4.883706733410659e-05,\n",
              "  2.4418533667053296e-05,\n",
              "  4.883706733410659e-05,\n",
              "  9.767413466821319e-05,\n",
              "  0.00019534826933642637,\n",
              "  0.00039069653867285274,\n",
              "  0.0007813930773457055,\n",
              "  0.001562786154691411,\n",
              "  0.003125572309382822,\n",
              "  0.006251144618765644,\n",
              "  0.012502289237531288,\n",
              "  0.025004578475062576,\n",
              "  0.05000915695012515,\n",
              "  0.1000183139002503,\n",
              "  0.6,\n",
              "  0.1000183139002503,\n",
              "  0.05000915695012515,\n",
              "  0.025004578475062576,\n",
              "  0.012502289237531288,\n",
              "  0.006251144618765644,\n",
              "  0.003125572309382822,\n",
              "  0.001562786154691411]]"
            ]
          },
          "execution_count": 353,
          "metadata": {},
          "output_type": "execute_result"
        }
      ],
      "source": [
        "# observation probability matrix B,\n",
        "# excluding the rows for I and F columns,\n",
        "# exclucing the columns for ReadyToType and EndOfWord\n",
        "alphabet = \"abcdefghijklmnopqrstuvwxyz\"\n",
        "matrix_B_List = [ [prCharGiveCharState(char, state_Char) for char in alphabet]\n",
        "                  for state_Char in state_chars]\n",
        "matrix_B_List"
      ]
    },
    {
      "cell_type": "code",
      "execution_count": null,
      "metadata": {
        "colab": {
          "background_save": true,
          "base_uri": "https://localhost:8080/"
        },
        "id": "ER4IXD1Hntmn",
        "outputId": "61696dca-3739-4aa7-ad2f-51d91423a0ca"
      },
      "outputs": [
        {
          "data": {
            "text/plain": [
              "0.001562786154691411"
            ]
          },
          "execution_count": 354,
          "metadata": {},
          "output_type": "execute_result"
        }
      ],
      "source": [
        "# Access the observation probability $b_{ij}$\n",
        "i = 0; j =0   #Typing the first character (state_index is 0) in the word but get 'a' generated\n",
        "matrix_B_List[i][j]"
      ]
    },
    {
      "cell_type": "code",
      "execution_count": null,
      "metadata": {
        "colab": {
          "background_save": true,
          "base_uri": "https://localhost:8080/"
        },
        "id": "J9k9AjoWntmr",
        "outputId": "67787cda-2aec-4a65-b724-5188fe1d5959"
      },
      "outputs": [
        {
          "data": {
            "text/plain": [
              "0.003125572309382822"
            ]
          },
          "execution_count": 355,
          "metadata": {},
          "output_type": "execute_result"
        }
      ],
      "source": [
        "# Access the observation probability $b_{ij}$\n",
        "i = 0; j =1   #Typing the first character (state_index is 0) in the word but get 'b' generated\n",
        "matrix_B_List[i][j]"
      ]
    },
    {
      "cell_type": "markdown",
      "metadata": {
        "id": "rlE4Bnkbntmu"
      },
      "source": [
        "# 4.2 Data Structures: Use np arrays as data structures instead"
      ]
    },
    {
      "cell_type": "code",
      "execution_count": null,
      "metadata": {
        "colab": {
          "background_save": true
        },
        "id": "ouLc3Pqzntmw"
      },
      "outputs": [],
      "source": [
        "vector_pi = np.array( vector_pi_list )\n",
        "matrix_A = np.array( matrix_A_List )\n",
        "matrix_B = np.array( matrix_B_List )"
      ]
    },
    {
      "cell_type": "code",
      "execution_count": null,
      "metadata": {
        "colab": {
          "background_save": true,
          "base_uri": "https://localhost:8080/"
        },
        "id": "XesEwLWAntmy",
        "outputId": "344731a0-d1fb-41f3-8496-414326658ad0"
      },
      "outputs": [
        {
          "name": "stdout",
          "output_type": "stream",
          "text": [
            "[0.57142857 0.28571429 0.14285714]\n",
            "(3,)\n"
          ]
        },
        {
          "data": {
            "text/plain": [
              "1.0"
            ]
          },
          "execution_count": 357,
          "metadata": {},
          "output_type": "execute_result"
        }
      ],
      "source": [
        "print(vector_pi)  #Check the shape\n",
        "print(vector_pi.shape)  #Check the shape\n",
        "vector_pi.sum()         #Check the sum of probabilties"
      ]
    },
    {
      "cell_type": "code",
      "execution_count": null,
      "metadata": {
        "colab": {
          "background_save": true,
          "base_uri": "https://localhost:8080/"
        },
        "id": "OGu2XncWntm0",
        "outputId": "e88d4bac-e0b9-41db-e487-5cc3884060d7"
      },
      "outputs": [
        {
          "name": "stdout",
          "output_type": "stream",
          "text": [
            "(3, 4)\n"
          ]
        },
        {
          "data": {
            "text/plain": [
              "array([1., 1., 1.])"
            ]
          },
          "execution_count": 358,
          "metadata": {},
          "output_type": "execute_result"
        }
      ],
      "source": [
        "print(matrix_A.shape)  #Check the shape\n",
        "matrix_A.sum(axis = 1) #Check the sum of probabilties on each row"
      ]
    },
    {
      "cell_type": "code",
      "execution_count": null,
      "metadata": {
        "colab": {
          "background_save": true,
          "base_uri": "https://localhost:8080/"
        },
        "id": "1LfORo92ntm3",
        "outputId": "3f770aca-f2f6-4484-fa16-e80a7f134001"
      },
      "outputs": [
        {
          "name": "stdout",
          "output_type": "stream",
          "text": [
            "(3, 26)\n"
          ]
        },
        {
          "data": {
            "text/plain": [
              "array([1., 1., 1.])"
            ]
          },
          "execution_count": 359,
          "metadata": {},
          "output_type": "execute_result"
        }
      ],
      "source": [
        "print(matrix_B.shape)  #Check the shape\n",
        "matrix_B.sum(axis = 1) #Check the sum of probabilties on each row"
      ]
    },
    {
      "cell_type": "markdown",
      "metadata": {
        "id": "H7715k93ntm5"
      },
      "source": [
        "# 4.3 Ideas about implemening the forward algorithm for HMMs using Numpy arrays"
      ]
    },
    {
      "cell_type": "markdown",
      "metadata": {
        "id": "ft_yCi7Rntm9"
      },
      "source": [
        "## Example: Use the forward alforithm to figure out the probability of seeing \"ab\" (i.e \"ReadToType_ab_EndOfWord\"when the person is try to type the word \"his\"."
      ]
    },
    {
      "cell_type": "markdown",
      "metadata": {
        "id": "Sxe4cxi4ntm_"
      },
      "source": [
        "## You can use lists above as the data structures to implement the work or You may consider using numpy arrays as the data structures to implement the work. In the following, we show the basic ideas of using Numpy arrays for the implementation of the forward algorithm to figure out the probability."
      ]
    },
    {
      "cell_type": "markdown",
      "metadata": {
        "id": "MYvCWbLpntnB"
      },
      "source": [
        "## Note that in general the number of stages invloved should be 2+the number of characters in the observed string. In this case, we have 4 stages only since there are only 2 chracters observed."
      ]
    },
    {
      "cell_type": "code",
      "execution_count": null,
      "metadata": {
        "colab": {
          "background_save": true
        },
        "id": "TqdTNHGDntnD"
      },
      "outputs": [],
      "source": [
        "# Paraemter values for the 1D keyboad are stored in global variables; you can change them\n",
        "pr_hit = 0.6\n",
        "pr_miss = 0.4\n",
        "deg_kb = 2\n",
        "\n",
        "pr_repeat = 0.2\n",
        "pr_moveOn = 0.8\n",
        "deg_sp = 2\n",
        "\n",
        "wordToType = \"his\"\n",
        "observedString = \"ab\"\n"
      ]
    },
    {
      "cell_type": "markdown",
      "metadata": {
        "id": "wO_crvM-ntnG"
      },
      "source": [
        "## Stage 1 (The column for observing ReadyToType ): Must start at state I (probability 0 for the other states)"
      ]
    },
    {
      "cell_type": "markdown",
      "metadata": {
        "id": "RqiijCwMntnI"
      },
      "source": [
        "## Stage 2 (The column for observing 'a'): only keep the real states (excluding I and F)"
      ]
    },
    {
      "cell_type": "code",
      "execution_count": null,
      "metadata": {
        "colab": {
          "background_save": true,
          "base_uri": "https://localhost:8080/"
        },
        "id": "5_ITjdxMntnO",
        "outputId": "01a2f4f5-d6e0-4ad3-8f8c-50fa700185d5"
      },
      "outputs": [
        {
          "name": "stdout",
          "output_type": "stream",
          "text": [
            "(3,)\n"
          ]
        },
        {
          "data": {
            "text/plain": [
              "array([0.57142857, 0.28571429, 0.14285714])"
            ]
          },
          "execution_count": 361,
          "metadata": {},
          "output_type": "execute_result"
        }
      ],
      "source": [
        "#Probabilties of transitioning into each of the real states from I\n",
        "print( vector_pi.shape)\n",
        "vector_pi"
      ]
    },
    {
      "cell_type": "code",
      "execution_count": null,
      "metadata": {
        "colab": {
          "background_save": true
        },
        "id": "zq2Iii9SntnR"
      },
      "outputs": [],
      "source": [
        "#Probabilties of transitioning into each of the real states from I\n",
        "stage2_1 = vector_pi"
      ]
    },
    {
      "cell_type": "code",
      "execution_count": null,
      "metadata": {
        "colab": {
          "background_save": true,
          "base_uri": "https://localhost:8080/"
        },
        "id": "bCLO_DzJntnU",
        "outputId": "c879bfcb-df40-47dd-d5f2-5b915a6926ff"
      },
      "outputs": [
        {
          "name": "stdout",
          "output_type": "stream",
          "text": [
            "charObserved: a\n"
          ]
        },
        {
          "data": {
            "text/plain": [
              "array([0.00156279, 0.00078139, 0.00078139])"
            ]
          },
          "execution_count": 363,
          "metadata": {},
          "output_type": "execute_result"
        }
      ],
      "source": [
        "#Probabilities of observing the first character in each of the real states (excluding F)\n",
        "observationIndex = 0\n",
        "charObserved = observedString[observationIndex]\n",
        "print( \"charObserved:\", charObserved)\n",
        "indexOfObservedChar = ord(charObserved) - ord('a')\n",
        "matrix_B[:, indexOfObservedChar]"
      ]
    },
    {
      "cell_type": "code",
      "execution_count": null,
      "metadata": {
        "colab": {
          "background_save": true,
          "base_uri": "https://localhost:8080/"
        },
        "id": "jf_RVp1OntnY",
        "outputId": "efecf617-c960-4994-a76c-a6b15763dcbe"
      },
      "outputs": [
        {
          "data": {
            "text/plain": [
              "array([0.00089302, 0.00022326, 0.00011163])"
            ]
          },
          "execution_count": 364,
          "metadata": {},
          "output_type": "execute_result"
        }
      ],
      "source": [
        "# Combine the two items above to calculate\n",
        "# Probabilities of ending in each of the real states (excluding F) and observing a\n",
        "stage2_2 = stage2_1*matrix_B[:, indexOfObservedChar]\n",
        "stage2_2"
      ]
    },
    {
      "cell_type": "markdown",
      "metadata": {
        "id": "v7suXEMAntnb"
      },
      "source": [
        "## Stage 3 (The column for observing 'b'): only keep the real states (excluding I and F)"
      ]
    },
    {
      "cell_type": "code",
      "execution_count": null,
      "metadata": {
        "colab": {
          "background_save": true,
          "base_uri": "https://localhost:8080/"
        },
        "id": "J0KdE43sntnd",
        "outputId": "4fe17d56-518a-46d3-c2d8-322a52aaf9ca"
      },
      "outputs": [
        {
          "data": {
            "text/plain": [
              "array([0.00089302, 0.00022326, 0.00011163])"
            ]
          },
          "execution_count": 365,
          "metadata": {},
          "output_type": "execute_result"
        }
      ],
      "source": [
        "stage2_2"
      ]
    },
    {
      "cell_type": "code",
      "execution_count": null,
      "metadata": {
        "colab": {
          "background_save": true,
          "base_uri": "https://localhost:8080/"
        },
        "id": "vCnLZtjrntng",
        "outputId": "5c4fffef-b85f-4557-f841-da169df6413a"
      },
      "outputs": [
        {
          "name": "stdout",
          "output_type": "stream",
          "text": [
            "(3, 1)\n"
          ]
        },
        {
          "data": {
            "text/plain": [
              "array([[0.00089302],\n",
              "       [0.00022326],\n",
              "       [0.00011163]])"
            ]
          },
          "execution_count": 366,
          "metadata": {},
          "output_type": "execute_result"
        }
      ],
      "source": [
        "stage2_2[:, np.newaxis]\n",
        "print( stage2_2[:, np.newaxis].shape )\n",
        "stage2_2[:, np.newaxis]"
      ]
    },
    {
      "cell_type": "code",
      "execution_count": null,
      "metadata": {
        "colab": {
          "background_save": true,
          "base_uri": "https://localhost:8080/"
        },
        "id": "kluMd4j0ntni",
        "outputId": "ba338ebd-43fb-4ff3-c54c-53dba8e371e9"
      },
      "outputs": [
        {
          "data": {
            "text/plain": [
              "array([[1.78604132e-04, 4.08238016e-04, 2.04119008e-04, 1.02059504e-04],\n",
              "       [0.00000000e+00, 4.46510330e-05, 1.19069421e-04, 5.95347107e-05],\n",
              "       [0.00000000e+00, 0.00000000e+00, 2.23255165e-05, 8.93020660e-05]])"
            ]
          },
          "execution_count": 367,
          "metadata": {},
          "output_type": "execute_result"
        }
      ],
      "source": [
        "#Probabilties of further transitioning into each of the real states\n",
        "stage3_1 = stage2_2[:, np.newaxis]  * matrix_A\n",
        "stage3_1"
      ]
    },
    {
      "cell_type": "code",
      "execution_count": null,
      "metadata": {
        "colab": {
          "background_save": true,
          "base_uri": "https://localhost:8080/"
        },
        "id": "rxJOsOW1ntnl",
        "outputId": "5676e6a9-8764-4622-ee9c-380b3dab1d63"
      },
      "outputs": [
        {
          "data": {
            "text/plain": [
              "array([0.0001786 , 0.00045289, 0.00034551, 0.0002509 ])"
            ]
          },
          "execution_count": 368,
          "metadata": {},
          "output_type": "execute_result"
        }
      ],
      "source": [
        "stage3_2 = stage3_1.sum(axis = 0)\n",
        "stage3_2"
      ]
    },
    {
      "cell_type": "code",
      "execution_count": null,
      "metadata": {
        "colab": {
          "background_save": true,
          "base_uri": "https://localhost:8080/"
        },
        "id": "KwZy2_CCntnp",
        "outputId": "0b7605e1-4bb0-471f-8f61-b46a8c939af0"
      },
      "outputs": [
        {
          "data": {
            "text/plain": [
              "array([0.0001786 , 0.00045289, 0.00034551])"
            ]
          },
          "execution_count": 369,
          "metadata": {},
          "output_type": "execute_result"
        }
      ],
      "source": [
        "#Probabilities of ending in each of the real states (excluding F)\n",
        "stage3_2[:-1]"
      ]
    },
    {
      "cell_type": "code",
      "execution_count": null,
      "metadata": {
        "colab": {
          "background_save": true,
          "base_uri": "https://localhost:8080/"
        },
        "id": "INBaj_Mpntns",
        "outputId": "62808b17-f8e6-4e44-d230-254de69a0b74"
      },
      "outputs": [
        {
          "name": "stdout",
          "output_type": "stream",
          "text": [
            "charObserved: b\n"
          ]
        },
        {
          "data": {
            "text/plain": [
              "array([0.00312557, 0.00156279, 0.0003907 ])"
            ]
          },
          "execution_count": 370,
          "metadata": {},
          "output_type": "execute_result"
        }
      ],
      "source": [
        "#Probabilities of observing the second character in each of the real states (excluding F)\n",
        "observationIndex = 1\n",
        "charObserved = observedString[observationIndex]\n",
        "print( \"charObserved:\", charObserved)\n",
        "indexOfObservedChar = ord(charObserved) - ord('a')\n",
        "matrix_B[:, indexOfObservedChar]\n"
      ]
    },
    {
      "cell_type": "code",
      "execution_count": null,
      "metadata": {
        "colab": {
          "background_save": true,
          "base_uri": "https://localhost:8080/"
        },
        "id": "H00N1kvyntnv",
        "outputId": "39d43aaa-8736-4156-c313-0c40f39dbe9b"
      },
      "outputs": [
        {
          "data": {
            "text/plain": [
              "array([5.58240129e-07, 7.07768735e-07, 1.34991103e-07])"
            ]
          },
          "execution_count": 371,
          "metadata": {},
          "output_type": "execute_result"
        }
      ],
      "source": [
        "# Combine the two items above to calculate\n",
        "# Probabilities of ending in each of the real states (excluding F) and observing b\n",
        "stage3_3 = stage3_2[:-1]*matrix_B[:, indexOfObservedChar]\n",
        "stage3_3"
      ]
    },
    {
      "cell_type": "markdown",
      "metadata": {
        "id": "sM-QiGFintnz"
      },
      "source": [
        "## Stage 4 (The column for observing EndOfWord ): Must be in the Final State F (probability = 0 for the other states)"
      ]
    },
    {
      "cell_type": "code",
      "execution_count": null,
      "metadata": {
        "colab": {
          "background_save": true,
          "base_uri": "https://localhost:8080/"
        },
        "id": "ZM966-Uentn1",
        "outputId": "2f0c91f0-ca65-4c6f-910d-3ab2b5eb4bb6"
      },
      "outputs": [
        {
          "data": {
            "text/plain": [
              "array([5.58240129e-07, 7.07768735e-07, 1.34991103e-07])"
            ]
          },
          "execution_count": 372,
          "metadata": {},
          "output_type": "execute_result"
        }
      ],
      "source": [
        "# Probabilities of ending in each of the real states (excluding F) and observing b\n",
        "stage3_3"
      ]
    },
    {
      "cell_type": "code",
      "execution_count": null,
      "metadata": {
        "colab": {
          "background_save": true,
          "base_uri": "https://localhost:8080/"
        },
        "id": "04kLYWCZntn5",
        "outputId": "3f9107ae-e05e-43e1-de7d-849752c13489"
      },
      "outputs": [
        {
          "data": {
            "text/plain": [
              "array([0.11428571, 0.26666667, 0.8       ])"
            ]
          },
          "execution_count": 373,
          "metadata": {},
          "output_type": "execute_result"
        }
      ],
      "source": [
        "# Probabilities of then transitioning to F from each of the real states\n",
        "matrix_A[:, len( wordToType)]"
      ]
    },
    {
      "cell_type": "code",
      "execution_count": null,
      "metadata": {
        "colab": {
          "background_save": true,
          "base_uri": "https://localhost:8080/"
        },
        "id": "1-xgcjIpntn8",
        "outputId": "54a12dee-5be0-49ec-9a97-c3c2d3f6b376"
      },
      "outputs": [
        {
          "data": {
            "text/plain": [
              "array([6.37988719e-08, 1.88738329e-07, 1.07992882e-07])"
            ]
          },
          "execution_count": 374,
          "metadata": {},
          "output_type": "execute_result"
        }
      ],
      "source": [
        "# Combine the two items above to calculate the\n",
        "# Probabilities of then transition to F and ending the typing process of the word\n",
        "# Transisiton to F (index 3 in this case )\n",
        "stage4_1 = stage3_3 * matrix_A[:, len( wordToType)]\n",
        "stage4_1"
      ]
    },
    {
      "cell_type": "code",
      "execution_count": null,
      "metadata": {
        "colab": {
          "background_save": true
        },
        "id": "_5Qxj8yEntoA"
      },
      "outputs": [],
      "source": [
        "# The result is the sum of all these probabilities"
      ]
    },
    {
      "cell_type": "code",
      "execution_count": null,
      "metadata": {
        "colab": {
          "background_save": true,
          "base_uri": "https://localhost:8080/"
        },
        "id": "jf-YM9euntoG",
        "outputId": "051a2244-d3a2-4fd3-fbbe-bdbcce73146b"
      },
      "outputs": [
        {
          "data": {
            "text/plain": [
              "3.6053008344833416e-07"
            ]
          },
          "execution_count": 376,
          "metadata": {},
          "output_type": "execute_result"
        }
      ],
      "source": [
        "result = stage4_1.sum()\n",
        "result"
      ]
    },
    {
      "cell_type": "markdown",
      "metadata": {
        "id": "W7wCYXwGntoJ"
      },
      "source": [
        "## The result above is also what you would get from the sample demo program for HMMs.\n",
        "# * * * * * * * * * * * * * * * * * * * * * * * * * * * * * * * * * * * *"
      ]
    },
    {
      "cell_type": "markdown",
      "metadata": {
        "id": "MeCLBuZEntoL"
      },
      "source": [
        "# 4.4 Complete the implementation of the forward algorithm below ==>\n",
        "## Define a function prOf1CharSeriesWhenTyping1Word_F to generalize the process (of the forward algorithm) demonstrated in the case above for any given wordToType and any given observedString"
      ]
    },
    {
      "cell_type": "code",
      "execution_count": null,
      "metadata": {
        "colab": {
          "background_save": true
        },
        "id": "oBzZM_TrntoN"
      },
      "outputs": [],
      "source": [
        "# Using the forward algorithm algorithm to determine the probability:\n",
        "# The function should calculate and return\n",
        "#     the probability of getting the string d\n",
        "#     when the user (modelled by the parameter values of pr_hit, pr_repeat, degenerate_kb, ...)\n",
        "#     want to type the word in string w\n",
        "# When the trace is True, the function will report the trace of computation done.\n",
        "\n",
        "def prOf1CharSeriesWhenTyping1Word_F(observedString, wordToType, trace = False):\n",
        "    #The probability distribution after leaving I\n",
        "    vector_pi_list = getPrTableForPossibleInitialStatesGivenTheWord(wordToType)\n",
        "\n",
        "    #The transition probability matrix A\n",
        "    lenthOfWord = len(wordToType)\n",
        "    matrix_A_List = [ getPrTableForPossibleNextStatesGivenWord(wordToType, currentState)\n",
        "                      for currentState in range(lenthOfWord)]\n",
        "\n",
        "    #The observation probability matrix B\n",
        "    alphabet = \"abcdefghijklmnopqrstuvwxyz\"\n",
        "    matrix_B_List = [ [prCharGiveCharState(char, state_Char) for char in alphabet]\n",
        "                      for state_Char in wordToType]\n",
        "\n",
        "    ##############################################\n",
        "    #Cast them into numpy arrays\n",
        "    ##############################################\n",
        "    vector_pi = np.array( vector_pi_list )\n",
        "    matrix_A = np.array( matrix_A_List )\n",
        "    matrix_B = np.array( matrix_B_List )\n",
        "\n",
        "    if trace == True:\n",
        "        print(\"vector_pi\", vector_pi.shape, \":\\n\", vector_pi)\n",
        "        print(\"matrix_A\", matrix_A.shape, \":\\n\", matrix_A)\n",
        "        print(\"matrix_B\", matrix_B.shape, \":\\n\", matrix_B)\n",
        "\n",
        "    ##############################################\n",
        "    #For the first column (corresponding to the first character observed)\n",
        "    ##############################################\n",
        "    observationIndex = 0\n",
        "    charObserved = observedString[observationIndex]\n",
        "    if trace == True:\n",
        "        print( \"\\n\\nobservationIndex, charObserved:\", observationIndex, \",\", charObserved)\n",
        "    indexOfObservedCharInAlphabet = ord(charObserved) - ord('a');\n",
        "\n",
        "    #transitionProbabilties record the 1st-stage results of a column regarding\n",
        "    #    the probabilities of ending in each of the states at this point\n",
        "    transitionProbabilties = vector_pi\n",
        "    if trace == True:\n",
        "        print(\"Probabilties of ending at the states at this point:\\n\", transitionProbabilties)\n",
        "\n",
        "    #columnProbabilities record the 2nd-stage results of a column regarding\n",
        "    #    the probabilities of ending in each of the states at this point and also\n",
        "    #                         seeing the specific character at this point\n",
        "    observationProbabilities = matrix_B[:, indexOfObservedCharInAlphabet]\n",
        "    if trace == True:\n",
        "        print(\"probabilities of observing \", charObserved, \" at specific states alone:\\n\",\n",
        "              observationProbabilities)\n",
        "\n",
        "    columnProbabilities = transitionProbabilties * observationProbabilities\n",
        "    if trace == True:\n",
        "        print(\"Probabilties of observing up to\", charObserved,\n",
        "              \" and ending at the states at this point:\\n\", columnProbabilities)\n",
        "\n",
        "\n",
        "    ##############################################\n",
        "    # For the remaining columns one at a time\n",
        "    ##############################################\n",
        "    lenthOfObservedString = len(observedString)\n",
        "    for observationIndex in np.arange(1, lenthOfObservedString):\n",
        "        charObserved = observedString[observationIndex]\n",
        "        if trace == True:\n",
        "            print( \"\\nobservationIndex, charObserved:\", observationIndex, \",\", charObserved)\n",
        "\n",
        "        ##############################################################\n",
        "        ## write the reamining part of the body of the for loop\n",
        "        ##############################################################\n",
        "        observationProbabilities = matrix_B[:, indexOfObservedCharInAlphabet]\n",
        "        if trace == True:\n",
        "            print(\"probabilities of observing \", charObserved, \" at specific states alone:\\n\",\n",
        "              observationProbabilities)\n",
        "\n",
        "        transitionProbabilities2 = columnProbabilities[:, np.newaxis] * matrix_A\n",
        "        transitionProbabilities = transitionProbabilities2.sum(axis = 0)\n",
        "        #if trace == True:\n",
        "           # print(\"Transition probabilities at this point: \", transitionProbabilities2)\n",
        "        columnProbabilities = observationProbabilities * transitionProbabilities[:-1]\n",
        "        print(f\"[Probaility({observedString}, {wordToType})]: \\nWhat is the observed string you see? (Enter. to quit){observedString} \")\n",
        "        print(f\"What is the actual string you intend to type?{wordToType} \\nProbaility({observedString} | {wordToType})={columnProbabilities[-1]}\")\n",
        "\n",
        "\n",
        "        if trace == True:\n",
        "            print(\"Probabilities of observing up to\", charObserved, \" and ending at the states at this point:\\n \", columnProbabilities)\n",
        "\n",
        "        # for observationIndex in np.arrange(1, lenthOfObservedString)\n",
        "        # columnProbabilities[:, np.newaxis]\n",
        "        # columnProbabilities2 = columnPorbabilities[:, np.newaxis] * matrix_A.sum\n",
        "        # columnProbabilities = columnProbabilities2[:-1] * matrix_B[:, indexOfObservedChar]\n",
        "        # ...\n",
        "        # ...\n",
        "\n",
        "    ##############################################\n",
        "    # Determine the sum of probabilities of transitioning to the Final state F from each state\n",
        "    ##############################################\n",
        "    if trace == True:\n",
        "        print(\"\\nprobabilities of transitioning to F from states at this point:\\n\",\n",
        "              matrix_A[:, len( wordToType)] )\n",
        "    pr = (columnProbabilities * matrix_A[:, len( wordToType)]).sum()\n",
        "    if trace == True:\n",
        "        print(\"\\nSum of the probabilitie above:\", pr);\n",
        "\n",
        "    return pr"
      ]
    },
    {
      "cell_type": "code",
      "execution_count": null,
      "metadata": {
        "colab": {
          "background_save": true,
          "base_uri": "https://localhost:8080/"
        },
        "id": "aZuXi0dmntoU",
        "outputId": "8d4241cb-872c-462b-c9e7-485dedc4f209"
      },
      "outputs": [
        {
          "name": "stdout",
          "output_type": "stream",
          "text": [
            "vector_pi (3,) :\n",
            " [0.57142857 0.28571429 0.14285714]\n",
            "matrix_A (3, 4) :\n",
            " [[0.2        0.45714286 0.22857143 0.11428571]\n",
            " [0.         0.2        0.53333333 0.26666667]\n",
            " [0.         0.         0.2        0.8       ]]\n",
            "matrix_B (3, 26) :\n",
            " [[6.00000000e-01 1.00018314e-01 5.00091570e-02 2.50045785e-02\n",
            "  1.25022892e-02 6.25114462e-03 3.12557231e-03 1.56278615e-03\n",
            "  7.81393077e-04 3.90696539e-04 1.95348269e-04 9.76741347e-05\n",
            "  4.88370673e-05 2.44185337e-05 4.88370673e-05 9.76741347e-05\n",
            "  1.95348269e-04 3.90696539e-04 7.81393077e-04 1.56278615e-03\n",
            "  3.12557231e-03 6.25114462e-03 1.25022892e-02 2.50045785e-02\n",
            "  5.00091570e-02 1.00018314e-01]\n",
            " [1.00018314e-01 6.00000000e-01 1.00018314e-01 5.00091570e-02\n",
            "  2.50045785e-02 1.25022892e-02 6.25114462e-03 3.12557231e-03\n",
            "  1.56278615e-03 7.81393077e-04 3.90696539e-04 1.95348269e-04\n",
            "  9.76741347e-05 4.88370673e-05 2.44185337e-05 4.88370673e-05\n",
            "  9.76741347e-05 1.95348269e-04 3.90696539e-04 7.81393077e-04\n",
            "  1.56278615e-03 3.12557231e-03 6.25114462e-03 1.25022892e-02\n",
            "  2.50045785e-02 5.00091570e-02]\n",
            " [5.00091570e-02 1.00018314e-01 6.00000000e-01 1.00018314e-01\n",
            "  5.00091570e-02 2.50045785e-02 1.25022892e-02 6.25114462e-03\n",
            "  3.12557231e-03 1.56278615e-03 7.81393077e-04 3.90696539e-04\n",
            "  1.95348269e-04 9.76741347e-05 4.88370673e-05 2.44185337e-05\n",
            "  4.88370673e-05 9.76741347e-05 1.95348269e-04 3.90696539e-04\n",
            "  7.81393077e-04 1.56278615e-03 3.12557231e-03 6.25114462e-03\n",
            "  1.25022892e-02 2.50045785e-02]]\n",
            "\n",
            "\n",
            "observationIndex, charObserved: 0 , b\n",
            "Probabilties of ending at the states at this point:\n",
            " [0.57142857 0.28571429 0.14285714]\n",
            "probabilities of observing  b  at specific states alone:\n",
            " [0.10001831 0.6        0.10001831]\n",
            "Probabilties of observing up to b  and ending at the states at this point:\n",
            " [0.05715332 0.17142857 0.01428833]\n",
            "\n",
            "observationIndex, charObserved: 1 , b\n",
            "probabilities of observing  b  at specific states alone:\n",
            " [0.10001831 0.6        0.10001831]\n",
            "[Probaility(bbd, abc)]: \n",
            "What is the observed string you see? (Enter. to quit)bbd \n",
            "What is the actual string you intend to type?abc \n",
            "Probaility(bbd | abc)=0.010736951399461703\n",
            "Probabilities of observing up to b  and ending at the states at this point:\n",
            "  [0.00114328 0.03624777 0.01073695]\n",
            "\n",
            "observationIndex, charObserved: 2 , d\n",
            "probabilities of observing  d  at specific states alone:\n",
            " [0.10001831 0.6        0.10001831]\n",
            "[Probaility(bbd, abc)]: \n",
            "What is the observed string you see? (Enter. to quit)bbd \n",
            "What is the actual string you intend to type?abc \n",
            "Probaility(bbd | abc)=0.0021744835194933603\n",
            "Probabilities of observing up to d  and ending at the states at this point:\n",
            "  [2.28697033e-05 4.66331642e-03 2.17448352e-03]\n",
            "\n",
            "probabilities of transitioning to F from states at this point:\n",
            " [0.11428571 0.26666667 0.8       ]\n",
            "\n",
            "Sum of the probabilitie above: 0.00298575154160429\n"
          ]
        },
        {
          "data": {
            "text/plain": [
              "0.00298575154160429"
            ]
          },
          "execution_count": 378,
          "metadata": {},
          "output_type": "execute_result"
        }
      ],
      "source": [
        "prOf1CharSeriesWhenTyping1Word_F(\"bbd\", \"abc\", True)"
      ]
    },
    {
      "cell_type": "code",
      "execution_count": null,
      "metadata": {
        "colab": {
          "background_save": true,
          "base_uri": "https://localhost:8080/"
        },
        "id": "swl-982entoW",
        "outputId": "80a66324-6bc5-471f-aaaf-79c50cdffe21"
      },
      "outputs": [
        {
          "name": "stdout",
          "output_type": "stream",
          "text": [
            "vector_pi (3,) :\n",
            " [0.57142857 0.28571429 0.14285714]\n",
            "matrix_A (3, 4) :\n",
            " [[0.2        0.45714286 0.22857143 0.11428571]\n",
            " [0.         0.2        0.53333333 0.26666667]\n",
            " [0.         0.         0.2        0.8       ]]\n",
            "matrix_B (3, 26) :\n",
            " [[1.56278615e-03 3.12557231e-03 6.25114462e-03 1.25022892e-02\n",
            "  2.50045785e-02 5.00091570e-02 1.00018314e-01 6.00000000e-01\n",
            "  1.00018314e-01 5.00091570e-02 2.50045785e-02 1.25022892e-02\n",
            "  6.25114462e-03 3.12557231e-03 1.56278615e-03 7.81393077e-04\n",
            "  3.90696539e-04 1.95348269e-04 9.76741347e-05 4.88370673e-05\n",
            "  2.44185337e-05 4.88370673e-05 9.76741347e-05 1.95348269e-04\n",
            "  3.90696539e-04 7.81393077e-04]\n",
            " [7.81393077e-04 1.56278615e-03 3.12557231e-03 6.25114462e-03\n",
            "  1.25022892e-02 2.50045785e-02 5.00091570e-02 1.00018314e-01\n",
            "  6.00000000e-01 1.00018314e-01 5.00091570e-02 2.50045785e-02\n",
            "  1.25022892e-02 6.25114462e-03 3.12557231e-03 1.56278615e-03\n",
            "  7.81393077e-04 3.90696539e-04 1.95348269e-04 9.76741347e-05\n",
            "  4.88370673e-05 2.44185337e-05 4.88370673e-05 9.76741347e-05\n",
            "  1.95348269e-04 3.90696539e-04]\n",
            " [7.81393077e-04 3.90696539e-04 1.95348269e-04 9.76741347e-05\n",
            "  4.88370673e-05 2.44185337e-05 4.88370673e-05 9.76741347e-05\n",
            "  1.95348269e-04 3.90696539e-04 7.81393077e-04 1.56278615e-03\n",
            "  3.12557231e-03 6.25114462e-03 1.25022892e-02 2.50045785e-02\n",
            "  5.00091570e-02 1.00018314e-01 6.00000000e-01 1.00018314e-01\n",
            "  5.00091570e-02 2.50045785e-02 1.25022892e-02 6.25114462e-03\n",
            "  3.12557231e-03 1.56278615e-03]]\n",
            "\n",
            "\n",
            "observationIndex, charObserved: 0 , h\n",
            "Probabilties of ending at the states at this point:\n",
            " [0.57142857 0.28571429 0.14285714]\n",
            "probabilities of observing  h  at specific states alone:\n",
            " [6.00000000e-01 1.00018314e-01 9.76741347e-05]\n",
            "Probabilties of observing up to h  and ending at the states at this point:\n",
            " [3.42857143e-01 2.85766611e-02 1.39534478e-05]\n",
            "\n",
            "observationIndex, charObserved: 1 , i\n",
            "probabilities of observing  i  at specific states alone:\n",
            " [6.00000000e-01 1.00018314e-01 9.76741347e-05]\n",
            "[Probaility(his, his)]: \n",
            "What is the observed string you see? (Enter. to quit)his \n",
            "What is the actual string you intend to type?his \n",
            "Probaility(his | his)=9.143375721237497e-06\n",
            "Probabilities of observing up to i  and ending at the states at this point:\n",
            "  [4.11428571e-02 1.62479777e-02 9.14337572e-06]\n",
            "\n",
            "observationIndex, charObserved: 2 , s\n",
            "probabilities of observing  s  at specific states alone:\n",
            " [6.00000000e-01 1.00018314e-01 9.76741347e-05]\n",
            "[Probaility(his, his)]: \n",
            "What is the observed string you see? (Enter. to quit)his \n",
            "What is the actual string you intend to type?his \n",
            "Probaility(his | his)=1.7651179699791181e-06\n",
            "Probabilities of observing up to s  and ending at the states at this point:\n",
            "  [4.93714286e-03 2.20617984e-03 1.76511797e-06]\n",
            "\n",
            "probabilities of transitioning to F from states at this point:\n",
            " [0.11428571 0.26666667 0.8       ]\n",
            "\n",
            "Sum of the probabilitie above: 0.0011539716174544866\n"
          ]
        },
        {
          "data": {
            "text/plain": [
              "0.0011539716174544866"
            ]
          },
          "execution_count": 379,
          "metadata": {},
          "output_type": "execute_result"
        }
      ],
      "source": [
        "# With trace\n",
        "prOf1CharSeriesWhenTyping1Word_F(\"his\", \"his\", True)"
      ]
    },
    {
      "cell_type": "code",
      "execution_count": null,
      "metadata": {
        "colab": {
          "background_save": true,
          "base_uri": "https://localhost:8080/"
        },
        "id": "-fF3B3hBntob",
        "outputId": "4955f4aa-830b-415b-c7ef-f5965b571542"
      },
      "outputs": [
        {
          "name": "stdout",
          "output_type": "stream",
          "text": [
            "[Probaility(his, his)]: \n",
            "What is the observed string you see? (Enter. to quit)his \n",
            "What is the actual string you intend to type?his \n",
            "Probaility(his | his)=9.143375721237497e-06\n",
            "[Probaility(his, his)]: \n",
            "What is the observed string you see? (Enter. to quit)his \n",
            "What is the actual string you intend to type?his \n",
            "Probaility(his | his)=1.7651179699791181e-06\n"
          ]
        },
        {
          "data": {
            "text/plain": [
              "0.0011539716174544866"
            ]
          },
          "execution_count": 380,
          "metadata": {},
          "output_type": "execute_result"
        }
      ],
      "source": [
        "# No trace\n",
        "prOf1CharSeriesWhenTyping1Word_F(\"his\", \"his\")"
      ]
    },
    {
      "cell_type": "code",
      "execution_count": null,
      "metadata": {
        "colab": {
          "background_save": true,
          "base_uri": "https://localhost:8080/"
        },
        "id": "wIEwgkEZntoe",
        "outputId": "37d577de-1573-4fc4-8947-e5188e001a10"
      },
      "outputs": [
        {
          "name": "stdout",
          "output_type": "stream",
          "text": [
            "[Probaility(sasdfsdfsdfsdfsdfsfafsdfdasff, sdfsdfsdfsfparameters)]: \n",
            "What is the observed string you see? (Enter. to quit)sasdfsdfsdfsdfsdfsfafsdfdasff \n",
            "What is the actual string you intend to type?sdfsdfsdfsfparameters \n",
            "Probaility(sasdfsdfsdfsdfsdfsfafsdfdasff | sdfsdfsdfsfparameters)=6.685397903318917e-07\n",
            "[Probaility(sasdfsdfsdfsdfsdfsfafsdfdasff, sdfsdfsdfsfparameters)]: \n",
            "What is the observed string you see? (Enter. to quit)sasdfsdfsdfsdfsdfsfafsdfdasff \n",
            "What is the actual string you intend to type?sdfsdfsdfsfparameters \n",
            "Probaility(sasdfsdfsdfsdfsdfsfafsdfdasff | sdfsdfsdfsfparameters)=7.151577791243623e-07\n",
            "[Probaility(sasdfsdfsdfsdfsdfsfafsdfdasff, sdfsdfsdfsfparameters)]: \n",
            "What is the observed string you see? (Enter. to quit)sasdfsdfsdfsdfsdfsfafsdfdasff \n",
            "What is the actual string you intend to type?sdfsdfsdfsfparameters \n",
            "Probaility(sasdfsdfsdfsdfsdfsfafsdfdasff | sdfsdfsdfsfparameters)=4.7306382737199383e-07\n",
            "[Probaility(sasdfsdfsdfsdfsdfsfafsdfdasff, sdfsdfsdfsfparameters)]: \n",
            "What is the observed string you see? (Enter. to quit)sasdfsdfsdfsdfsdfsfafsdfdasff \n",
            "What is the actual string you intend to type?sdfsdfsdfsfparameters \n",
            "Probaility(sasdfsdfsdfsdfsdfsfafsdfdasff | sdfsdfsdfsfparameters)=2.2204721172531265e-07\n",
            "[Probaility(sasdfsdfsdfsdfsdfsfafsdfdasff, sdfsdfsdfsfparameters)]: \n",
            "What is the observed string you see? (Enter. to quit)sasdfsdfsdfsdfsdfsfafsdfdasff \n",
            "What is the actual string you intend to type?sdfsdfsdfsfparameters \n",
            "Probaility(sasdfsdfsdfsdfsdfsfafsdfdasff | sdfsdfsdfsfparameters)=8.080032770167842e-08\n",
            "[Probaility(sasdfsdfsdfsdfsdfsfafsdfdasff, sdfsdfsdfsfparameters)]: \n",
            "What is the observed string you see? (Enter. to quit)sasdfsdfsdfsdfsdfsfafsdfdasff \n",
            "What is the actual string you intend to type?sdfsdfsdfsfparameters \n",
            "Probaility(sasdfsdfsdfsdfsdfsfafsdfdasff | sdfsdfsdfsfparameters)=2.4300745120141967e-08\n",
            "[Probaility(sasdfsdfsdfsdfsdfsfafsdfdasff, sdfsdfsdfsfparameters)]: \n",
            "What is the observed string you see? (Enter. to quit)sasdfsdfsdfsdfsdfsfafsdfdasff \n",
            "What is the actual string you intend to type?sdfsdfsdfsfparameters \n",
            "Probaility(sasdfsdfsdfsdfsdfsfafsdfdasff | sdfsdfsdfsfparameters)=6.329847410863703e-09\n",
            "[Probaility(sasdfsdfsdfsdfsdfsfafsdfdasff, sdfsdfsdfsfparameters)]: \n",
            "What is the observed string you see? (Enter. to quit)sasdfsdfsdfsdfsdfsfafsdfdasff \n",
            "What is the actual string you intend to type?sdfsdfsdfsfparameters \n",
            "Probaility(sasdfsdfsdfsdfsdfsfafsdfdasff | sdfsdfsdfsfparameters)=1.4772810415882306e-09\n",
            "[Probaility(sasdfsdfsdfsdfsdfsfafsdfdasff, sdfsdfsdfsfparameters)]: \n",
            "What is the observed string you see? (Enter. to quit)sasdfsdfsdfsdfsdfsfafsdfdasff \n",
            "What is the actual string you intend to type?sdfsdfsdfsfparameters \n",
            "Probaility(sasdfsdfsdfsdfsdfsfafsdfdasff | sdfsdfsdfsfparameters)=3.1657155430207926e-10\n",
            "[Probaility(sasdfsdfsdfsdfsdfsfafsdfdasff, sdfsdfsdfsfparameters)]: \n",
            "What is the observed string you see? (Enter. to quit)sasdfsdfsdfsdfsdfsfafsdfdasff \n",
            "What is the actual string you intend to type?sdfsdfsdfsfparameters \n",
            "Probaility(sasdfsdfsdfsdfsdfsfafsdfdasff | sdfsdfsdfsfparameters)=6.341082916611153e-11\n",
            "[Probaility(sasdfsdfsdfsdfsdfsfafsdfdasff, sdfsdfsdfsfparameters)]: \n",
            "What is the observed string you see? (Enter. to quit)sasdfsdfsdfsdfsdfsfafsdfdasff \n",
            "What is the actual string you intend to type?sdfsdfsdfsfparameters \n",
            "Probaility(sasdfsdfsdfsdfsdfsfafsdfdasff | sdfsdfsdfsfparameters)=1.2029535346363694e-11\n",
            "[Probaility(sasdfsdfsdfsdfsdfsfafsdfdasff, sdfsdfsdfsfparameters)]: \n",
            "What is the observed string you see? (Enter. to quit)sasdfsdfsdfsdfsdfsfafsdfdasff \n",
            "What is the actual string you intend to type?sdfsdfsdfsfparameters \n",
            "Probaility(sasdfsdfsdfsdfsdfsfafsdfdasff | sdfsdfsdfsfparameters)=2.1827809939787846e-12\n",
            "[Probaility(sasdfsdfsdfsdfsdfsfafsdfdasff, sdfsdfsdfsfparameters)]: \n",
            "What is the observed string you see? (Enter. to quit)sasdfsdfsdfsdfsdfsfafsdfdasff \n",
            "What is the actual string you intend to type?sdfsdfsdfsfparameters \n",
            "Probaility(sasdfsdfsdfsdfsdfsfafsdfdasff | sdfsdfsdfsfparameters)=3.816927492161412e-13\n",
            "[Probaility(sasdfsdfsdfsdfsdfsfafsdfdasff, sdfsdfsdfsfparameters)]: \n",
            "What is the observed string you see? (Enter. to quit)sasdfsdfsdfsdfsdfsfafsdfdasff \n",
            "What is the actual string you intend to type?sdfsdfsdfsfparameters \n",
            "Probaility(sasdfsdfsdfsdfsdfsfafsdfdasff | sdfsdfsdfsfparameters)=6.469852338158955e-14\n",
            "[Probaility(sasdfsdfsdfsdfsdfsfafsdfdasff, sdfsdfsdfsfparameters)]: \n",
            "What is the observed string you see? (Enter. to quit)sasdfsdfsdfsdfsdfsfafsdfdasff \n",
            "What is the actual string you intend to type?sdfsdfsdfsfparameters \n",
            "Probaility(sasdfsdfsdfsdfsdfsfafsdfdasff | sdfsdfsdfsfparameters)=1.0679455829424397e-14\n",
            "[Probaility(sasdfsdfsdfsdfsdfsfafsdfdasff, sdfsdfsdfsfparameters)]: \n",
            "What is the observed string you see? (Enter. to quit)sasdfsdfsdfsdfsdfsfafsdfdasff \n",
            "What is the actual string you intend to type?sdfsdfsdfsfparameters \n",
            "Probaility(sasdfsdfsdfsdfsdfsfafsdfdasff | sdfsdfsdfsfparameters)=1.7229628368867062e-15\n",
            "[Probaility(sasdfsdfsdfsdfsdfsfafsdfdasff, sdfsdfsdfsfparameters)]: \n",
            "What is the observed string you see? (Enter. to quit)sasdfsdfsdfsdfsdfsfafsdfdasff \n",
            "What is the actual string you intend to type?sdfsdfsdfsfparameters \n",
            "Probaility(sasdfsdfsdfsdfsdfsfafsdfdasff | sdfsdfsdfsfparameters)=2.725020803793109e-16\n",
            "[Probaility(sasdfsdfsdfsdfsdfsfafsdfdasff, sdfsdfsdfsfparameters)]: \n",
            "What is the observed string you see? (Enter. to quit)sasdfsdfsdfsdfsdfsfafsdfdasff \n",
            "What is the actual string you intend to type?sdfsdfsdfsfparameters \n",
            "Probaility(sasdfsdfsdfsdfsdfsfafsdfdasff | sdfsdfsdfsfparameters)=4.235390442381719e-17\n",
            "[Probaility(sasdfsdfsdfsdfsdfsfafsdfdasff, sdfsdfsdfsfparameters)]: \n",
            "What is the observed string you see? (Enter. to quit)sasdfsdfsdfsdfsdfsfafsdfdasff \n",
            "What is the actual string you intend to type?sdfsdfsdfsfparameters \n",
            "Probaility(sasdfsdfsdfsdfsdfsfafsdfdasff | sdfsdfsdfsfparameters)=6.482287394138045e-18\n",
            "[Probaility(sasdfsdfsdfsdfsdfsfafsdfdasff, sdfsdfsdfsfparameters)]: \n",
            "What is the observed string you see? (Enter. to quit)sasdfsdfsdfsdfsdfsfafsdfdasff \n",
            "What is the actual string you intend to type?sdfsdfsdfsfparameters \n",
            "Probaility(sasdfsdfsdfsdfsdfsfafsdfdasff | sdfsdfsdfsfparameters)=9.78617314418347e-19\n",
            "[Probaility(sasdfsdfsdfsdfsdfsfafsdfdasff, sdfsdfsdfsfparameters)]: \n",
            "What is the observed string you see? (Enter. to quit)sasdfsdfsdfsdfsdfsfafsdfdasff \n",
            "What is the actual string you intend to type?sdfsdfsdfsfparameters \n",
            "Probaility(sasdfsdfsdfsdfsdfsfafsdfdasff | sdfsdfsdfsfparameters)=1.4593914426424304e-19\n",
            "[Probaility(sasdfsdfsdfsdfsdfsfafsdfdasff, sdfsdfsdfsfparameters)]: \n",
            "What is the observed string you see? (Enter. to quit)sasdfsdfsdfsdfsdfsfafsdfdasff \n",
            "What is the actual string you intend to type?sdfsdfsdfsfparameters \n",
            "Probaility(sasdfsdfsdfsdfsdfsfafsdfdasff | sdfsdfsdfsfparameters)=2.1524715112890132e-20\n",
            "[Probaility(sasdfsdfsdfsdfsdfsfafsdfdasff, sdfsdfsdfsfparameters)]: \n",
            "What is the observed string you see? (Enter. to quit)sasdfsdfsdfsdfsdfsfafsdfdasff \n",
            "What is the actual string you intend to type?sdfsdfsdfsfparameters \n",
            "Probaility(sasdfsdfsdfsdfsdfsfafsdfdasff | sdfsdfsdfsfparameters)=3.143164591148521e-21\n",
            "[Probaility(sasdfsdfsdfsdfsdfsfafsdfdasff, sdfsdfsdfsfparameters)]: \n",
            "What is the observed string you see? (Enter. to quit)sasdfsdfsdfsdfsdfsfafsdfdasff \n",
            "What is the actual string you intend to type?sdfsdfsdfsfparameters \n",
            "Probaility(sasdfsdfsdfsdfsdfsfafsdfdasff | sdfsdfsdfsfparameters)=4.548378134159272e-22\n",
            "[Probaility(sasdfsdfsdfsdfsdfsfafsdfdasff, sdfsdfsdfsfparameters)]: \n",
            "What is the observed string you see? (Enter. to quit)sasdfsdfsdfsdfsdfsfafsdfdasff \n",
            "What is the actual string you intend to type?sdfsdfsdfsfparameters \n",
            "Probaility(sasdfsdfsdfsdfsdfsfafsdfdasff | sdfsdfsdfsfparameters)=6.527548965987817e-23\n",
            "[Probaility(sasdfsdfsdfsdfsdfsfafsdfdasff, sdfsdfsdfsfparameters)]: \n",
            "What is the observed string you see? (Enter. to quit)sasdfsdfsdfsdfsdfsfafsdfdasff \n",
            "What is the actual string you intend to type?sdfsdfsdfsfparameters \n",
            "Probaility(sasdfsdfsdfsdfsdfsfafsdfdasff | sdfsdfsdfsfparameters)=9.297141084591357e-24\n",
            "[Probaility(sasdfsdfsdfsdfsdfsfafsdfdasff, sdfsdfsdfsfparameters)]: \n",
            "What is the observed string you see? (Enter. to quit)sasdfsdfsdfsdfsdfsfafsdfdasff \n",
            "What is the actual string you intend to type?sdfsdfsdfsfparameters \n",
            "Probaility(sasdfsdfsdfsdfsdfsfafsdfdasff | sdfsdfsdfsfparameters)=1.3149822985538601e-24\n",
            "[Probaility(sasdfsdfsdfsdfsdfsfafsdfdasff, sdfsdfsdfsfparameters)]: \n",
            "What is the observed string you see? (Enter. to quit)sasdfsdfsdfsdfsdfsfafsdfdasff \n",
            "What is the actual string you intend to type?sdfsdfsdfsfparameters \n",
            "Probaility(sasdfsdfsdfsdfsdfsfafsdfdasff | sdfsdfsdfsfparameters)=1.8479767247868912e-25\n"
          ]
        },
        {
          "data": {
            "text/plain": [
              "1.508716565989372e-25"
            ]
          },
          "execution_count": 381,
          "metadata": {},
          "output_type": "execute_result"
        }
      ],
      "source": [
        "prOf1CharSeriesWhenTyping1Word_F(\"sasdfsdfsdfsdfsdfsfafsdfdasff\", \"sdfsdfsdfsfparameters\")"
      ]
    },
    {
      "cell_type": "code",
      "execution_count": null,
      "metadata": {
        "colab": {
          "background_save": true
        },
        "id": "sUukuDWdntoj"
      },
      "outputs": [],
      "source": []
    }
  ],
  "metadata": {
    "colab": {
      "provenance": [],
      "include_colab_link": true
    },
    "kernelspec": {
      "display_name": "Python 3 (ipykernel)",
      "language": "python",
      "name": "python3"
    },
    "language_info": {
      "codemirror_mode": {
        "name": "ipython",
        "version": 3
      },
      "file_extension": ".py",
      "mimetype": "text/x-python",
      "name": "python",
      "nbconvert_exporter": "python",
      "pygments_lexer": "ipython3",
      "version": "3.11.4"
    }
  },
  "nbformat": 4,
  "nbformat_minor": 0
}
{
  "cells": [
    {
      "cell_type": "markdown",
      "metadata": {
        "id": "view-in-github",
        "colab_type": "text"
      },
      "source": [
        "<a href=\"https://colab.research.google.com/github/Hooleymass/Learning/blob/master/python_for_program_3a_forwardalgorithm.ipynb\" target=\"_parent\"><img src=\"https://colab.research.google.com/assets/colab-badge.svg\" alt=\"Open In Colab\"/></a>"
      ]
    },
    {
      "cell_type": "markdown",
      "metadata": {
        "id": "S8ZrWxQHntiW"
      },
      "source": [
        "# A Python Framework for Programming 1A through 3A"
      ]
    },
    {
      "cell_type": "code",
      "execution_count": null,
      "metadata": {
        "id": "reygz9nGntir"
      },
      "outputs": [],
      "source": [
        "# Paraemter values for the 1D keyboad are stored in global variables; you can change them\n",
        "pr_hit = 0.6\n",
        "pr_miss = 0.4\n",
        "deg_kb = 2\n",
        "\n",
        "pr_repeat = 0.2\n",
        "pr_moveOn = 0.8\n",
        "deg_sp = 2"
      ]
    },
    {
      "cell_type": "markdown",
      "metadata": {
        "id": "o92diXfnnti2"
      },
      "source": [
        "# 1. Key functions implemented so far"
      ]
    },
    {
      "cell_type": "markdown",
      "metadata": {
        "id": "FgGTkaF-nti4"
      },
      "source": [
        "## getPrTableForPossibleInitialStates(lengthOfWord)"
      ]
    },
    {
      "cell_type": "code",
      "execution_count": null,
      "metadata": {
        "colab": {
          "base_uri": "https://localhost:8080/"
        },
        "id": "KbrvNleEnti6",
        "outputId": "1e2fa087-3691-4d93-9cb9-a566fef828f0"
      },
      "outputs": [
        {
          "output_type": "execute_result",
          "data": {
            "text/plain": [
              "[0.5714285714285714, 0.2857142857142857, 0.14285714285714285]"
            ]
          },
          "metadata": {},
          "execution_count": 3
        }
      ],
      "source": [
        "# C++:  getPrTableForPossibleInitialStates(prTable, lengthOfWord):\n",
        "# ==>\n",
        "# Python:void getPrTableForPossibleInitialStates(lengthOfWord):\n",
        "#           return the information in the prTable directly\n",
        "def getPrTableForPossibleInitialStates(lengthOfWord):\n",
        "    missDistance = range( 1, lengthOfWord+1 )\n",
        "    exponentialDegrade = [ (1/deg_sp)**i    for i in missDistance]\n",
        "    scalingConstant = 1 / sum(exponentialDegrade)\n",
        "    return [scalingConstant*degrade for degrade in exponentialDegrade]\n",
        "\n",
        "\n",
        "# Test the function to get the probabilities of the possible first states\n",
        "#      for a word of 3 characters (such as \"his\" in our handout)\n",
        "pr_repeat = 0.2\n",
        "pr_moveOn = 0.8\n",
        "deg_sp = 2\n",
        "getPrTableForPossibleInitialStates(3)"
      ]
    },
    {
      "cell_type": "markdown",
      "metadata": {
        "id": "jj-Toid9ntjE"
      },
      "source": [
        "## getPrTableForPossibleInitialStatesGivenTheWord(Word)"
      ]
    },
    {
      "cell_type": "code",
      "execution_count": null,
      "metadata": {
        "colab": {
          "base_uri": "https://localhost:8080/"
        },
        "id": "Aw-7YLKYntjG",
        "outputId": "e51526ba-e470-424e-8c67-304e96c33ca4"
      },
      "outputs": [
        {
          "output_type": "execute_result",
          "data": {
            "text/plain": [
              "[0.5714285714285714, 0.2857142857142857, 0.14285714285714285]"
            ]
          },
          "metadata": {},
          "execution_count": 4
        }
      ],
      "source": [
        "# A variant that accomplishes the same thing given a word (as a string)\n",
        "def getPrTableForPossibleInitialStatesGivenTheWord(Word):\n",
        "    missDistance = range( 1, len(Word)+1 )\n",
        "    exponentialDegrade = [ (1/deg_sp)**i    for i in missDistance]\n",
        "    scalingConstant = 1 / sum(exponentialDegrade)\n",
        "    return [scalingConstant*degrade for degrade in exponentialDegrade]\n",
        "\n",
        "\n",
        "# Test the function to get the probabilities of the possible first states\n",
        "#      for the word \"his\"\n",
        "pr_repeat = 0.2\n",
        "pr_moveOn = 0.8\n",
        "deg_sp = 2\n",
        "getPrTableForPossibleInitialStatesGivenTheWord(\"his\")"
      ]
    },
    {
      "cell_type": "markdown",
      "metadata": {
        "id": "RvfzdjFUntjK"
      },
      "source": [
        "## getPrTableForPossibleNextStates(lengthOfWord_Plus1, currentState)"
      ]
    },
    {
      "cell_type": "code",
      "execution_count": null,
      "metadata": {
        "colab": {
          "base_uri": "https://localhost:8080/"
        },
        "id": "CxpskvPnntjN",
        "outputId": "6ef4b820-31e2-44e2-d014-dad240b9be00"
      },
      "outputs": [
        {
          "output_type": "execute_result",
          "data": {
            "text/plain": [
              "[0.2, 0.4571428571428572, 0.2285714285714286, 0.1142857142857143]"
            ]
          },
          "metadata": {},
          "execution_count": 5
        }
      ],
      "source": [
        "# C++\n",
        "# void getPrTableForPossibleNextStates(double transitionPrTable[],\n",
        "#                                      int sizeOfTable, int currentState)\n",
        "# ==>\n",
        "# Python\n",
        "# getPrTableForPossibleNextStates(lengthOfWord_Plus1, currentState)\n",
        "# return the transitionPrTable\n",
        "\n",
        "def getPrTableForPossibleNextStates(lengthOfWord_Plus1, currentState):\n",
        "    statesAsIndices = range( lengthOfWord_Plus1 )\n",
        "    distances = [state - currentState for state in statesAsIndices ]\n",
        "    exponentialDegrade = [ (1/deg_sp)**i if i>0 else 0 for i in distances]\n",
        "    scalingConstant = pr_moveOn/sum(exponentialDegrade)\n",
        "    probabilitiesOfPossibleFirstStates = (\n",
        "        [ scalingConstant*degrade for degrade in exponentialDegrade] )\n",
        "    probabilitiesOfPossibleFirstStates[currentState] = pr_repeat\n",
        "    return probabilitiesOfPossibleFirstStates\n",
        "\n",
        "\n",
        "#Test the implementation\n",
        "getPrTableForPossibleNextStates(len(\"his\")+1, 0)"
      ]
    },
    {
      "cell_type": "markdown",
      "metadata": {
        "id": "GN68SAm-ntjQ"
      },
      "source": [
        "## getPrTableForPossibleNextStatesGivenWord(word, currentState)"
      ]
    },
    {
      "cell_type": "code",
      "execution_count": null,
      "metadata": {
        "id": "enC4--HJntjS",
        "outputId": "b967b027-c742-4e0c-9e0a-5174d1914297"
      },
      "outputs": [
        {
          "data": {
            "text/plain": [
              "[0.2, 0.4571428571428572, 0.2285714285714286, 0.1142857142857143]"
            ]
          },
          "execution_count": 5,
          "metadata": {},
          "output_type": "execute_result"
        }
      ],
      "source": [
        "# A convenient variant\n",
        "# Python\n",
        "# getPrTableForPossibleNextStates(word, int currentState)\n",
        "# return the transitionPrTable\n",
        "\n",
        "def getPrTableForPossibleNextStatesGivenWord(word, currentState):\n",
        "    lengthOfWord_Plus1 =  len(word) +1\n",
        "    statesAsIndices = range( lengthOfWord_Plus1 )\n",
        "    distances = [state - currentState for state in statesAsIndices ]\n",
        "    exponentialDegrade = [ (1/deg_sp)**i if i>0 else 0 for i in distances]\n",
        "    scalingConstant = pr_moveOn/sum(exponentialDegrade)\n",
        "    probabilitiesOfPossibleFirstStates = (\n",
        "        [ scalingConstant*degrade for degrade in exponentialDegrade] )\n",
        "    probabilitiesOfPossibleFirstStates[currentState] = pr_repeat\n",
        "    return probabilitiesOfPossibleFirstStates\n",
        "\n",
        "#Test the implementation\n",
        "currentState = 0\n",
        "getPrTableForPossibleNextStatesGivenWord(\"his\", currentState)"
      ]
    },
    {
      "cell_type": "markdown",
      "metadata": {
        "id": "wgbI5k-mntjX"
      },
      "source": [
        "## prCharGiveCharState(x, y)"
      ]
    },
    {
      "cell_type": "code",
      "execution_count": null,
      "metadata": {
        "id": "S1QkbytUntjZ"
      },
      "outputs": [],
      "source": [
        "#Probability of touching x when trying to type y\n",
        "def prCharGiveCharState(x, y):\n",
        "    if x==y:\n",
        "        return pr_hit\n",
        "\n",
        "    diffASCII = range(1,26)\n",
        "    missdist = [min(n, 26-n) for n in diffASCII ]\n",
        "    exponentialDegrade = [(1/deg_kb)**i for i in missdist]\n",
        "    constant_x= pr_miss/sum(exponentialDegrade)\n",
        "\n",
        "    distASCII_x_y = abs( ord(x) - ord(y) )\n",
        "    distKB_x_y = min(distASCII_x_y, 26-distASCII_x_y )\n",
        "    return constant_x* (1/deg_kb)** distKB_x_y"
      ]
    },
    {
      "cell_type": "code",
      "execution_count": null,
      "metadata": {
        "colab": {
          "base_uri": "https://localhost:8080/"
        },
        "id": "Oyrd1QtPntjc",
        "outputId": "1d9c4a2b-9169-46c0-c6fe-041fa799c6ea"
      },
      "outputs": [
        {
          "output_type": "execute_result",
          "data": {
            "text/plain": [
              "0.6"
            ]
          },
          "metadata": {},
          "execution_count": 7
        }
      ],
      "source": [
        "pr_hit"
      ]
    },
    {
      "cell_type": "code",
      "execution_count": null,
      "metadata": {
        "colab": {
          "base_uri": "https://localhost:8080/"
        },
        "id": "xZ6n-mKJntjg",
        "outputId": "0c5fa4b3-4c03-40b7-dbb1-19abde7b353c"
      },
      "outputs": [
        {
          "output_type": "execute_result",
          "data": {
            "text/plain": [
              "2"
            ]
          },
          "metadata": {},
          "execution_count": 8
        }
      ],
      "source": [
        "deg_kb"
      ]
    },
    {
      "cell_type": "code",
      "execution_count": null,
      "metadata": {
        "colab": {
          "base_uri": "https://localhost:8080/"
        },
        "id": "Cf9lk-2Intjo",
        "outputId": "02763361-1a7a-44f2-b1cb-d66b39d97d36"
      },
      "outputs": [
        {
          "output_type": "execute_result",
          "data": {
            "text/plain": [
              "0.1000183139002503"
            ]
          },
          "metadata": {},
          "execution_count": 9
        }
      ],
      "source": [
        "prCharGiveCharState('b', 'a')"
      ]
    },
    {
      "cell_type": "code",
      "execution_count": null,
      "metadata": {
        "colab": {
          "base_uri": "https://localhost:8080/"
        },
        "id": "KOyVGKwEntjs",
        "outputId": "a5d5ed28-6b80-4d6c-cf3f-3b85d58e5ba1"
      },
      "outputs": [
        {
          "output_type": "execute_result",
          "data": {
            "text/plain": [
              "0.05000915695012515"
            ]
          },
          "metadata": {},
          "execution_count": 10
        }
      ],
      "source": [
        "prCharGiveCharState('c', 'a')"
      ]
    },
    {
      "cell_type": "markdown",
      "metadata": {
        "id": "dqit_AMIntjx"
      },
      "source": [
        "## take1SampleFrom1PrSpace"
      ]
    },
    {
      "cell_type": "code",
      "execution_count": null,
      "metadata": {
        "colab": {
          "base_uri": "https://localhost:8080/"
        },
        "id": "kq6YAMgEntj1",
        "outputId": "f33abddb-03e1-4d79-db90-b19b0e6d4e04"
      },
      "outputs": [
        {
          "output_type": "execute_result",
          "data": {
            "text/plain": [
              "[0, 1, 2, 2, 1, 0, 1, 2, 2, 1, 1, 2, 2, 1, 2, 1, 1, 0, 0, 2]"
            ]
          },
          "metadata": {},
          "execution_count": 11
        }
      ],
      "source": [
        "# C++: int take1SampleFrom1PrSpace(double prTable[], int sizeOfTable)\n",
        "# ==>\n",
        "# Python: take1SampleFrom1PrSpace(prTable)\n",
        "#  the size of the table can be implicitly determined\n",
        "def take1SampleFrom1PrSpace(prTable):\n",
        "    probabilityThresholds = np.add.accumulate(prTable)\n",
        "    sample = np.random.random()\n",
        "    choice = (sample > probabilityThresholds).sum()\n",
        "    # print(\"Sample=\", sample, \",\\t choice=\", choice)\n",
        "    return choice\n",
        "\n",
        "\n",
        "import numpy as np\n",
        "prTable = np.array([0.25, 0.5, 0.25])\n",
        "[take1SampleFrom1PrSpace(prTable) for i in range(20)]"
      ]
    },
    {
      "cell_type": "code",
      "execution_count": null,
      "metadata": {
        "colab": {
          "base_uri": "https://localhost:8080/"
        },
        "id": "ldrd_Grtntj8",
        "outputId": "41415d0b-a8ba-4e6f-807f-c3d03b5c6348"
      },
      "outputs": [
        {
          "output_type": "execute_result",
          "data": {
            "text/plain": [
              "array([0.250308, 0.499671, 0.250021])"
            ]
          },
          "metadata": {},
          "execution_count": 12
        }
      ],
      "source": [
        "#Use bin count to check empirical frequencies observed\n",
        "np.bincount( [take1SampleFrom1PrSpace(prTable) for i in range(1000000)] )/1000000"
      ]
    },
    {
      "cell_type": "markdown",
      "metadata": {
        "id": "FlyDmdUGntkD"
      },
      "source": [
        "## getKeyboardProbabilityTable\n",
        "### note: this is a simple variant of prCharGiveCharState(x, y)"
      ]
    },
    {
      "cell_type": "code",
      "execution_count": null,
      "metadata": {
        "colab": {
          "base_uri": "https://localhost:8080/"
        },
        "id": "HxRk7m03ntkI",
        "outputId": "24fae5f6-666c-4e85-9a0f-6dcb48c11b22"
      },
      "outputs": [
        {
          "output_type": "execute_result",
          "data": {
            "text/plain": [
              "array([6.00000000e-01, 1.33333501e-01, 4.44445002e-02, 1.48148334e-02,\n",
              "       4.93827780e-03, 1.64609260e-03, 5.48697533e-04, 1.82899178e-04,\n",
              "       6.09663926e-05, 2.03221309e-05, 6.77404362e-06, 2.25801454e-06,\n",
              "       7.52671513e-07, 2.50890504e-07, 7.52671513e-07, 2.25801454e-06,\n",
              "       6.77404362e-06, 2.03221309e-05, 6.09663926e-05, 1.82899178e-04,\n",
              "       5.48697533e-04, 1.64609260e-03, 4.93827780e-03, 1.48148334e-02,\n",
              "       4.44445002e-02, 1.33333501e-01])"
            ]
          },
          "metadata": {},
          "execution_count": 13
        }
      ],
      "source": [
        "#C++: void getKeyboardProbabilityTable(char charToType, double prTable[])\n",
        "#==>\n",
        "#Python: getKeyboardProbabilityTable(charToType)\n",
        "#        to return the probabilities of getting a, b, ..., y, z\n",
        "#        as a numpy array\n",
        "#Note: This is simply a simple variant of prCharGiveCharState(x, y):\n",
        "\n",
        "def getKeyboardProbabilityTable(charToType):\n",
        "    #First determine the scaling constant for the exponential degrading\n",
        "    diffASCII = range(1,26)\n",
        "    missdist = [min(n, 26-n) for n in diffASCII ]\n",
        "    exponentialDegrade = [(1/deg_kb)**i for i in missdist]\n",
        "    scalingConstant = pr_miss/sum(exponentialDegrade)\n",
        "\n",
        "    #Set up an empty probability table\n",
        "    prTable = np.empty(26)\n",
        "    y = charToType\n",
        "\n",
        "    # for each x in a to z,\n",
        "    # set up a loop to determine the probability of touching x\n",
        "    #     when trying to type y (i.e.charToType)\n",
        "    # store the results in the probability table accordingly\n",
        "    for i, x in enumerate(\"abcdefghijklmnopqrstuvwxyz\"):\n",
        "        if x==y:\n",
        "            prTable[i] = pr_hit\n",
        "        else:\n",
        "            distASCII_x_y = abs( ord(x) - ord(y) )\n",
        "            distKB_x_y = min(distASCII_x_y, 26-distASCII_x_y )\n",
        "            prTable[i] = scalingConstant * (1/deg_kb)** distKB_x_y\n",
        "\n",
        "    return prTable\n",
        "\n",
        "\n",
        "#Test the implementation\n",
        "pr_hit = 0.6\n",
        "pr_miss = 0.4\n",
        "deg_kb = 3\n",
        "\n",
        "getKeyboardProbabilityTable('a')"
      ]
    },
    {
      "cell_type": "code",
      "execution_count": null,
      "metadata": {
        "colab": {
          "base_uri": "https://localhost:8080/"
        },
        "id": "avWus-L_ntkO",
        "outputId": "1f97a100-b8bb-426c-c2d0-7c13628f1d4b"
      },
      "outputs": [
        {
          "output_type": "execute_result",
          "data": {
            "text/plain": [
              "0.6"
            ]
          },
          "metadata": {},
          "execution_count": 14
        }
      ],
      "source": [
        "pr_hit"
      ]
    },
    {
      "cell_type": "code",
      "execution_count": null,
      "metadata": {
        "colab": {
          "base_uri": "https://localhost:8080/"
        },
        "id": "PzG_Z73-ntkR",
        "outputId": "839aac5e-1324-4287-ac97-e1b5afb07f93"
      },
      "outputs": [
        {
          "output_type": "execute_result",
          "data": {
            "text/plain": [
              "array([1.33333501e-01, 6.00000000e-01, 1.33333501e-01, 4.44445002e-02,\n",
              "       1.48148334e-02, 4.93827780e-03, 1.64609260e-03, 5.48697533e-04,\n",
              "       1.82899178e-04, 6.09663926e-05, 2.03221309e-05, 6.77404362e-06,\n",
              "       2.25801454e-06, 7.52671513e-07, 2.50890504e-07, 7.52671513e-07,\n",
              "       2.25801454e-06, 6.77404362e-06, 2.03221309e-05, 6.09663926e-05,\n",
              "       1.82899178e-04, 5.48697533e-04, 1.64609260e-03, 4.93827780e-03,\n",
              "       1.48148334e-02, 4.44445002e-02])"
            ]
          },
          "metadata": {},
          "execution_count": 15
        }
      ],
      "source": [
        "#More test on the implementation\n",
        "getKeyboardProbabilityTable('b')"
      ]
    },
    {
      "cell_type": "code",
      "execution_count": null,
      "metadata": {
        "colab": {
          "base_uri": "https://localhost:8080/"
        },
        "id": "j9myGUMKntkT",
        "outputId": "1340799b-ea5e-4bbb-f84c-b632add71e26"
      },
      "outputs": [
        {
          "output_type": "execute_result",
          "data": {
            "text/plain": [
              "1.0"
            ]
          },
          "metadata": {},
          "execution_count": 16
        }
      ],
      "source": [
        "#More test on the implementation\n",
        "getKeyboardProbabilityTable('b').sum()"
      ]
    },
    {
      "cell_type": "markdown",
      "metadata": {
        "id": "6yfcHb-ZntkW"
      },
      "source": [
        "## typeOneChar"
      ]
    },
    {
      "cell_type": "code",
      "execution_count": null,
      "metadata": {
        "colab": {
          "base_uri": "https://localhost:8080/"
        },
        "id": "InC_JfPPntkY",
        "outputId": "9f4c6498-a354-4a87-af5d-71b98eade36e"
      },
      "outputs": [
        {
          "output_type": "execute_result",
          "data": {
            "text/plain": [
              "['a', 'a', 'c', 'i', 'y', 'c', 'b', 'y', 'g', 'a']"
            ]
          },
          "metadata": {},
          "execution_count": 17
        }
      ],
      "source": [
        "# C++: char typeOneChar(char charToType)\n",
        "# Python: typeOneChar(charToType)\n",
        "#   use  take1SampleFrom1PrSpace and\n",
        "#        getKeyboardProbabilityTable to\n",
        "#   simulate typing charToType and return the resulting character pressed\n",
        "\n",
        "def typeOneChar(charToType):\n",
        "    keys = \"abcdefghijklmnopqrstuvwxyz\"\n",
        "    prTable = getKeyboardProbabilityTable(charToType)\n",
        "    indexOfKeyPressed = take1SampleFrom1PrSpace( prTable )\n",
        "    return keys[ indexOfKeyPressed ]\n",
        "\n",
        "#Test the implementatiton\n",
        "pr_hit = 0.2\n",
        "pr_miss = 0.8\n",
        "deg_kb = 1.2\n",
        "\n",
        "#Type 'a' for 10 times and see the results\n",
        "[typeOneChar('a') for i in range(10) ]"
      ]
    },
    {
      "cell_type": "code",
      "execution_count": null,
      "metadata": {
        "colab": {
          "base_uri": "https://localhost:8080/"
        },
        "id": "meQZjvHFntka",
        "outputId": "94fc4f3b-5e50-4ade-ad2a-bc820c946eee"
      },
      "outputs": [
        {
          "output_type": "execute_result",
          "data": {
            "text/plain": [
              "['b', 'x', 'a', 'z', 'x', 'z', 'b', 'b', 'a', 'x']"
            ]
          },
          "metadata": {},
          "execution_count": 18
        }
      ],
      "source": [
        "#More test the implementatiton\n",
        "pr_hit = 0.2\n",
        "pr_miss = 0.8\n",
        "deg_kb = 2\n",
        "\n",
        "#Type 'a' for 10 times under a different setting and see the results\n",
        "[typeOneChar('a') for i in range(10) ]"
      ]
    },
    {
      "cell_type": "markdown",
      "metadata": {
        "id": "dAAL6mamntkd"
      },
      "source": [
        "##  typeOneWord"
      ]
    },
    {
      "cell_type": "code",
      "execution_count": null,
      "metadata": {
        "id": "jSLSR73Jntkf"
      },
      "outputs": [],
      "source": [
        "# C++: void typeOneWord( char word[], char output[],\n",
        "#                        bool traceON = false, int maxOutput=100)\n",
        "# Python: typeOneWord( word, trace=False )\n",
        "#      simulate the typing of the given word (a string) and\n",
        "#      return the resulted string\n",
        "\n",
        "def typeOneWord(word, trace=False):\n",
        "    #Special States\n",
        "    I_stateIndex = -1\n",
        "    F_stateIndex = len(word)\n",
        "\n",
        "    # Step 0: Simulation of leaving the starting state I to enter some (first) state\n",
        "    #        to enter a regular state as the current state: throw a dice\n",
        "    charOutputsObservedSofar = \"_\"\n",
        "    stateTrajectorySofar = \"I\"\n",
        "    prTable = getPrTableForPossibleInitialStatesGivenTheWord(word)\n",
        "\n",
        "    currentState_index = take1SampleFrom1PrSpace(prTable)\n",
        "    currentState_char = word[ currentState_index  ]\n",
        "\n",
        "    if trace:\n",
        "        print( \"First state reached after leaving I: (index, char)=\",\n",
        "               (currentState_index, currentState_char)\n",
        "             )\n",
        "\n",
        "    while( currentState_index != F_stateIndex): # not the Final state F yet.\n",
        "        # Step 1: Simulation of typing a character given the current state: throw a dice\n",
        "        charTyped = typeOneChar(currentState_char)\n",
        "        charOutputsObservedSofar += charTyped\n",
        "        stateTrajectorySofar += currentState_char\n",
        "\n",
        "        if trace:\n",
        "            print( \"Current state: (index, char)=\", (currentState_index, currentState_char) )\n",
        "            print( charTyped, \" is pressed when trying to type \", currentState_char)\n",
        "            print( \"char outputs so far:\\t\", charOutputsObservedSofar )\n",
        "            print( \"state trajectory so far:\", stateTrajectorySofar )\n",
        "            print()\n",
        "\n",
        "        # Step 2: Simulation of leaving the current state to enter one of the possble next states\n",
        "        #       : throw a dice\n",
        "        prTable = getPrTableForPossibleNextStatesGivenWord(word, currentState_index)\n",
        "        nextState_index = take1SampleFrom1PrSpace(prTable)\n",
        "        nextState_char = word[ nextState_index  ] if (nextState_index<F_stateIndex) else \"F\"\n",
        "        if trace:\n",
        "            print( \"next state to enter: \", (nextState_index,\n",
        "                                             nextState_char) )\n",
        "\n",
        "        currentState_index = nextState_index\n",
        "        currentState_char = nextState_char\n",
        "\n",
        "    if trace:\n",
        "        print(\"Finish typing the word \", word)\n",
        "        print( \"char outputs:\\t\\t\", charOutputsObservedSofar+\"_\" )\n",
        "        print( \"state trajectory:\\t\", stateTrajectorySofar+\"F\" )\n",
        "\n",
        "    return charOutputsObservedSofar[1:]"
      ]
    },
    {
      "cell_type": "code",
      "execution_count": null,
      "metadata": {
        "colab": {
          "base_uri": "https://localhost:8080/",
          "height": 751
        },
        "id": "y1ysWbYfntkj",
        "outputId": "b94504c6-1476-40de-b3f1-3f623075ab51"
      },
      "outputs": [
        {
          "output_type": "stream",
          "name": "stdout",
          "text": [
            "First state reached after leaving I: (index, char)= (0, 'h')\n",
            "Current state: (index, char)= (0, 'h')\n",
            "h  is pressed when trying to type  h\n",
            "char outputs so far:\t _h\n",
            "state trajectory so far: Ih\n",
            "\n"
          ]
        },
        {
          "output_type": "error",
          "ename": "NameError",
          "evalue": "ignored",
          "traceback": [
            "\u001b[0;31m---------------------------------------------------------------------------\u001b[0m",
            "\u001b[0;31mNameError\u001b[0m                                 Traceback (most recent call last)",
            "\u001b[0;32m<ipython-input-21-3ba7fa065c3f>\u001b[0m in \u001b[0;36m<cell line: 12>\u001b[0;34m()\u001b[0m\n\u001b[1;32m     10\u001b[0m \u001b[0;34m\u001b[0m\u001b[0m\n\u001b[1;32m     11\u001b[0m \u001b[0;31m#See the trace of the simulation of typing one word\u001b[0m\u001b[0;34m\u001b[0m\u001b[0;34m\u001b[0m\u001b[0m\n\u001b[0;32m---> 12\u001b[0;31m \u001b[0mtypeOneWord\u001b[0m\u001b[0;34m(\u001b[0m \u001b[0mword\u001b[0m\u001b[0;34m,\u001b[0m \u001b[0;32mTrue\u001b[0m\u001b[0;34m)\u001b[0m\u001b[0;34m\u001b[0m\u001b[0;34m\u001b[0m\u001b[0m\n\u001b[0m",
            "\u001b[0;32m<ipython-input-19-f5a907273635>\u001b[0m in \u001b[0;36mtypeOneWord\u001b[0;34m(word, trace)\u001b[0m\n\u001b[1;32m     39\u001b[0m         \u001b[0;31m# Step 2: Simulation of leaving the current state to enter one of the possble next states\u001b[0m\u001b[0;34m\u001b[0m\u001b[0;34m\u001b[0m\u001b[0m\n\u001b[1;32m     40\u001b[0m         \u001b[0;31m#       : throw a dice\u001b[0m\u001b[0;34m\u001b[0m\u001b[0;34m\u001b[0m\u001b[0m\n\u001b[0;32m---> 41\u001b[0;31m         \u001b[0mprTable\u001b[0m \u001b[0;34m=\u001b[0m \u001b[0mgetPrTableForPossibleNextStatesGivenWord\u001b[0m\u001b[0;34m(\u001b[0m\u001b[0mword\u001b[0m\u001b[0;34m,\u001b[0m \u001b[0mcurrentState_index\u001b[0m\u001b[0;34m)\u001b[0m\u001b[0;34m\u001b[0m\u001b[0;34m\u001b[0m\u001b[0m\n\u001b[0m\u001b[1;32m     42\u001b[0m         \u001b[0mnextState_index\u001b[0m \u001b[0;34m=\u001b[0m \u001b[0mtake1SampleFrom1PrSpace\u001b[0m\u001b[0;34m(\u001b[0m\u001b[0mprTable\u001b[0m\u001b[0;34m)\u001b[0m\u001b[0;34m\u001b[0m\u001b[0;34m\u001b[0m\u001b[0m\n\u001b[1;32m     43\u001b[0m         \u001b[0mnextState_char\u001b[0m \u001b[0;34m=\u001b[0m \u001b[0mword\u001b[0m\u001b[0;34m[\u001b[0m \u001b[0mnextState_index\u001b[0m  \u001b[0;34m]\u001b[0m \u001b[0;32mif\u001b[0m \u001b[0;34m(\u001b[0m\u001b[0mnextState_index\u001b[0m\u001b[0;34m<\u001b[0m\u001b[0mF_stateIndex\u001b[0m\u001b[0;34m)\u001b[0m \u001b[0;32melse\u001b[0m \u001b[0;34m\"F\"\u001b[0m\u001b[0;34m\u001b[0m\u001b[0;34m\u001b[0m\u001b[0m\n",
            "\u001b[0;31mNameError\u001b[0m: name 'getPrTableForPossibleNextStatesGivenWord' is not defined"
          ]
        }
      ],
      "source": [
        "pr_hit = 0.9\n",
        "pr_miss = 0.1\n",
        "deg_kb = 4\n",
        "\n",
        "pr_repeat = 0.1\n",
        "pr_moveOn = 0.9\n",
        "deg_sp = 4\n",
        "\n",
        "word = \"his\"\n",
        "\n",
        "#See the trace of the simulation of typing one word\n",
        "typeOneWord( word, True)"
      ]
    },
    {
      "cell_type": "code",
      "execution_count": null,
      "metadata": {
        "colab": {
          "base_uri": "https://localhost:8080/",
          "height": 671
        },
        "id": "VJVmubB5ntkl",
        "outputId": "a2cf0708-eb7d-4854-86aa-bc390581d050"
      },
      "outputs": [
        {
          "output_type": "error",
          "ename": "NameError",
          "evalue": "ignored",
          "traceback": [
            "\u001b[0;31m---------------------------------------------------------------------------\u001b[0m",
            "\u001b[0;31mNameError\u001b[0m                                 Traceback (most recent call last)",
            "\u001b[0;32m<ipython-input-22-f37b15a957af>\u001b[0m in \u001b[0;36m<cell line: 2>\u001b[0;34m()\u001b[0m\n\u001b[1;32m      1\u001b[0m \u001b[0;31m# See the result of typing the same word 10000 times\u001b[0m\u001b[0;34m\u001b[0m\u001b[0;34m\u001b[0m\u001b[0m\n\u001b[0;32m----> 2\u001b[0;31m \u001b[0;34m[\u001b[0m\u001b[0mtypeOneWord\u001b[0m\u001b[0;34m(\u001b[0m\u001b[0mword\u001b[0m\u001b[0;34m,\u001b[0m \u001b[0;32mFalse\u001b[0m\u001b[0;34m)\u001b[0m \u001b[0;32mfor\u001b[0m \u001b[0mi\u001b[0m \u001b[0;32min\u001b[0m \u001b[0mrange\u001b[0m\u001b[0;34m(\u001b[0m\u001b[0;36m10000\u001b[0m\u001b[0;34m)\u001b[0m \u001b[0;34m]\u001b[0m\u001b[0;34m\u001b[0m\u001b[0;34m\u001b[0m\u001b[0m\n\u001b[0m",
            "\u001b[0;32m<ipython-input-22-f37b15a957af>\u001b[0m in \u001b[0;36m<listcomp>\u001b[0;34m(.0)\u001b[0m\n\u001b[1;32m      1\u001b[0m \u001b[0;31m# See the result of typing the same word 10000 times\u001b[0m\u001b[0;34m\u001b[0m\u001b[0;34m\u001b[0m\u001b[0m\n\u001b[0;32m----> 2\u001b[0;31m \u001b[0;34m[\u001b[0m\u001b[0mtypeOneWord\u001b[0m\u001b[0;34m(\u001b[0m\u001b[0mword\u001b[0m\u001b[0;34m,\u001b[0m \u001b[0;32mFalse\u001b[0m\u001b[0;34m)\u001b[0m \u001b[0;32mfor\u001b[0m \u001b[0mi\u001b[0m \u001b[0;32min\u001b[0m \u001b[0mrange\u001b[0m\u001b[0;34m(\u001b[0m\u001b[0;36m10000\u001b[0m\u001b[0;34m)\u001b[0m \u001b[0;34m]\u001b[0m\u001b[0;34m\u001b[0m\u001b[0;34m\u001b[0m\u001b[0m\n\u001b[0m",
            "\u001b[0;32m<ipython-input-19-f5a907273635>\u001b[0m in \u001b[0;36mtypeOneWord\u001b[0;34m(word, trace)\u001b[0m\n\u001b[1;32m     39\u001b[0m         \u001b[0;31m# Step 2: Simulation of leaving the current state to enter one of the possble next states\u001b[0m\u001b[0;34m\u001b[0m\u001b[0;34m\u001b[0m\u001b[0m\n\u001b[1;32m     40\u001b[0m         \u001b[0;31m#       : throw a dice\u001b[0m\u001b[0;34m\u001b[0m\u001b[0;34m\u001b[0m\u001b[0m\n\u001b[0;32m---> 41\u001b[0;31m         \u001b[0mprTable\u001b[0m \u001b[0;34m=\u001b[0m \u001b[0mgetPrTableForPossibleNextStatesGivenWord\u001b[0m\u001b[0;34m(\u001b[0m\u001b[0mword\u001b[0m\u001b[0;34m,\u001b[0m \u001b[0mcurrentState_index\u001b[0m\u001b[0;34m)\u001b[0m\u001b[0;34m\u001b[0m\u001b[0;34m\u001b[0m\u001b[0m\n\u001b[0m\u001b[1;32m     42\u001b[0m         \u001b[0mnextState_index\u001b[0m \u001b[0;34m=\u001b[0m \u001b[0mtake1SampleFrom1PrSpace\u001b[0m\u001b[0;34m(\u001b[0m\u001b[0mprTable\u001b[0m\u001b[0;34m)\u001b[0m\u001b[0;34m\u001b[0m\u001b[0;34m\u001b[0m\u001b[0m\n\u001b[1;32m     43\u001b[0m         \u001b[0mnextState_char\u001b[0m \u001b[0;34m=\u001b[0m \u001b[0mword\u001b[0m\u001b[0;34m[\u001b[0m \u001b[0mnextState_index\u001b[0m  \u001b[0;34m]\u001b[0m \u001b[0;32mif\u001b[0m \u001b[0;34m(\u001b[0m\u001b[0mnextState_index\u001b[0m\u001b[0;34m<\u001b[0m\u001b[0mF_stateIndex\u001b[0m\u001b[0;34m)\u001b[0m \u001b[0;32melse\u001b[0m \u001b[0;34m\"F\"\u001b[0m\u001b[0;34m\u001b[0m\u001b[0;34m\u001b[0m\u001b[0m\n",
            "\u001b[0;31mNameError\u001b[0m: name 'getPrTableForPossibleNextStatesGivenWord' is not defined"
          ]
        }
      ],
      "source": [
        "# See the result of typing the same word 10000 times\n",
        "[typeOneWord(word, False) for i in range(10000) ]"
      ]
    },
    {
      "cell_type": "markdown",
      "metadata": {
        "id": "TGCSlQmwntko"
      },
      "source": [
        "# 2. Basics of file input/output in Python"
      ]
    },
    {
      "cell_type": "markdown",
      "metadata": {
        "id": "PW4Q-iCYntkq"
      },
      "source": [
        "### 2.1 Basics of file output in Python"
      ]
    },
    {
      "cell_type": "code",
      "execution_count": null,
      "metadata": {
        "id": "-ak4Ntc1ntks"
      },
      "outputs": [],
      "source": [
        "# write data into a file.\n",
        "Lines = [\"Line 1: a;\",\"Line 2: b;\",\"Line 3: c;\"]\n",
        "\n",
        "file = open(\"outputFile1\",\"w\")\n",
        "for L in Lines:\n",
        "    file.write(L)\n",
        "file.close()"
      ]
    },
    {
      "cell_type": "code",
      "execution_count": null,
      "metadata": {
        "id": "wWBLDsnSntku"
      },
      "outputs": [],
      "source": [
        "# %load outputFile1"
      ]
    },
    {
      "cell_type": "code",
      "execution_count": null,
      "metadata": {
        "id": "MSDH_asKntkx"
      },
      "outputs": [],
      "source": []
    },
    {
      "cell_type": "code",
      "execution_count": null,
      "metadata": {
        "id": "wWVmhOEBntkz"
      },
      "outputs": [],
      "source": [
        "# write data into a file.\n",
        "Lines = [\"Line 1: a;\",\"Line 2: b;\",\"Line 3: c;\"]\n",
        "\n",
        "file = open(\"outputFile2\",\"w\")\n",
        "file.writelines(Lines)\n",
        "file.close()\n"
      ]
    },
    {
      "cell_type": "code",
      "execution_count": null,
      "metadata": {
        "id": "qT-UcgIXntk1"
      },
      "outputs": [],
      "source": [
        "# %load outputFile2"
      ]
    },
    {
      "cell_type": "code",
      "execution_count": null,
      "metadata": {
        "id": "2lEi_W7zntlU"
      },
      "outputs": [],
      "source": [
        "# write data into a file.\n",
        "Lines = [\"Line 1: a;\",\"Line 2: b;\",\"Line 3: c;\"]\n",
        "\n",
        "file = open(\"outputFile3\",\"w\")\n",
        "for line in Lines:\n",
        "    file.writelines(line +\"\\n\")\n",
        "file.close()\n"
      ]
    },
    {
      "cell_type": "code",
      "execution_count": null,
      "metadata": {
        "id": "id4WvqahntlW"
      },
      "outputs": [],
      "source": [
        "# %load outputFile3\n",
        "\n"
      ]
    },
    {
      "cell_type": "markdown",
      "metadata": {
        "id": "evqHr3K-ntlZ"
      },
      "source": [
        "### 2.2 Basics of file intput in Python"
      ]
    },
    {
      "cell_type": "code",
      "execution_count": null,
      "metadata": {
        "id": "CTGaMBEjntlb",
        "outputId": "f17d144e-4c29-44c6-dea1-1d96f3f10f72"
      },
      "outputs": [
        {
          "name": "stdout",
          "output_type": "stream",
          "text": [
            "x is Line 1: a;\n",
            "Line 2: b;\n",
            "Line 3: c;\n",
            "\n"
          ]
        }
      ],
      "source": [
        "# read data from a file.\n",
        "file = open(\"outputFile3\",\"r\")\n",
        "x=file.read()\n",
        "print(\"x is\", x)\n",
        "file.close()\n"
      ]
    },
    {
      "cell_type": "code",
      "execution_count": null,
      "metadata": {
        "id": "eHUZlw2dntle",
        "outputId": "8116c4df-1d68-42df-ed62-25d5189de660"
      },
      "outputs": [
        {
          "data": {
            "text/plain": [
              "('Line 1: a;\\n', 'Line 2: b;\\n', 'Line 3: c;\\n')"
            ]
          },
          "execution_count": 29,
          "metadata": {},
          "output_type": "execute_result"
        }
      ],
      "source": [
        "file = open(\"outputFile3\",\"r\")\n",
        "x=file.readline()\n",
        "y=file.readline()\n",
        "z=file.readline()\n",
        "#show what we got in x, y, z\n",
        "x, y, z\n"
      ]
    },
    {
      "cell_type": "code",
      "execution_count": null,
      "metadata": {
        "id": "cDDFUexNntli",
        "outputId": "740ca311-54bd-4d65-9691-b6d1cf6faeec"
      },
      "outputs": [
        {
          "name": "stdout",
          "output_type": "stream",
          "text": [
            "lines is ['Line 1: a;\\n', 'Line 2: b;\\n', 'Line 3: c;\\n']\n"
          ]
        }
      ],
      "source": [
        "file = open(\"outputFile3\",\"r\")\n",
        "lines=file.readlines()\n",
        "print(\"lines is\", lines)\n"
      ]
    },
    {
      "cell_type": "code",
      "execution_count": null,
      "metadata": {
        "id": "gXbuJEUcntlm",
        "outputId": "46e9c5e2-c9df-4eca-bcc6-3797c92a17e1"
      },
      "outputs": [
        {
          "data": {
            "text/plain": [
              "['Line 1: a;', 'Line 2: b;', 'Line 3: c;']"
            ]
          },
          "execution_count": 31,
          "metadata": {},
          "output_type": "execute_result"
        }
      ],
      "source": [
        "# Strip the white spaces(i.e. spaces, tabs, and specifically'\\n' in this case)\n",
        "strippedLines = [line.strip( ) for line in lines]\n",
        "strippedLines\n"
      ]
    },
    {
      "cell_type": "code",
      "execution_count": null,
      "metadata": {
        "id": "V9BwbO_kntlp",
        "outputId": "9d1065d0-7af7-4597-a5a3-49b12c42fffa"
      },
      "outputs": [
        {
          "name": "stdout",
          "output_type": "stream",
          "text": [
            "72  words in biolaVision.txt:\n",
            "\n"
          ]
        },
        {
          "data": {
            "text/plain": [
              "['biola',\n",
              " 'university',\n",
              " 'vision',\n",
              " 'is',\n",
              " 'to',\n",
              " 'be',\n",
              " 'an',\n",
              " 'exemplary',\n",
              " 'christian',\n",
              " 'university',\n",
              " 'characterized',\n",
              " 'as',\n",
              " 'a',\n",
              " 'community',\n",
              " 'of',\n",
              " 'grace',\n",
              " 'that',\n",
              " 'promotes',\n",
              " 'and',\n",
              " 'inspires',\n",
              " 'personal',\n",
              " 'life',\n",
              " 'transformation',\n",
              " 'in',\n",
              " 'christ',\n",
              " 'which',\n",
              " 'illuminates',\n",
              " 'the',\n",
              " 'world',\n",
              " 'with',\n",
              " 'his',\n",
              " 'light',\n",
              " 'and',\n",
              " 'truth',\n",
              " 'further',\n",
              " 'as',\n",
              " 'a',\n",
              " 'global',\n",
              " 'center',\n",
              " 'for',\n",
              " 'christian',\n",
              " 'thought',\n",
              " 'and',\n",
              " 'an',\n",
              " 'influential',\n",
              " 'evangelical',\n",
              " 'voice',\n",
              " 'that',\n",
              " 'addresses',\n",
              " 'crucial',\n",
              " 'cultural',\n",
              " 'issues',\n",
              " 'biola',\n",
              " 'university',\n",
              " 'aspires',\n",
              " 'to',\n",
              " 'lead',\n",
              " 'with',\n",
              " 'confidence',\n",
              " 'and',\n",
              " 'compassion',\n",
              " 'an',\n",
              " 'intellectual',\n",
              " 'and',\n",
              " 'spiritual',\n",
              " 'renewal',\n",
              " 'that',\n",
              " 'advances',\n",
              " 'the',\n",
              " 'purpose',\n",
              " 'of',\n",
              " 'christ']"
            ]
          },
          "execution_count": 32,
          "metadata": {},
          "output_type": "execute_result"
        }
      ],
      "source": [
        "# Read words from biolaVision.txt\n",
        "file = open(\"biolaVision.txt\",\"r\")\n",
        "lines = file.readlines()\n",
        "file.close()\n",
        "\n",
        "words = [line.strip( ) for line in lines]\n",
        "\n",
        "print(len(words), \" words in biolaVision.txt:\\n\")\n",
        "words"
      ]
    },
    {
      "cell_type": "markdown",
      "metadata": {
        "id": "RaW0tU-cntls"
      },
      "source": [
        "# 3. Implement typeOneArticle"
      ]
    },
    {
      "cell_type": "code",
      "execution_count": null,
      "metadata": {
        "id": "NWo5SnaTntlu"
      },
      "outputs": [],
      "source": [
        "# C++: void typeOneArticle (const char * corruptedMessageFile, const char * sourceArticle,\n",
        "#                           bool trace = false);\n",
        "# Or\n",
        "# C++: void typeOneArticle (const string corruptedMessageFile, const string sourceArticle,\n",
        "#                           bool trace = false);\n",
        "# ==>\n",
        "# Python: typeOneArticle (corruptedMessageFile, sourceArticle,\n",
        "#                           trace = False)\n"
      ]
    },
    {
      "cell_type": "code",
      "execution_count": null,
      "metadata": {
        "id": "KEQk26iOntlx"
      },
      "outputs": [],
      "source": [
        "def typeOneArticle(corruptedMessageFile, sourceArticle, trace = False):\n",
        "    file = open(sourceArticle,\"r\")\n",
        "    lines = file.readlines()\n",
        "    file.close()\n",
        "    words = [line.strip( ) for line in lines]\n",
        "\n",
        "    corruptedWords = [ typeOneWord(word) for word in words]\n",
        "    if trace:\n",
        "        print( corruptedWords )\n",
        "\n",
        "    file = open(corruptedMessageFile,\"w\")\n",
        "    for corruptedWord in corruptedWords:\n",
        "        file.writelines(corruptedWord+\"\\n\")\n",
        "    file.close()\n",
        "\n",
        "\n"
      ]
    },
    {
      "cell_type": "code",
      "execution_count": null,
      "metadata": {
        "id": "yzJ4jlf1ntl0"
      },
      "outputs": [],
      "source": [
        "pr_hit = 0.6\n",
        "pr_miss = 0.4\n",
        "deg_kb = 2\n",
        "\n",
        "pr_repeat = 0.2\n",
        "pr_moveOn = 0.8\n",
        "deg_sp = 2\n",
        "\n",
        "typeOneArticle(\"corruptedVision\", \"biolaVision.txt\")\n"
      ]
    },
    {
      "cell_type": "code",
      "execution_count": null,
      "metadata": {
        "id": "1qoxYdg9ntl2"
      },
      "outputs": [],
      "source": [
        "# %load corruptedVision"
      ]
    },
    {
      "cell_type": "markdown",
      "metadata": {
        "id": "8CWG_fsjntl5"
      },
      "source": [
        "# 4. Specifics about Program 3A"
      ]
    },
    {
      "cell_type": "code",
      "execution_count": null,
      "metadata": {
        "id": "Uanw9eHUntmB"
      },
      "outputs": [],
      "source": [
        "wordToType = \"his\"\n",
        "observedString = \"he\""
      ]
    },
    {
      "cell_type": "markdown",
      "metadata": {
        "id": "awfSmr3wntmE"
      },
      "source": [
        "# 4.1 Data Structures: Lists"
      ]
    },
    {
      "cell_type": "markdown",
      "metadata": {
        "id": "z_cmcl9pntmG"
      },
      "source": [
        "## State representations (excluding the special state I and F)"
      ]
    },
    {
      "cell_type": "code",
      "execution_count": null,
      "metadata": {
        "id": "e-jzAdvyntmJ",
        "outputId": "8b7ede2a-1986-4de5-865a-8388d41de3ac"
      },
      "outputs": [
        {
          "data": {
            "text/plain": [
              "[0, 1, 2]"
            ]
          },
          "execution_count": 38,
          "metadata": {},
          "output_type": "execute_result"
        }
      ],
      "source": [
        "state_indicices = list( range(len(wordToType) ))\n",
        "state_indicices"
      ]
    },
    {
      "cell_type": "code",
      "execution_count": null,
      "metadata": {
        "id": "gcjQqO5tntmM",
        "outputId": "e21d5423-3dc9-4e88-bc18-6f316744d435"
      },
      "outputs": [
        {
          "data": {
            "text/plain": [
              "'his'"
            ]
          },
          "execution_count": 39,
          "metadata": {},
          "output_type": "execute_result"
        }
      ],
      "source": [
        "state_chars = wordToType\n",
        "state_chars"
      ]
    },
    {
      "cell_type": "code",
      "execution_count": null,
      "metadata": {
        "id": "_WM91Hr_ntmP",
        "outputId": "1817f94a-fdc4-447a-c204-2e74ca712def"
      },
      "outputs": [
        {
          "data": {
            "text/plain": [
              "[(0, 'h'), (1, 'i'), (2, 's')]"
            ]
          },
          "execution_count": 40,
          "metadata": {},
          "output_type": "execute_result"
        }
      ],
      "source": [
        "states = [ (state_index, state_char) for state_index, state_char in zip(  state_indicices, state_chars)]\n",
        "states"
      ]
    },
    {
      "cell_type": "markdown",
      "metadata": {
        "id": "62QDnQQnntmS"
      },
      "source": [
        "## HMM representation (excluding the special state I)"
      ]
    },
    {
      "cell_type": "code",
      "execution_count": null,
      "metadata": {
        "id": "1T51rtx8ntmV",
        "outputId": "b4b31c74-8af8-4f93-b502-3b568b29fab0"
      },
      "outputs": [
        {
          "data": {
            "text/plain": [
              "[0.5714285714285714, 0.2857142857142857, 0.14285714285714285]"
            ]
          },
          "execution_count": 41,
          "metadata": {},
          "output_type": "execute_result"
        }
      ],
      "source": [
        "#At the beginning, the initial probability vector Pi after leaving the special state I\n",
        "\n",
        "vector_pi_list = getPrTableForPossibleInitialStatesGivenTheWord(wordToType)\n",
        "vector_pi_list"
      ]
    },
    {
      "cell_type": "code",
      "execution_count": null,
      "metadata": {
        "id": "CUz2h3m-ntme",
        "outputId": "e371bb3c-56e4-42f5-97bd-18969e4f1515"
      },
      "outputs": [
        {
          "data": {
            "text/plain": [
              "[[0.2, 0.4571428571428572, 0.2285714285714286, 0.1142857142857143],\n",
              " [0.0, 0.2, 0.5333333333333333, 0.26666666666666666],\n",
              " [0.0, 0.0, 0.2, 0.8]]"
            ]
          },
          "execution_count": 42,
          "metadata": {},
          "output_type": "execute_result"
        }
      ],
      "source": [
        "# Transition probability matrix A (excluding the rows for I and F and the column for I)\n",
        "lenthOfWord = len(wordToType)\n",
        "matrix_A_List = [ getPrTableForPossibleNextStatesGivenWord(wordToType, currentState) for currentState in range(lenthOfWord)]\n",
        "matrix_A_List"
      ]
    },
    {
      "cell_type": "code",
      "execution_count": null,
      "metadata": {
        "id": "FXvIDsQAntmh",
        "outputId": "87ef2ddc-7758-4770-d883-01869e6565d5"
      },
      "outputs": [
        {
          "data": {
            "text/plain": [
              "0.4571428571428572"
            ]
          },
          "execution_count": 43,
          "metadata": {},
          "output_type": "execute_result"
        }
      ],
      "source": [
        "# Access the transition probability $a_{ij}$\n",
        "i = 0; j =1\n",
        "matrix_A_List[i][j]"
      ]
    },
    {
      "cell_type": "code",
      "execution_count": null,
      "metadata": {
        "id": "DKkWN3-_ntmk",
        "outputId": "b1adbc69-24d8-4fca-b55a-7090512ee3d2"
      },
      "outputs": [
        {
          "data": {
            "text/plain": [
              "[[0.001562786154691411,\n",
              "  0.003125572309382822,\n",
              "  0.006251144618765644,\n",
              "  0.012502289237531288,\n",
              "  0.025004578475062576,\n",
              "  0.05000915695012515,\n",
              "  0.1000183139002503,\n",
              "  0.6,\n",
              "  0.1000183139002503,\n",
              "  0.05000915695012515,\n",
              "  0.025004578475062576,\n",
              "  0.012502289237531288,\n",
              "  0.006251144618765644,\n",
              "  0.003125572309382822,\n",
              "  0.001562786154691411,\n",
              "  0.0007813930773457055,\n",
              "  0.00039069653867285274,\n",
              "  0.00019534826933642637,\n",
              "  9.767413466821319e-05,\n",
              "  4.883706733410659e-05,\n",
              "  2.4418533667053296e-05,\n",
              "  4.883706733410659e-05,\n",
              "  9.767413466821319e-05,\n",
              "  0.00019534826933642637,\n",
              "  0.00039069653867285274,\n",
              "  0.0007813930773457055],\n",
              " [0.0007813930773457055,\n",
              "  0.001562786154691411,\n",
              "  0.003125572309382822,\n",
              "  0.006251144618765644,\n",
              "  0.012502289237531288,\n",
              "  0.025004578475062576,\n",
              "  0.05000915695012515,\n",
              "  0.1000183139002503,\n",
              "  0.6,\n",
              "  0.1000183139002503,\n",
              "  0.05000915695012515,\n",
              "  0.025004578475062576,\n",
              "  0.012502289237531288,\n",
              "  0.006251144618765644,\n",
              "  0.003125572309382822,\n",
              "  0.001562786154691411,\n",
              "  0.0007813930773457055,\n",
              "  0.00039069653867285274,\n",
              "  0.00019534826933642637,\n",
              "  9.767413466821319e-05,\n",
              "  4.883706733410659e-05,\n",
              "  2.4418533667053296e-05,\n",
              "  4.883706733410659e-05,\n",
              "  9.767413466821319e-05,\n",
              "  0.00019534826933642637,\n",
              "  0.00039069653867285274],\n",
              " [0.0007813930773457055,\n",
              "  0.00039069653867285274,\n",
              "  0.00019534826933642637,\n",
              "  9.767413466821319e-05,\n",
              "  4.883706733410659e-05,\n",
              "  2.4418533667053296e-05,\n",
              "  4.883706733410659e-05,\n",
              "  9.767413466821319e-05,\n",
              "  0.00019534826933642637,\n",
              "  0.00039069653867285274,\n",
              "  0.0007813930773457055,\n",
              "  0.001562786154691411,\n",
              "  0.003125572309382822,\n",
              "  0.006251144618765644,\n",
              "  0.012502289237531288,\n",
              "  0.025004578475062576,\n",
              "  0.05000915695012515,\n",
              "  0.1000183139002503,\n",
              "  0.6,\n",
              "  0.1000183139002503,\n",
              "  0.05000915695012515,\n",
              "  0.025004578475062576,\n",
              "  0.012502289237531288,\n",
              "  0.006251144618765644,\n",
              "  0.003125572309382822,\n",
              "  0.001562786154691411]]"
            ]
          },
          "execution_count": 44,
          "metadata": {},
          "output_type": "execute_result"
        }
      ],
      "source": [
        "# observation probability matrix B,\n",
        "# excluding the rows for I and F columns,\n",
        "# exclucing the columns for ReadyToType and EndOfWord\n",
        "alphabet = \"abcdefghijklmnopqrstuvwxyz\"\n",
        "matrix_B_List = [ [prCharGiveCharState(char, state_Char) for char in alphabet]\n",
        "                  for state_Char in state_chars]\n",
        "matrix_B_List"
      ]
    },
    {
      "cell_type": "code",
      "execution_count": null,
      "metadata": {
        "id": "ER4IXD1Hntmn",
        "outputId": "127dc2bc-d047-4ac6-ba2a-c3ba97ec8b95"
      },
      "outputs": [
        {
          "data": {
            "text/plain": [
              "0.001562786154691411"
            ]
          },
          "execution_count": 45,
          "metadata": {},
          "output_type": "execute_result"
        }
      ],
      "source": [
        "# Access the observation probability $b_{ij}$\n",
        "i = 0; j =0   #Typing the first character (state_index is 0) in the word but get 'a' generated\n",
        "matrix_B_List[i][j]"
      ]
    },
    {
      "cell_type": "code",
      "execution_count": null,
      "metadata": {
        "id": "J9k9AjoWntmr",
        "outputId": "29b4152e-00fb-4f5a-b3dd-40ddfbe2ec04"
      },
      "outputs": [
        {
          "data": {
            "text/plain": [
              "0.003125572309382822"
            ]
          },
          "execution_count": 46,
          "metadata": {},
          "output_type": "execute_result"
        }
      ],
      "source": [
        "# Access the observation probability $b_{ij}$\n",
        "i = 0; j =1   #Typing the first character (state_index is 0) in the word but get 'b' generated\n",
        "matrix_B_List[i][j]"
      ]
    },
    {
      "cell_type": "markdown",
      "metadata": {
        "id": "rlE4Bnkbntmu"
      },
      "source": [
        "# 4.2 Data Structures: Use np arrays as data structures instead"
      ]
    },
    {
      "cell_type": "code",
      "execution_count": null,
      "metadata": {
        "id": "ouLc3Pqzntmw"
      },
      "outputs": [],
      "source": [
        "vector_pi = np.array( vector_pi_list )\n",
        "matrix_A = np.array( matrix_A_List )\n",
        "matrix_B = np.array( matrix_B_List )"
      ]
    },
    {
      "cell_type": "code",
      "execution_count": null,
      "metadata": {
        "id": "XesEwLWAntmy",
        "outputId": "f278576d-a124-4b17-aa26-c349ceacfd94"
      },
      "outputs": [
        {
          "name": "stdout",
          "output_type": "stream",
          "text": [
            "[0.57142857 0.28571429 0.14285714]\n",
            "(3,)\n"
          ]
        },
        {
          "data": {
            "text/plain": [
              "1.0"
            ]
          },
          "execution_count": 48,
          "metadata": {},
          "output_type": "execute_result"
        }
      ],
      "source": [
        "print(vector_pi)  #Check the shape\n",
        "print(vector_pi.shape)  #Check the shape\n",
        "vector_pi.sum()         #Check the sum of probabilties"
      ]
    },
    {
      "cell_type": "code",
      "execution_count": null,
      "metadata": {
        "id": "OGu2XncWntm0",
        "outputId": "b51f1a3b-f3a0-44e4-e9aa-12c1451ce4ed"
      },
      "outputs": [
        {
          "name": "stdout",
          "output_type": "stream",
          "text": [
            "(3, 4)\n"
          ]
        },
        {
          "data": {
            "text/plain": [
              "array([1., 1., 1.])"
            ]
          },
          "execution_count": 49,
          "metadata": {},
          "output_type": "execute_result"
        }
      ],
      "source": [
        "print(matrix_A.shape)  #Check the shape\n",
        "matrix_A.sum(axis = 1) #Check the sum of probabilties on each row"
      ]
    },
    {
      "cell_type": "code",
      "execution_count": null,
      "metadata": {
        "id": "1LfORo92ntm3",
        "outputId": "ce66896d-2b24-4932-f934-32f181469c53"
      },
      "outputs": [
        {
          "name": "stdout",
          "output_type": "stream",
          "text": [
            "(3, 26)\n"
          ]
        },
        {
          "data": {
            "text/plain": [
              "array([1., 1., 1.])"
            ]
          },
          "execution_count": 50,
          "metadata": {},
          "output_type": "execute_result"
        }
      ],
      "source": [
        "print(matrix_B.shape)  #Check the shape\n",
        "matrix_B.sum(axis = 1) #Check the sum of probabilties on each row"
      ]
    },
    {
      "cell_type": "markdown",
      "metadata": {
        "id": "H7715k93ntm5"
      },
      "source": [
        "# 4.3 Ideas about implemening the forward algorithm for HMMs using Numpy arrays"
      ]
    },
    {
      "cell_type": "markdown",
      "metadata": {
        "id": "ft_yCi7Rntm9"
      },
      "source": [
        "## Example: Use the forward alforithm to figure out the probability of seeing \"ab\" (i.e \"ReadToType_ab_EndOfWord\"when the person is try to type the word \"his\"."
      ]
    },
    {
      "cell_type": "markdown",
      "metadata": {
        "id": "Sxe4cxi4ntm_"
      },
      "source": [
        "## You can use lists above as the data structures to implement the work or You may consider using numpy arrays as the data structures to implement the work. In the following, we show the basic ideas of using Numpy arrays for the implementation of the forward algorithm to figure out the probability."
      ]
    },
    {
      "cell_type": "markdown",
      "metadata": {
        "id": "MYvCWbLpntnB"
      },
      "source": [
        "## Note that in general the number of stages invloved should be 2+the number of characters in the observed string. In this case, we have 4 stages only since there are only 2 chracters observed."
      ]
    },
    {
      "cell_type": "code",
      "execution_count": null,
      "metadata": {
        "id": "TqdTNHGDntnD"
      },
      "outputs": [],
      "source": [
        "# Paraemter values for the 1D keyboad are stored in global variables; you can change them\n",
        "pr_hit = 0.6\n",
        "pr_miss = 0.4\n",
        "deg_kb = 2\n",
        "\n",
        "pr_repeat = 0.2\n",
        "pr_moveOn = 0.8\n",
        "deg_sp = 2\n",
        "\n",
        "wordToType = \"his\"\n",
        "observedString = \"ab\"\n"
      ]
    },
    {
      "cell_type": "markdown",
      "metadata": {
        "id": "wO_crvM-ntnG"
      },
      "source": [
        "## Stage 1 (The column for observing ReadyToType ): Must start at state I (probability 0 for the other states)"
      ]
    },
    {
      "cell_type": "markdown",
      "metadata": {
        "id": "RqiijCwMntnI"
      },
      "source": [
        "## Stage 2 (The column for observing 'a'): only keep the real states (excluding I and F)"
      ]
    },
    {
      "cell_type": "code",
      "execution_count": null,
      "metadata": {
        "id": "5_ITjdxMntnO",
        "outputId": "b5c8fe97-9274-4f35-9f7c-6b7cee5d2fac"
      },
      "outputs": [
        {
          "name": "stdout",
          "output_type": "stream",
          "text": [
            "(3,)\n"
          ]
        },
        {
          "data": {
            "text/plain": [
              "array([0.57142857, 0.28571429, 0.14285714])"
            ]
          },
          "execution_count": 52,
          "metadata": {},
          "output_type": "execute_result"
        }
      ],
      "source": [
        "#Probabilties of transitioning into each of the real states from I\n",
        "print( vector_pi.shape)\n",
        "vector_pi"
      ]
    },
    {
      "cell_type": "code",
      "execution_count": null,
      "metadata": {
        "id": "zq2Iii9SntnR"
      },
      "outputs": [],
      "source": [
        "#Probabilties of transitioning into each of the real states from I\n",
        "stage2_1 = vector_pi"
      ]
    },
    {
      "cell_type": "code",
      "execution_count": null,
      "metadata": {
        "id": "bCLO_DzJntnU",
        "outputId": "486f8d2c-20b6-4a69-cac2-ba06bc4bbd55"
      },
      "outputs": [
        {
          "name": "stdout",
          "output_type": "stream",
          "text": [
            "charObserved: a\n"
          ]
        },
        {
          "data": {
            "text/plain": [
              "array([0.00156279, 0.00078139, 0.00078139])"
            ]
          },
          "execution_count": 54,
          "metadata": {},
          "output_type": "execute_result"
        }
      ],
      "source": [
        "#Probabilities of observing the first character in each of the real states (excluding F)\n",
        "observationIndex = 0\n",
        "charObserved = observedString[observationIndex]\n",
        "print( \"charObserved:\", charObserved)\n",
        "indexOfObservedChar = ord(charObserved) - ord('a')\n",
        "matrix_B[:, indexOfObservedChar]"
      ]
    },
    {
      "cell_type": "code",
      "execution_count": null,
      "metadata": {
        "id": "jf_RVp1OntnY",
        "outputId": "e5c2da3a-f7f5-4d84-87b6-b8e040abe834"
      },
      "outputs": [
        {
          "data": {
            "text/plain": [
              "array([0.00089302, 0.00022326, 0.00011163])"
            ]
          },
          "execution_count": 55,
          "metadata": {},
          "output_type": "execute_result"
        }
      ],
      "source": [
        "# Combine the two items above to calculate\n",
        "# Probabilities of ending in each of the real states (excluding F) and observing a\n",
        "stage2_2 = stage2_1*matrix_B[:, indexOfObservedChar]\n",
        "stage2_2"
      ]
    },
    {
      "cell_type": "markdown",
      "metadata": {
        "id": "v7suXEMAntnb"
      },
      "source": [
        "## Stage 3 (The column for observing 'b'): only keep the real states (excluding I and F)"
      ]
    },
    {
      "cell_type": "code",
      "execution_count": null,
      "metadata": {
        "id": "J0KdE43sntnd",
        "outputId": "516f2dcb-dfe0-464f-87c2-516973340378"
      },
      "outputs": [
        {
          "data": {
            "text/plain": [
              "array([0.00089302, 0.00022326, 0.00011163])"
            ]
          },
          "execution_count": 56,
          "metadata": {},
          "output_type": "execute_result"
        }
      ],
      "source": [
        "stage2_2"
      ]
    },
    {
      "cell_type": "code",
      "execution_count": null,
      "metadata": {
        "id": "vCnLZtjrntng",
        "outputId": "e8701ebe-0c08-4541-8004-aac474eeb801"
      },
      "outputs": [
        {
          "name": "stdout",
          "output_type": "stream",
          "text": [
            "(3, 1)\n"
          ]
        },
        {
          "data": {
            "text/plain": [
              "array([[0.00089302],\n",
              "       [0.00022326],\n",
              "       [0.00011163]])"
            ]
          },
          "execution_count": 57,
          "metadata": {},
          "output_type": "execute_result"
        }
      ],
      "source": [
        "stage2_2[:, np.newaxis]\n",
        "print( stage2_2[:, np.newaxis].shape )\n",
        "stage2_2[:, np.newaxis]"
      ]
    },
    {
      "cell_type": "code",
      "execution_count": null,
      "metadata": {
        "id": "kluMd4j0ntni",
        "outputId": "1cc52c64-6184-4876-a073-b4d9979e55e7"
      },
      "outputs": [
        {
          "data": {
            "text/plain": [
              "array([[1.78604132e-04, 4.08238016e-04, 2.04119008e-04, 1.02059504e-04],\n",
              "       [0.00000000e+00, 4.46510330e-05, 1.19069421e-04, 5.95347107e-05],\n",
              "       [0.00000000e+00, 0.00000000e+00, 2.23255165e-05, 8.93020660e-05]])"
            ]
          },
          "execution_count": 58,
          "metadata": {},
          "output_type": "execute_result"
        }
      ],
      "source": [
        "#Probabilties of further transitioning into each of the real states\n",
        "stage3_1 = stage2_2[:, np.newaxis]  * matrix_A\n",
        "stage3_1"
      ]
    },
    {
      "cell_type": "code",
      "execution_count": null,
      "metadata": {
        "id": "rxJOsOW1ntnl",
        "outputId": "58c835b3-4f5c-4a30-d658-39918b764186"
      },
      "outputs": [
        {
          "data": {
            "text/plain": [
              "array([0.0001786 , 0.00045289, 0.00034551, 0.0002509 ])"
            ]
          },
          "execution_count": 59,
          "metadata": {},
          "output_type": "execute_result"
        }
      ],
      "source": [
        "stage3_2 = stage3_1.sum(axis = 0)\n",
        "stage3_2"
      ]
    },
    {
      "cell_type": "code",
      "execution_count": null,
      "metadata": {
        "id": "KwZy2_CCntnp",
        "outputId": "53a98e5b-545c-49e9-d22d-69689ca8f027"
      },
      "outputs": [
        {
          "data": {
            "text/plain": [
              "array([0.0001786 , 0.00045289, 0.00034551])"
            ]
          },
          "execution_count": 60,
          "metadata": {},
          "output_type": "execute_result"
        }
      ],
      "source": [
        "#Probabilities of ending in each of the real states (excluding F)\n",
        "stage3_2[:-1]"
      ]
    },
    {
      "cell_type": "code",
      "execution_count": null,
      "metadata": {
        "id": "INBaj_Mpntns",
        "outputId": "7026cccc-3c68-45f6-8d33-8ccc5ed45a0e"
      },
      "outputs": [
        {
          "name": "stdout",
          "output_type": "stream",
          "text": [
            "charObserved: b\n"
          ]
        },
        {
          "data": {
            "text/plain": [
              "array([0.00312557, 0.00156279, 0.0003907 ])"
            ]
          },
          "execution_count": 61,
          "metadata": {},
          "output_type": "execute_result"
        }
      ],
      "source": [
        "#Probabilities of observing the second character in each of the real states (excluding F)\n",
        "observationIndex = 1\n",
        "charObserved = observedString[observationIndex]\n",
        "print( \"charObserved:\", charObserved)\n",
        "indexOfObservedChar = ord(charObserved) - ord('a')\n",
        "matrix_B[:, indexOfObservedChar]\n"
      ]
    },
    {
      "cell_type": "code",
      "execution_count": null,
      "metadata": {
        "id": "H00N1kvyntnv",
        "outputId": "e8e792b5-0eed-45cc-89eb-a0bd64811e76"
      },
      "outputs": [
        {
          "data": {
            "text/plain": [
              "array([5.58240129e-07, 7.07768735e-07, 1.34991103e-07])"
            ]
          },
          "execution_count": 62,
          "metadata": {},
          "output_type": "execute_result"
        }
      ],
      "source": [
        "# Combine the two items above to calculate\n",
        "# Probabilities of ending in each of the real states (excluding F) and observing b\n",
        "stage3_3 = stage3_2[:-1]*matrix_B[:, indexOfObservedChar]\n",
        "stage3_3"
      ]
    },
    {
      "cell_type": "markdown",
      "metadata": {
        "id": "sM-QiGFintnz"
      },
      "source": [
        "## Stage 4 (The column for observing EndOfWord ): Must be in the Final State F (probability = 0 for the other states)"
      ]
    },
    {
      "cell_type": "code",
      "execution_count": null,
      "metadata": {
        "id": "ZM966-Uentn1",
        "outputId": "61b099c2-5d95-420d-866a-47a0b83416b5"
      },
      "outputs": [
        {
          "data": {
            "text/plain": [
              "array([5.58240129e-07, 7.07768735e-07, 1.34991103e-07])"
            ]
          },
          "execution_count": 63,
          "metadata": {},
          "output_type": "execute_result"
        }
      ],
      "source": [
        "# Probabilities of ending in each of the real states (excluding F) and observing b\n",
        "stage3_3"
      ]
    },
    {
      "cell_type": "code",
      "execution_count": null,
      "metadata": {
        "id": "04kLYWCZntn5",
        "outputId": "e1b914f7-e1a7-4d1b-aee5-6089d7985a9a"
      },
      "outputs": [
        {
          "data": {
            "text/plain": [
              "array([0.11428571, 0.26666667, 0.8       ])"
            ]
          },
          "execution_count": 64,
          "metadata": {},
          "output_type": "execute_result"
        }
      ],
      "source": [
        "# Probabilities of then transitioning to F from each of the real states\n",
        "matrix_A[:, len( wordToType)]"
      ]
    },
    {
      "cell_type": "code",
      "execution_count": null,
      "metadata": {
        "id": "1-xgcjIpntn8",
        "outputId": "f9c82abd-d2d6-4c3d-dee4-ad7797fd75a9"
      },
      "outputs": [
        {
          "data": {
            "text/plain": [
              "array([6.37988719e-08, 1.88738329e-07, 1.07992882e-07])"
            ]
          },
          "execution_count": 65,
          "metadata": {},
          "output_type": "execute_result"
        }
      ],
      "source": [
        "# Combine the two items above to calculate the\n",
        "# Probabilities of then transition to F and ending the typing process of the word\n",
        "# Transisiton to F (index 3 in this case )\n",
        "stage4_1 = stage3_3 * matrix_A[:, len( wordToType)]\n",
        "stage4_1"
      ]
    },
    {
      "cell_type": "code",
      "execution_count": null,
      "metadata": {
        "id": "_5Qxj8yEntoA"
      },
      "outputs": [],
      "source": [
        "# The result is the sum of all these probabilities"
      ]
    },
    {
      "cell_type": "code",
      "execution_count": null,
      "metadata": {
        "id": "jf-YM9euntoG",
        "outputId": "ed6c78c4-6176-433b-d260-525764f5f724"
      },
      "outputs": [
        {
          "data": {
            "text/plain": [
              "3.6053008344833416e-07"
            ]
          },
          "execution_count": 67,
          "metadata": {},
          "output_type": "execute_result"
        }
      ],
      "source": [
        "result = stage4_1.sum()\n",
        "result"
      ]
    },
    {
      "cell_type": "markdown",
      "metadata": {
        "id": "W7wCYXwGntoJ"
      },
      "source": [
        "## The result above is also what you would get from the sample demo program for HMMs.\n",
        "# * * * * * * * * * * * * * * * * * * * * * * * * * * * * * * * * * * * *"
      ]
    },
    {
      "cell_type": "markdown",
      "metadata": {
        "id": "MeCLBuZEntoL"
      },
      "source": [
        "# 4.4 Complete the implementation of the forward algorithm below ==>\n",
        "## Define a function prOf1CharSeriesWhenTyping1Word_F to generalize the process (of the forward algorithm) demonstrated in the case above for any given wordToType and any given observedString"
      ]
    },
    {
      "cell_type": "code",
      "execution_count": null,
      "metadata": {
        "id": "oBzZM_TrntoN"
      },
      "outputs": [],
      "source": [
        "# Using the forward algorithm algorithm to determine the probability:\n",
        "# The function should calculate and return\n",
        "#     the probability of getting the string d\n",
        "#     when the user (modelled by the parameter values of pr_hit, pr_repeat, degenerate_kb, ...)\n",
        "#     want to type the word in string w\n",
        "# When the trace is True, the function will report the trace of computation done.\n",
        "\n",
        "def prOf1CharSeriesWhenTyping1Word_F(observedString, wordToType, trace = False):\n",
        "    #The probability distribution after leaving I\n",
        "    vector_pi_list = getPrTableForPossibleInitialStatesGivenTheWord(wordToType)\n",
        "\n",
        "    #The transition probability matrix A\n",
        "    lenthOfWord = len(wordToType)\n",
        "    matrix_A_List = [ getPrTableForPossibleNextStatesGivenWord(wordToType, currentState)\n",
        "                      for currentState in range(lenthOfWord)]\n",
        "\n",
        "    #The observation probability matrix B\n",
        "    alphabet = \"abcdefghijklmnopqrstuvwxyz\"\n",
        "    matrix_B_List = [ [prCharGiveCharState(char, state_Char) for char in alphabet]\n",
        "                      for state_Char in wordToType]\n",
        "\n",
        "    ##############################################\n",
        "    #Cast them into numpy arrays\n",
        "    ##############################################\n",
        "    vector_pi = np.array( vector_pi_list )\n",
        "    matrix_A = np.array( matrix_A_List )\n",
        "    matrix_B = np.array( matrix_B_List )\n",
        "\n",
        "    if trace == True:\n",
        "        print(\"vector_pi\", vector_pi.shape, \":\\n\", vector_pi)\n",
        "        print(\"matrix_A\", matrix_A.shape, \":\\n\", matrix_A)\n",
        "        print(\"matrix_B\", matrix_B.shape, \":\\n\", matrix_B)\n",
        "\n",
        "    ##############################################\n",
        "    #For the first column (corresponding to the first character observed)\n",
        "    ##############################################\n",
        "    observationIndex = 0\n",
        "    charObserved = observedString[observationIndex]\n",
        "    if trace == True:\n",
        "        print( \"\\n\\nobservationIndex, charObserved:\", observationIndex, \",\", charObserved)\n",
        "    indexOfObservedCharInAlphabet = ord(charObserved) - ord('a');\n",
        "\n",
        "    #transitionProbabilties record the 1st-stage results of a column regarding\n",
        "    #    the probabilities of ending in each of the states at this point\n",
        "    transitionProbabilties = vector_pi\n",
        "    if trace == True:\n",
        "        print(\"Probabilties of ending at the states at this point:\\n\", transitionProbabilties)\n",
        "\n",
        "    #columnProbabilities record the 2nd-stage results of a column regarding\n",
        "    #    the probabilities of ending in each of the states at this point and also\n",
        "    #                         seeing the specific character at this point\n",
        "    observationProbabilities = matrix_B[:, indexOfObservedCharInAlphabet]\n",
        "    if trace == True:\n",
        "        print(\"probabilities of observing \", charObserved, \" at specific states alone:\\n\",\n",
        "              observationProbabilities)\n",
        "\n",
        "    columnProbabilities = transitionProbabilties * observationProbabilities\n",
        "    if trace == True:\n",
        "        print(\"Probabilties of observing up to\", charObserved,\n",
        "              \" and ending at the states at this point:\\n\", columnProbabilities)\n",
        "\n",
        "\n",
        "    ##############################################\n",
        "    # For the remaining columns one at a time\n",
        "    ##############################################\n",
        "    lenthOfObservedString = len(observedString)\n",
        "    for observationIndex in np.arange(1, lenthOfObservedString):\n",
        "        charObserved = observedString[observationIndex]\n",
        "        if trace == True:\n",
        "            print( \"\\nobservationIndex, charObserved:\", observationIndex, \",\", charObserved)\n",
        "\n",
        "        ##############################################################\n",
        "        ## write the reamining part of the body of the for loop\n",
        "        ##############################################################\n",
        "        # observationProbabilities = matrix_B[:, indexOfObservedCharInAlphabet]\n",
        "        if trace == True:\n",
        "            print(\"probabilities of observing \", charObserved, \" at specific states alone:\\n\",\n",
        "              observationProbabilities)\n",
        "        transitionProbabilities2 = columnProbabilities[:, np.newaxis] * matrix_A\n",
        "        transitionProbabilities = transitionProbabilities2.sum(axis = 0)\n",
        "        #if trace == True:\n",
        "           # print(\"Transition probabilities at this point: \", transitionProbabilities2)\n",
        "        columnProbabilities = observationProbabilities * transitionProbabilities[:-1]\n",
        "\n",
        "        if trace == True:\n",
        "            print(\"Probabilities of observing up to\", charObserved, \" and ending at the states at this point:\\n \", columnProbabilities)\n",
        "\n",
        "        # for observationIndex in np.arrange(1, lenthOfObservedString)\n",
        "        # columnProbabilities[:, np.newaxis]\n",
        "        # columnProbabilities2 = columnPorbabilities[:, np.newaxis] * matrix_A.sum\n",
        "        # columnProbabilities = columnProbabilities2[:-1] * matrix_B[:, indexOfObservedChar]\n",
        "        # ...\n",
        "        # ...\n",
        "\n",
        "    ##############################################\n",
        "    # Determine the sum of probabilities of transitioning to the Final state F from each state\n",
        "    ##############################################\n",
        "    if trace == True:\n",
        "        print(\"\\nprobabilities of transitioning to F from states at this point:\\n\",\n",
        "              matrix_A[:, len( wordToType)] )\n",
        "    pr = (columnProbabilities * matrix_A[:, len( wordToType)]).sum()\n",
        "    if trace == True:\n",
        "        print(\"\\nSum of the probabilitie above:\", pr);\n",
        "\n",
        "    return pr\n"
      ]
    },
    {
      "cell_type": "code",
      "execution_count": null,
      "metadata": {
        "id": "aZuXi0dmntoU",
        "outputId": "227bcd7a-59ec-4bc7-ce66-b8c8a6c68e9e"
      },
      "outputs": [
        {
          "name": "stdout",
          "output_type": "stream",
          "text": [
            "vector_pi (3,) :\n",
            " [0.57142857 0.28571429 0.14285714]\n",
            "matrix_A (3, 4) :\n",
            " [[0.2        0.45714286 0.22857143 0.11428571]\n",
            " [0.         0.2        0.53333333 0.26666667]\n",
            " [0.         0.         0.2        0.8       ]]\n",
            "matrix_B (3, 26) :\n",
            " [[6.00000000e-01 1.00018314e-01 5.00091570e-02 2.50045785e-02\n",
            "  1.25022892e-02 6.25114462e-03 3.12557231e-03 1.56278615e-03\n",
            "  7.81393077e-04 3.90696539e-04 1.95348269e-04 9.76741347e-05\n",
            "  4.88370673e-05 2.44185337e-05 4.88370673e-05 9.76741347e-05\n",
            "  1.95348269e-04 3.90696539e-04 7.81393077e-04 1.56278615e-03\n",
            "  3.12557231e-03 6.25114462e-03 1.25022892e-02 2.50045785e-02\n",
            "  5.00091570e-02 1.00018314e-01]\n",
            " [1.00018314e-01 6.00000000e-01 1.00018314e-01 5.00091570e-02\n",
            "  2.50045785e-02 1.25022892e-02 6.25114462e-03 3.12557231e-03\n",
            "  1.56278615e-03 7.81393077e-04 3.90696539e-04 1.95348269e-04\n",
            "  9.76741347e-05 4.88370673e-05 2.44185337e-05 4.88370673e-05\n",
            "  9.76741347e-05 1.95348269e-04 3.90696539e-04 7.81393077e-04\n",
            "  1.56278615e-03 3.12557231e-03 6.25114462e-03 1.25022892e-02\n",
            "  2.50045785e-02 5.00091570e-02]\n",
            " [5.00091570e-02 1.00018314e-01 6.00000000e-01 1.00018314e-01\n",
            "  5.00091570e-02 2.50045785e-02 1.25022892e-02 6.25114462e-03\n",
            "  3.12557231e-03 1.56278615e-03 7.81393077e-04 3.90696539e-04\n",
            "  1.95348269e-04 9.76741347e-05 4.88370673e-05 2.44185337e-05\n",
            "  4.88370673e-05 9.76741347e-05 1.95348269e-04 3.90696539e-04\n",
            "  7.81393077e-04 1.56278615e-03 3.12557231e-03 6.25114462e-03\n",
            "  1.25022892e-02 2.50045785e-02]]\n",
            "\n",
            "\n",
            "observationIndex, charObserved: 0 , b\n",
            "Probabilties of ending at the states at this point:\n",
            " [0.57142857 0.28571429 0.14285714]\n",
            "probabilities of observing  b  at specific states alone:\n",
            " [0.10001831 0.6        0.10001831]\n",
            "Probabilties of observing up to b  and ending at the states at this point:\n",
            " [0.05715332 0.17142857 0.01428833]\n",
            "\n",
            "observationIndex, charObserved: 1 , b\n",
            "probabilities of observing  b  at specific states alone:\n",
            " [0.10001831 0.6        0.10001831]\n",
            "Probabilities of observing up to b  and ending at the states at this point:\n",
            "  [0.00114328 0.03624777 0.01073695]\n",
            "\n",
            "observationIndex, charObserved: 2 , d\n",
            "probabilities of observing  d  at specific states alone:\n",
            " [0.10001831 0.6        0.10001831]\n",
            "Probabilities of observing up to d  and ending at the states at this point:\n",
            "  [2.28697033e-05 4.66331642e-03 2.17448352e-03]\n",
            "\n",
            "probabilities of transitioning to F from states at this point:\n",
            " [0.11428571 0.26666667 0.8       ]\n",
            "\n",
            "Sum of the probabilitie above: 0.00298575154160429\n"
          ]
        },
        {
          "data": {
            "text/plain": [
              "0.00298575154160429"
            ]
          },
          "execution_count": 224,
          "metadata": {},
          "output_type": "execute_result"
        }
      ],
      "source": [
        "prOf1CharSeriesWhenTyping1Word_F(\"bbd\", \"abc\", True)"
      ]
    },
    {
      "cell_type": "code",
      "execution_count": null,
      "metadata": {
        "id": "swl-982entoW",
        "outputId": "f12f4e2f-7eeb-4e56-ef97-57ceba759a9a"
      },
      "outputs": [
        {
          "name": "stdout",
          "output_type": "stream",
          "text": [
            "vector_pi (3,) :\n",
            " [0.57142857 0.28571429 0.14285714]\n",
            "matrix_A (3, 4) :\n",
            " [[0.2        0.45714286 0.22857143 0.11428571]\n",
            " [0.         0.2        0.53333333 0.26666667]\n",
            " [0.         0.         0.2        0.8       ]]\n",
            "matrix_B (3, 26) :\n",
            " [[1.56278615e-03 3.12557231e-03 6.25114462e-03 1.25022892e-02\n",
            "  2.50045785e-02 5.00091570e-02 1.00018314e-01 6.00000000e-01\n",
            "  1.00018314e-01 5.00091570e-02 2.50045785e-02 1.25022892e-02\n",
            "  6.25114462e-03 3.12557231e-03 1.56278615e-03 7.81393077e-04\n",
            "  3.90696539e-04 1.95348269e-04 9.76741347e-05 4.88370673e-05\n",
            "  2.44185337e-05 4.88370673e-05 9.76741347e-05 1.95348269e-04\n",
            "  3.90696539e-04 7.81393077e-04]\n",
            " [7.81393077e-04 1.56278615e-03 3.12557231e-03 6.25114462e-03\n",
            "  1.25022892e-02 2.50045785e-02 5.00091570e-02 1.00018314e-01\n",
            "  6.00000000e-01 1.00018314e-01 5.00091570e-02 2.50045785e-02\n",
            "  1.25022892e-02 6.25114462e-03 3.12557231e-03 1.56278615e-03\n",
            "  7.81393077e-04 3.90696539e-04 1.95348269e-04 9.76741347e-05\n",
            "  4.88370673e-05 2.44185337e-05 4.88370673e-05 9.76741347e-05\n",
            "  1.95348269e-04 3.90696539e-04]\n",
            " [7.81393077e-04 3.90696539e-04 1.95348269e-04 9.76741347e-05\n",
            "  4.88370673e-05 2.44185337e-05 4.88370673e-05 9.76741347e-05\n",
            "  1.95348269e-04 3.90696539e-04 7.81393077e-04 1.56278615e-03\n",
            "  3.12557231e-03 6.25114462e-03 1.25022892e-02 2.50045785e-02\n",
            "  5.00091570e-02 1.00018314e-01 6.00000000e-01 1.00018314e-01\n",
            "  5.00091570e-02 2.50045785e-02 1.25022892e-02 6.25114462e-03\n",
            "  3.12557231e-03 1.56278615e-03]]\n",
            "\n",
            "\n",
            "observationIndex, charObserved: 0 , h\n",
            "Probabilties of ending at the states at this point:\n",
            " [0.57142857 0.28571429 0.14285714]\n",
            "probabilities of observing  h  at specific states alone:\n",
            " [6.00000000e-01 1.00018314e-01 9.76741347e-05]\n",
            "Probabilties of observing up to h  and ending at the states at this point:\n",
            " [3.42857143e-01 2.85766611e-02 1.39534478e-05]\n",
            "\n",
            "observationIndex, charObserved: 1 , i\n",
            "probabilities of observing  i  at specific states alone:\n",
            " [6.00000000e-01 1.00018314e-01 9.76741347e-05]\n",
            "Probabilities of observing up to i  and ending at the states at this point:\n",
            "  [4.11428571e-02 1.62479777e-02 9.14337572e-06]\n",
            "\n",
            "observationIndex, charObserved: 2 , s\n",
            "probabilities of observing  s  at specific states alone:\n",
            " [6.00000000e-01 1.00018314e-01 9.76741347e-05]\n",
            "Probabilities of observing up to s  and ending at the states at this point:\n",
            "  [4.93714286e-03 2.20617984e-03 1.76511797e-06]\n",
            "\n",
            "probabilities of transitioning to F from states at this point:\n",
            " [0.11428571 0.26666667 0.8       ]\n",
            "\n",
            "Sum of the probabilitie above: 0.0011539716174544866\n"
          ]
        },
        {
          "data": {
            "text/plain": [
              "0.0011539716174544866"
            ]
          },
          "execution_count": 225,
          "metadata": {},
          "output_type": "execute_result"
        }
      ],
      "source": [
        "# With trace\n",
        "prOf1CharSeriesWhenTyping1Word_F(\"his\", \"his\", True)"
      ]
    },
    {
      "cell_type": "code",
      "execution_count": null,
      "metadata": {
        "id": "-fF3B3hBntob",
        "outputId": "37987139-194b-4d47-9349-ec8d0bdd177f"
      },
      "outputs": [
        {
          "data": {
            "text/plain": [
              "0.0011539716174544866"
            ]
          },
          "execution_count": 208,
          "metadata": {},
          "output_type": "execute_result"
        }
      ],
      "source": [
        "# No trace\n",
        "prOf1CharSeriesWhenTyping1Word_F(\"his\", \"his\")"
      ]
    },
    {
      "cell_type": "code",
      "execution_count": null,
      "metadata": {
        "id": "wIEwgkEZntoe",
        "outputId": "8d14c6a1-1003-4a65-c87e-69aa992ca427"
      },
      "outputs": [
        {
          "data": {
            "text/plain": [
              "1.508716565989372e-25"
            ]
          },
          "execution_count": 168,
          "metadata": {},
          "output_type": "execute_result"
        }
      ],
      "source": [
        "prOf1CharSeriesWhenTyping1Word_F(\"sasdfsdfsdfsdfsdfsfafsdfdasff\", \"sdfsdfsdfsfparameters\")"
      ]
    },
    {
      "cell_type": "code",
      "execution_count": null,
      "metadata": {
        "id": "sUukuDWdntoj"
      },
      "outputs": [],
      "source": []
    }
  ],
  "metadata": {
    "kernelspec": {
      "display_name": "Python 3 (ipykernel)",
      "language": "python",
      "name": "python3"
    },
    "language_info": {
      "codemirror_mode": {
        "name": "ipython",
        "version": 3
      },
      "file_extension": ".py",
      "mimetype": "text/x-python",
      "name": "python",
      "nbconvert_exporter": "python",
      "pygments_lexer": "ipython3",
      "version": "3.11.4"
    },
    "colab": {
      "provenance": [],
      "include_colab_link": true
    }
  },
  "nbformat": 4,
  "nbformat_minor": 0
}